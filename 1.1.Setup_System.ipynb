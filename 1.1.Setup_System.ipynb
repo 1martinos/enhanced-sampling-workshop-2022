{
 "cells": [
  {
   "cell_type": "markdown",
   "id": "04fcef54-9cd3-4885-9972-e35345981784",
   "metadata": {
    "tags": []
   },
   "source": [
    "# 1.1 Setting up the system for OpenMM (NaCl)"
   ]
  },
  {
   "cell_type": "markdown",
   "id": "5f6a27d6-9258-4842-8064-d92ed2bc05ef",
   "metadata": {
    "tags": []
   },
   "source": [
    "## Imports"
   ]
  },
  {
   "cell_type": "code",
   "execution_count": 1,
   "id": "defcc4c3-b05b-4a85-af78-3e3bd2d0c9d7",
   "metadata": {},
   "outputs": [
    {
     "name": "stderr",
     "output_type": "stream",
     "text": [
      "Warning: importing 'simtk.openmm' is deprecated.  Import 'openmm' instead.\n"
     ]
    }
   ],
   "source": [
    "## import required packages\n",
    "import os, math, sys\n",
    "import numpy as np\n",
    "import matplotlib.pyplot as plt\n",
    "import simtk.openmm.app  as omm_app\n",
    "import simtk.openmm as omm\n",
    "import simtk.unit as unit\n",
    "from tqdm import tqdm\n"
   ]
  },
  {
   "cell_type": "markdown",
   "id": "4b4b53e1-6995-422d-89c9-3028ad8fdda7",
   "metadata": {
    "tags": []
   },
   "source": [
    "## Introduction\n",
    "### Simulating NaCl in water\n",
    "\n",
    "For the purpose of our workshop, we previously parameterized a Na+ Cl- complex, solvated the system and generated the necessary files  for simulation (topology and parameters which can be found under the **/toppar** folder). "
   ]
  },
  {
   "cell_type": "markdown",
   "id": "6ba68841-914d-4377-b1a8-aef54883ae40",
   "metadata": {},
   "source": [
    "**Our system looks like this:**"
   ]
  },
  {
   "cell_type": "markdown",
   "id": "46456159-19fb-4ed1-b956-418f9988d86b",
   "metadata": {},
   "source": [
    "<center>\n",
    "<img src=\"images/solvated_system.png\" alt=\"NaCl\" width=\"500\"/>\n",
    "</center>"
   ]
  },
  {
   "cell_type": "code",
   "execution_count": null,
   "id": "4feded1f-8d38-4df3-83d0-8faf11edac8a",
   "metadata": {},
   "outputs": [],
   "source": []
  },
  {
   "cell_type": "code",
   "execution_count": null,
   "id": "2ae312e8-0965-46fe-9341-d28d2e26d82c",
   "metadata": {},
   "outputs": [],
   "source": []
  },
  {
   "cell_type": "markdown",
   "id": "14c7790a-5fe7-4d32-98f8-c9409c91b86a",
   "metadata": {},
   "source": [
    "## Code"
   ]
  },
  {
   "cell_type": "code",
   "execution_count": 2,
   "id": "cbb8ffcb-41dd-41fb-8175-70414d786eec",
   "metadata": {},
   "outputs": [],
   "source": [
    "psf_file = 'toppar/step3_input.psf'\n",
    "pdb_file = 'toppar/step3_input.pdb'"
   ]
  },
  {
   "cell_type": "code",
   "execution_count": 3,
   "id": "28909c76-76e7-4542-90ce-018a28b4e247",
   "metadata": {},
   "outputs": [],
   "source": [
    "psf = omm_app.CharmmPsfFile(psf_file)\n",
    "pdb = omm_app.PDBFile(pdb_file)"
   ]
  },
  {
   "cell_type": "code",
   "execution_count": 4,
   "id": "98059c7f-957f-47ed-b340-0fed0931fa27",
   "metadata": {},
   "outputs": [],
   "source": [
    "params = omm_app.CharmmParameterSet('toppar/toppar_water_ions.str')"
   ]
  },
  {
   "cell_type": "code",
   "execution_count": 5,
   "id": "87c1f047-1baf-44ce-a8ac-27ae445db736",
   "metadata": {},
   "outputs": [],
   "source": [
    "## creay an OpenMM system\n",
    "system = psf.createSystem(params)"
   ]
  },
  {
   "cell_type": "code",
   "execution_count": 6,
   "id": "bf83fcb1-3ee9-4809-8a5c-71200d9f1c86",
   "metadata": {},
   "outputs": [
    {
     "data": {
      "text/plain": [
       "9"
      ]
     },
     "execution_count": 6,
     "metadata": {},
     "output_type": "execute_result"
    }
   ],
   "source": [
    "## add a harmonic biasing potential on butane dihedral to the OpenMM system\n",
    "bias_bond = omm.CustomBondForce(\"0.5*k*(r-r0)^2\")\n",
    "bias_bond.addGlobalParameter(\"k\", 1.0)\n",
    "bias_bond.addGlobalParameter(\"r0\", 0.0)\n",
    "bias_bond.addBond(0, 1)\n",
    "system.addForce(bias_bond)"
   ]
  },
  {
   "cell_type": "code",
   "execution_count": 7,
   "id": "f2cacd03-0f82-4f30-a360-2bff9648ae64",
   "metadata": {},
   "outputs": [],
   "source": [
    "## save the OpenMM system\n",
    "with open(\"output_files/NaCl_solvated_system\", 'w') as file_handle:\n",
    "    file_handle.write(omm.XmlSerializer.serialize(system))"
   ]
  },
  {
   "cell_type": "code",
   "execution_count": null,
   "id": "6c4a700b-5267-48a9-aec7-5431539fedea",
   "metadata": {},
   "outputs": [],
   "source": []
  },
  {
   "cell_type": "code",
   "execution_count": null,
   "id": "e20b304b-9304-4ee0-9bef-36f756972aba",
   "metadata": {},
   "outputs": [],
   "source": []
  },
  {
   "cell_type": "code",
   "execution_count": null,
   "id": "6e80a484-56ff-4e6f-a6f7-68fb264cc176",
   "metadata": {},
   "outputs": [],
   "source": []
  },
  {
   "cell_type": "code",
   "execution_count": null,
   "id": "134594fa-d9ed-488f-bef8-4a464f875d79",
   "metadata": {},
   "outputs": [],
   "source": []
  }
 ],
 "metadata": {
  "kernelspec": {
   "display_name": "Python 3 (ipykernel)",
   "language": "python",
   "name": "python3"
  },
  "language_info": {
   "codemirror_mode": {
    "name": "ipython",
    "version": 3
   },
   "file_extension": ".py",
   "mimetype": "text/x-python",
   "name": "python",
   "nbconvert_exporter": "python",
   "pygments_lexer": "ipython3",
   "version": "3.7.12"
  }
 },
 "nbformat": 4,
 "nbformat_minor": 5
}

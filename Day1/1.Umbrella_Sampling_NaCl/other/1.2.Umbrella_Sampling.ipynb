{
 "cells": [
  {
   "cell_type": "markdown",
   "id": "542da13e-ac9e-4378-afd2-74548ea101e3",
   "metadata": {},
   "source": [
    "# 1.2 Running Umbrella Sampling on NaCl"
   ]
  },
  {
   "cell_type": "markdown",
   "id": "c57ff981-1127-46ec-b2f5-0b35c26307e6",
   "metadata": {
    "tags": []
   },
   "source": [
    "## Imports"
   ]
  },
  {
   "cell_type": "code",
   "execution_count": 11,
   "id": "defcc4c3-b05b-4a85-af78-3e3bd2d0c9d7",
   "metadata": {},
   "outputs": [],
   "source": [
    "## import required packages\n",
    "import os, math, sys\n",
    "import numpy as np\n",
    "import matplotlib.pyplot as plt\n",
    "import simtk.openmm.app  as omm_app\n",
    "import simtk.openmm as omm\n",
    "import simtk.unit as unit\n",
    "from tqdm.notebook import tqdm_notebook"
   ]
  },
  {
   "cell_type": "markdown",
   "id": "3dff0633-13bf-40a9-8559-ee47d1e34255",
   "metadata": {
    "tags": []
   },
   "source": [
    "### Aims of this Notebook"
   ]
  },
  {
   "cell_type": "markdown",
   "id": "346a5da9-685c-4b4f-82f6-51eca631732d",
   "metadata": {},
   "source": [
    "The aim of this notebook is to refresh how Umbrella Sampling works, what is needed to run it, and how to run it on the OpenMM framework. \n",
    "\n",
    "You will learn: \n",
    "1. Read in a previously created OpenMM system for simulation.\n",
    "2. Set up the simulation parameters (Temperature, step size, friction, etc.).\n",
    "3. Set up the umbrella centers across our reaction coordinate, with a defined force constant.\n",
    "4. Run minimization/equilibration/production on each of the umbrellas. "
   ]
  },
  {
   "cell_type": "markdown",
   "id": "74011d74-3a23-482d-991c-1a7d039e8cad",
   "metadata": {
    "tags": []
   },
   "source": [
    "## Introduction"
   ]
  },
  {
   "cell_type": "markdown",
   "id": "727d329a-2e08-4492-997a-5cdc8887c3f4",
   "metadata": {},
   "source": [
    "In **umbrella sampling**, the reaction coordinate (RC) which we want to sample fir is split into multiple windows and in each window, the RC (an atomic distance in our NaCl example) is restrained around each centre using the harmonic biasing potential. We will run simulations in each window sequentially, but of course they can run in parallel in your typical workstation. "
   ]
  },
  {
   "cell_type": "markdown",
   "id": "89a405bf-1767-4782-bf93-b31cf0e92c43",
   "metadata": {},
   "source": [
    "<center>\n",
    "<img src=\"images/US.jpg\" alt=\"NaCl\" width=\"500\"/>\n",
    "</center>"
   ]
  },
  {
   "cell_type": "markdown",
   "id": "8e032ae2-eb44-41e1-8b34-a4ea295a988b",
   "metadata": {},
   "source": [
    "**Note:** From this production, the data we will get will be **biased**. in order to be able to get back any kinetics or a correct free energy profile, we will need to unbias it. Which is explained in part 1.4"
   ]
  },
  {
   "cell_type": "markdown",
   "id": "39ca0508-a68e-4dd3-b6d3-c3ce6a6720f3",
   "metadata": {},
   "source": [
    "-------"
   ]
  },
  {
   "cell_type": "markdown",
   "id": "f24dbd45-14b4-4263-acd5-6b859260c2bd",
   "metadata": {
    "tags": []
   },
   "source": [
    "## Hands-on Code"
   ]
  },
  {
   "cell_type": "markdown",
   "id": "d15db86d-6ed1-4448-aebc-4bc057d208d7",
   "metadata": {},
   "source": [
    "### Setting up the OpenMM context for simulation"
   ]
  },
  {
   "cell_type": "markdown",
   "id": "05c94064-1398-410e-9926-58a2b911b15c",
   "metadata": {},
   "source": [
    "To run our simulations we need to construct an OpenMM **context**, which needs a **system**, an **integrator** and a **platform**. Here we will use Langevin Dynamics for NVP ensemble simulation. The platform specifies on what kind of hardware we will run the simulations. "
   ]
  },
  {
   "cell_type": "code",
   "execution_count": 12,
   "id": "e101f814-8306-4885-8a00-7f927ab16cef",
   "metadata": {},
   "outputs": [],
   "source": [
    "## reading in the OpenMM system we created\n",
    "with open(\"output_files/NaCl_solvated_system\", 'r') as file_handle:\n",
    "    xml = file_handle.read()\n",
    "system = omm.XmlSerializer.deserialize(xml)"
   ]
  },
  {
   "cell_type": "markdown",
   "id": "95d30a52-2e46-46cc-854d-5ebf597d7995",
   "metadata": {},
   "source": [
    "We state the platform here by using the string that corresponds.The CPU option should work on every computer, but if you can, try out CUDA or OpenCL for GPU speeds ."
   ]
  },
  {
   "cell_type": "code",
   "execution_count": 13,
   "id": "625329e1-5e28-49d1-ae8f-a8b6f26eac9d",
   "metadata": {},
   "outputs": [],
   "source": [
    "#Setting up the platform\n",
    "\n",
    "#platform = omm.Platform.getPlatformByName('CUDA') # If you have GPU try this \n",
    "platform = omm.Platform.getPlatformByName('OpenCL') # Or this one, if the preivous does not work\n",
    "#platform = omm.Platform.getPlatformByName('CPU') # Try first using CUDA or OpenCL it is way faster"
   ]
  },
  {
   "cell_type": "markdown",
   "id": "48d7b5a6-6e76-45fc-a72c-8a1313670ab3",
   "metadata": {},
   "source": [
    "Now we set up all simulation-related parameters to ready up the context for our simulations"
   ]
  },
  {
   "cell_type": "code",
   "execution_count": 14,
   "id": "28909c76-76e7-4542-90ce-018a28b4e247",
   "metadata": {},
   "outputs": [],
   "source": [
    "#### setup an OpenMM context\n",
    "\n",
    "T = 298.15 * unit.kelvin  ## temperature\n",
    "fricCoef = 10/unit.picoseconds ## friction coefficient \n",
    "stepsize = 2 * unit.femtoseconds ## integration step size\n",
    "integrator = omm.LangevinIntegrator(T, fricCoef, stepsize) #Desired Integrator\n",
    "\n",
    "## construct an OpenMM context\n",
    "context = omm.Context(system, integrator, platform)"
   ]
  },
  {
   "cell_type": "markdown",
   "id": "f4e23585-c66c-450f-a029-031172505fd4",
   "metadata": {},
   "source": [
    "### Placing the umbrellas "
   ]
  },
  {
   "cell_type": "markdown",
   "id": "72c1b936-7b81-43cf-803e-7c3eb9b37fc3",
   "metadata": {},
   "source": [
    "We will place the different umbrella centers in geometrically spaced points on the log scale, this means having more points at the beggining and less at the end. In this case, we did this to better sample the transition state (TS) of our NaCl dissociation. However, the umbrellas could also be placed equidistantly. "
   ]
  },
  {
   "cell_type": "code",
   "execution_count": 15,
   "id": "39dcf85e-64cb-4c96-b355-0dcbef990f47",
   "metadata": {},
   "outputs": [],
   "source": [
    "M = 10 # M centers of harmonic biasing potentials\n",
    "start = 0.25 #First center (in nm)\n",
    "end = 0.7 #Last center (in nm)\n",
    "\n",
    "#Setting the centers for the umbrellas we'll use \n",
    "#umbrella_centers = np.geomspace(start, end, M, endpoint=False)\n",
    "umbrella_centers = np.linspace(start, end, M, endpoint=False)\n",
    "\n",
    "#We will save the centers in a .csv for when we need to check it\n",
    "np.savetxt(\"output_files/bias.csv\", umbrella_centers, delimiter = \",\")"
   ]
  },
  {
   "cell_type": "code",
   "execution_count": 16,
   "id": "ec7d429e-7420-477a-a8e5-0df2ecc4bd93",
   "metadata": {},
   "outputs": [
    {
     "data": {
      "image/png": "[encoded data removed]",
      "text/plain": [
       "<Figure size 640x480 with 1 Axes>"
      ]
     },
     "metadata": {},
     "output_type": "display_data"
    }
   ],
   "source": [
    "#Here you can plot at which distance each umbrella will be placed for each window\n",
    "plt.plot(range(M), umbrella_centers, \"o\")\n",
    "plt.ylabel(\"Distance (nm)\")\n",
    "plt.xlabel(\"Window (#)\")\n",
    "plt.savefig(\"images/geom_spaced_windows.png\")"
   ]
  },
  {
   "cell_type": "markdown",
   "id": "fab01d26-40ff-41df-ad87-0e29cc4c7c73",
   "metadata": {},
   "source": [
    "The points in the plot show at which distance each of the potentials is going to be placed. \n",
    "\n",
    "Now that the centers for the harmonic biasing potentials are defined, let's give the force constant a value for biasing the Na-Cl distance. "
   ]
  },
  {
   "cell_type": "code",
   "execution_count": 17,
   "id": "98059c7f-957f-47ed-b340-0fed0931fa27",
   "metadata": {},
   "outputs": [],
   "source": [
    "# set force constant K for the biasing potential. \n",
    "# the unit here is kJ*mol^{-1}*nm^{-2}, which is the default unit used in OpenMM\n",
    "K = 25000 #This is like 50 Kcal/mol\n",
    "context.setParameter(\"k\", K)"
   ]
  },
  {
   "cell_type": "markdown",
   "id": "e8cef8e3-7cd3-4e55-af0c-20d9f9437719",
   "metadata": {
    "tags": []
   },
   "source": [
    "### Running the umbrella sampling"
   ]
  },
  {
   "cell_type": "markdown",
   "id": "991db4f9-9ca2-49e7-9926-8e4395626b1e",
   "metadata": {},
   "source": [
    "For running the simulations we will have to create a loop iterating the umbrellas by window (M), each configuration is minimized and equilibrated with the biasing potential and after that they are sampled and saved. "
   ]
  },
  {
   "cell_type": "code",
   "execution_count": 18,
   "id": "87c1f047-1baf-44ce-a8ac-27ae445db736",
   "metadata": {},
   "outputs": [
    {
     "name": "stdout",
     "output_type": "stream",
     "text": [
      "Sampling at window: 1 out of 10\n"
     ]
    },
    {
     "data": {
      "application/vnd.jupyter.widget-view+json": {
       "model_id": "6c88253708fa44dd8a0183389332e65d",
       "version_major": 2,
       "version_minor": 0
      },
      "text/plain": [
       "Minimization Win 1:   0%|          | 0/50 [00:00<?, ?it/s]"
      ]
     },
     "metadata": {},
     "output_type": "display_data"
    },
    {
     "name": "stdout",
     "output_type": "stream",
     "text": [
      "Minimization in: 3.8316831588745117 seconds\n",
      "Equilibration in: 0.02502298355102539 seconds\n"
     ]
    },
    {
     "data": {
      "application/vnd.jupyter.widget-view+json": {
       "model_id": "941d80bc03694b439419c4deac167c80",
       "version_major": 2,
       "version_minor": 0
      },
      "text/plain": [
       "Production:   0%|          | 0/1000 [00:00<?, ?it/s]"
      ]
     },
     "metadata": {},
     "output_type": "display_data"
    },
    {
     "name": "stdout",
     "output_type": "stream",
     "text": [
      "Production Run done in: 35.540820360183716 seconds\n",
      "Sampling at window: 2 out of 10\n"
     ]
    },
    {
     "data": {
      "application/vnd.jupyter.widget-view+json": {
       "model_id": "14f23537c4e34afdabb894ea075574c9",
       "version_major": 2,
       "version_minor": 0
      },
      "text/plain": [
       "Minimization Win 2:   0%|          | 0/50 [00:00<?, ?it/s]"
      ]
     },
     "metadata": {},
     "output_type": "display_data"
    },
    {
     "name": "stdout",
     "output_type": "stream",
     "text": [
      "Minimization in: 2.94119930267334 seconds\n",
      "Equilibration in: 0.01801609992980957 seconds\n"
     ]
    },
    {
     "data": {
      "application/vnd.jupyter.widget-view+json": {
       "model_id": "deed2b35731a462aba8f7f9ec902f2f3",
       "version_major": 2,
       "version_minor": 0
      },
      "text/plain": [
       "Production:   0%|          | 0/1000 [00:00<?, ?it/s]"
      ]
     },
     "metadata": {},
     "output_type": "display_data"
    },
    {
     "name": "stdout",
     "output_type": "stream",
     "text": [
      "Production Run done in: 35.852805376052856 seconds\n",
      "Sampling at window: 3 out of 10\n"
     ]
    },
    {
     "data": {
      "application/vnd.jupyter.widget-view+json": {
       "model_id": "e3fb7ed82aac4adb962c251d977cc4dc",
       "version_major": 2,
       "version_minor": 0
      },
      "text/plain": [
       "Minimization Win 3:   0%|          | 0/50 [00:00<?, ?it/s]"
      ]
     },
     "metadata": {},
     "output_type": "display_data"
    },
    {
     "name": "stdout",
     "output_type": "stream",
     "text": [
      "Minimization in: 3.3273518085479736 seconds\n",
      "Equilibration in: 0.01801753044128418 seconds\n"
     ]
    },
    {
     "data": {
      "application/vnd.jupyter.widget-view+json": {
       "model_id": "f7c1f32701da4b03a72a59dce46ed59f",
       "version_major": 2,
       "version_minor": 0
      },
      "text/plain": [
       "Production:   0%|          | 0/1000 [00:00<?, ?it/s]"
      ]
     },
     "metadata": {},
     "output_type": "display_data"
    },
    {
     "name": "stdout",
     "output_type": "stream",
     "text": [
      "Production Run done in: 36.03523087501526 seconds\n",
      "Sampling at window: 4 out of 10\n"
     ]
    },
    {
     "data": {
      "application/vnd.jupyter.widget-view+json": {
       "model_id": "cb072a6bdc7e48d8a4a677f278292e41",
       "version_major": 2,
       "version_minor": 0
      },
      "text/plain": [
       "Minimization Win 4:   0%|          | 0/50 [00:00<?, ?it/s]"
      ]
     },
     "metadata": {},
     "output_type": "display_data"
    },
    {
     "name": "stdout",
     "output_type": "stream",
     "text": [
      "Minimization in: 2.910651683807373 seconds\n",
      "Equilibration in: 0.019016504287719727 seconds\n"
     ]
    },
    {
     "data": {
      "application/vnd.jupyter.widget-view+json": {
       "model_id": "1dea844bd81f4081af532149afe12fed",
       "version_major": 2,
       "version_minor": 0
      },
      "text/plain": [
       "Production:   0%|          | 0/1000 [00:00<?, ?it/s]"
      ]
     },
     "metadata": {},
     "output_type": "display_data"
    },
    {
     "name": "stdout",
     "output_type": "stream",
     "text": [
      "Production Run done in: 36.55795645713806 seconds\n",
      "Sampling at window: 5 out of 10\n"
     ]
    },
    {
     "data": {
      "application/vnd.jupyter.widget-view+json": {
       "model_id": "6b6599f63d6846e79632e659f92d4bcc",
       "version_major": 2,
       "version_minor": 0
      },
      "text/plain": [
       "Minimization Win 5:   0%|          | 0/50 [00:00<?, ?it/s]"
      ]
     },
     "metadata": {},
     "output_type": "display_data"
    },
    {
     "name": "stdout",
     "output_type": "stream",
     "text": [
      "Minimization in: 3.650541305541992 seconds\n",
      "Equilibration in: 0.018016338348388672 seconds\n"
     ]
    },
    {
     "data": {
      "application/vnd.jupyter.widget-view+json": {
       "model_id": "17986cbb71d94d4fa3fa5f2145fcb6b6",
       "version_major": 2,
       "version_minor": 0
      },
      "text/plain": [
       "Production:   0%|          | 0/1000 [00:00<?, ?it/s]"
      ]
     },
     "metadata": {},
     "output_type": "display_data"
    },
    {
     "name": "stdout",
     "output_type": "stream",
     "text": [
      "Production Run done in: 37.53230118751526 seconds\n",
      "Sampling at window: 6 out of 10\n"
     ]
    },
    {
     "data": {
      "application/vnd.jupyter.widget-view+json": {
       "model_id": "cd3bd5023abf49808854fb280cd1895d",
       "version_major": 2,
       "version_minor": 0
      },
      "text/plain": [
       "Minimization Win 6:   0%|          | 0/50 [00:00<?, ?it/s]"
      ]
     },
     "metadata": {},
     "output_type": "display_data"
    },
    {
     "name": "stdout",
     "output_type": "stream",
     "text": [
      "Minimization in: 2.940673828125 seconds\n",
      "Equilibration in: 0.018017292022705078 seconds\n"
     ]
    },
    {
     "data": {
      "application/vnd.jupyter.widget-view+json": {
       "model_id": "4ee813b3788045a4afff9bc6a8a1f798",
       "version_major": 2,
       "version_minor": 0
      },
      "text/plain": [
       "Production:   0%|          | 0/1000 [00:00<?, ?it/s]"
      ]
     },
     "metadata": {},
     "output_type": "display_data"
    },
    {
     "name": "stdout",
     "output_type": "stream",
     "text": [
      "Production Run done in: 35.506983518600464 seconds\n",
      "Sampling at window: 7 out of 10\n"
     ]
    },
    {
     "data": {
      "application/vnd.jupyter.widget-view+json": {
       "model_id": "e5354dd6176846e78cf4287683aab61c",
       "version_major": 2,
       "version_minor": 0
      },
      "text/plain": [
       "Minimization Win 7:   0%|          | 0/50 [00:00<?, ?it/s]"
      ]
     },
     "metadata": {},
     "output_type": "display_data"
    },
    {
     "name": "stdout",
     "output_type": "stream",
     "text": [
      "Minimization in: 3.3560519218444824 seconds\n",
      "Equilibration in: 0.02001786231994629 seconds\n"
     ]
    },
    {
     "data": {
      "application/vnd.jupyter.widget-view+json": {
       "model_id": "a895817e48464f37960f647a8958ebda",
       "version_major": 2,
       "version_minor": 0
      },
      "text/plain": [
       "Production:   0%|          | 0/1000 [00:00<?, ?it/s]"
      ]
     },
     "metadata": {},
     "output_type": "display_data"
    },
    {
     "name": "stdout",
     "output_type": "stream",
     "text": [
      "Production Run done in: 36.73970341682434 seconds\n",
      "Sampling at window: 8 out of 10\n"
     ]
    },
    {
     "data": {
      "application/vnd.jupyter.widget-view+json": {
       "model_id": "efc37942aea044fbb87c59d148c7072d",
       "version_major": 2,
       "version_minor": 0
      },
      "text/plain": [
       "Minimization Win 8:   0%|          | 0/50 [00:00<?, ?it/s]"
      ]
     },
     "metadata": {},
     "output_type": "display_data"
    },
    {
     "name": "stdout",
     "output_type": "stream",
     "text": [
      "Minimization in: 3.2754902839660645 seconds\n",
      "Equilibration in: 0.018016338348388672 seconds\n"
     ]
    },
    {
     "data": {
      "application/vnd.jupyter.widget-view+json": {
       "model_id": "d95db804962245eba7d1d102765b643a",
       "version_major": 2,
       "version_minor": 0
      },
      "text/plain": [
       "Production:   0%|          | 0/1000 [00:00<?, ?it/s]"
      ]
     },
     "metadata": {},
     "output_type": "display_data"
    },
    {
     "name": "stdout",
     "output_type": "stream",
     "text": [
      "Production Run done in: 35.708378314971924 seconds\n",
      "Sampling at window: 9 out of 10\n"
     ]
    },
    {
     "data": {
      "application/vnd.jupyter.widget-view+json": {
       "model_id": "dd3a5bbab18242f1b46834642904af90",
       "version_major": 2,
       "version_minor": 0
      },
      "text/plain": [
       "Minimization Win 9:   0%|          | 0/50 [00:00<?, ?it/s]"
      ]
     },
     "metadata": {},
     "output_type": "display_data"
    },
    {
     "name": "stdout",
     "output_type": "stream",
     "text": [
      "Minimization in: 3.1046907901763916 seconds\n",
      "Equilibration in: 0.018017053604125977 seconds\n"
     ]
    },
    {
     "data": {
      "application/vnd.jupyter.widget-view+json": {
       "model_id": "a183bc0c0bd449aebeb21732d4d3b698",
       "version_major": 2,
       "version_minor": 0
      },
      "text/plain": [
       "Production:   0%|          | 0/1000 [00:00<?, ?it/s]"
      ]
     },
     "metadata": {},
     "output_type": "display_data"
    },
    {
     "name": "stdout",
     "output_type": "stream",
     "text": [
      "Production Run done in: 36.19617176055908 seconds\n",
      "Sampling at window: 10 out of 10\n"
     ]
    },
    {
     "data": {
      "application/vnd.jupyter.widget-view+json": {
       "model_id": "8e169346175044dabf4f4e781e62806e",
       "version_major": 2,
       "version_minor": 0
      },
      "text/plain": [
       "Minimization Win 10:   0%|          | 0/50 [00:00<?, ?it/s]"
      ]
     },
     "metadata": {},
     "output_type": "display_data"
    },
    {
     "name": "stdout",
     "output_type": "stream",
     "text": [
      "Minimization in: 3.060737371444702 seconds\n",
      "Equilibration in: 0.01901698112487793 seconds\n"
     ]
    },
    {
     "data": {
      "application/vnd.jupyter.widget-view+json": {
       "model_id": "3187f0aabb364611b3415791b4ebe5ae",
       "version_major": 2,
       "version_minor": 0
      },
      "text/plain": [
       "Production:   0%|          | 0/1000 [00:00<?, ?it/s]"
      ]
     },
     "metadata": {},
     "output_type": "display_data"
    },
    {
     "name": "stdout",
     "output_type": "stream",
     "text": [
      "Production Run done in: 36.32489848136902 seconds\n"
     ]
    }
   ],
   "source": [
    "import time\n",
    "#The main loop to run umbrella sampling window by window\n",
    "st = time.time()\n",
    "\n",
    "#We will start from the PDB positions, so we need to load them again\n",
    "#FOr saving the trajectories (.dcd ) in the correct topology we have to load them again\n",
    "pdb_file = 'toppar/step3_input.pdb' #Path\n",
    "psf_file = 'toppar/step3_input.psf' #Path\n",
    "psf = omm_app.CharmmPsfFile(psf_file)\n",
    "pdb = omm_app.PDBFile(pdb_file)\n",
    "\n",
    "for window in range(M):\n",
    "    s = time.time()\n",
    "    print(f\"Sampling at window: {window+1} out of {M}\")\n",
    "    \n",
    "    # Set the center of the biasing potential for each window\n",
    "    context.setParameter(\"r0\", umbrella_centers[window])\n",
    "\n",
    "    # Minimizing step \n",
    "    context.setPositions(pdb.positions)\n",
    "    state = context.getState(getEnergy = True)\n",
    "    energy = state.getPotentialEnergy()\n",
    "    \n",
    "    for i in tqdm_notebook(range(50), desc=\"Minimization Win {}\".format(window+1)):\n",
    "        omm.LocalEnergyMinimizer_minimize(context, 1, 20)\n",
    "        state = context.getState(getEnergy = True)\n",
    "        energy = state.getPotentialEnergy()\n",
    "        \n",
    "    print(\"Minimization in:\", str(time.time() - s), \"seconds\")\n",
    "    s = time.time()\n",
    "    \n",
    "    #Initial equilibration step\n",
    "    integrator.step(500)\n",
    "    \n",
    "    print(\"Equilibration in:\", str(time.time() - s), \"seconds\")\n",
    "    s = time.time()\n",
    "\n",
    "    #Sampling production. trajectories are saved in dcd files\n",
    "    #file_handle = open(f\"trajectories/traj_{window+1}_US_test.dcd\", 'bw')\n",
    "    file_handle = open(f\"trajectories/long_traj/traj_win{window+1}_US.dcd\", 'bw')\n",
    "    dcd_file = omm_app.dcdfile.DCDFile(file_handle, psf.topology, dt = stepsize)\n",
    "    \n",
    "    for i in tqdm_notebook(range(1000), desc=\"Production\"):\n",
    "        integrator.step(100)\n",
    "        state = context.getState(getPositions = True)\n",
    "        positions = state.getPositions()\n",
    "        dcd_file.writeModel(positions)\n",
    "    file_handle.close()\n",
    "    \n",
    "    print(\"Production Run done in:\", str(time.time() - s), \"seconds\")"
   ]
  },
  {
   "cell_type": "markdown",
   "id": "10119ab9-0b47-494d-ad47-2daa672f61af",
   "metadata": {},
   "source": [
    "Once the simulations have finished, we will have the correspoinding trajectories in the **/trajectories/** folder for further analysis. Our next step is to calculate the RC obtained for each window. \n"
   ]
  },
  {
   "cell_type": "markdown",
   "id": "a97d00ef-df9a-401a-a9e9-771d5c4893dd",
   "metadata": {
    "tags": []
   },
   "source": [
    "-------"
   ]
  },
  {
   "cell_type": "markdown",
   "id": "b855b28b-0a21-4c3c-bf74-06a087001856",
   "metadata": {
    "tags": []
   },
   "source": [
    "## Optional tasks"
   ]
  },
  {
   "cell_type": "markdown",
   "id": "b26abf63-27bb-4903-aad9-130281627dbe",
   "metadata": {},
   "source": [
    "\n",
    "We recommend if time allows, or at home, to try the following:\n",
    "- Try changing the number of umbrellas. How does it affect the obtained free energy profile?. ***Answer:*** A very small number of umbrellas will make your windows very spread and sample very little, whereas having too many umbrellas is computationally expensive.  \n",
    "- Try also changing to linearly spaced windows (np.linspace). How is the sampling affecting the free energy profile?. ***Answer:*** Having an even sampling is helpful to easily sample the whole space, but sometimes a part can be more valuable than the rest and you might want to place more umbrellas. \n",
    "- Try modifying the force constant (K) to different values. How does it affects the sampling?.  ***Answer:*** High values will restrict the sampling to a very limited area, thus having no overlap between windows. A very low value will allow the windows to sample all configurations with too much overlap between the windows. "
   ]
  },
  {
   "cell_type": "code",
   "execution_count": null,
   "id": "8336f615-293f-4497-97e6-e7ae6a6cbf1a",
   "metadata": {},
   "outputs": [],
   "source": []
  },
  {
   "cell_type": "code",
   "execution_count": null,
   "id": "a91c781d-161f-413c-a2e3-d47f46b9bce5",
   "metadata": {},
   "outputs": [],
   "source": []
  }
 ],
 "metadata": {
  "kernelspec": {
   "display_name": "Python 3 (ipykernel)",
   "language": "python",
   "name": "python3"
  },
  "language_info": {
   "codemirror_mode": {
    "name": "ipython",
    "version": 3
   },
   "file_extension": ".py",
   "mimetype": "text/x-python",
   "name": "python",
   "nbconvert_exporter": "python",
   "pygments_lexer": "ipython3",
   "version": "3.7.12"
  }
 },
 "nbformat": 4,
 "nbformat_minor": 5
}

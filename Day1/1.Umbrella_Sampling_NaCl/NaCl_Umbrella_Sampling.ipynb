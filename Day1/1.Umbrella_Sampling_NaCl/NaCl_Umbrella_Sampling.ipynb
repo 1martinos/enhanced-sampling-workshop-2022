{
 "cells": [
  {
   "cell_type": "markdown",
   "id": "f3fed59a-7bab-4463-8a8e-1bde096bb705",
   "metadata": {
    "tags": []
   },
   "source": [
    "# 1.1 Setting up the system for OpenMM (NaCl)"
   ]
  },
  {
   "cell_type": "markdown",
   "id": "190b076c-fa72-413c-9f21-4584ea0ceed4",
   "metadata": {
    "tags": []
   },
   "source": [
    "## Imports"
   ]
  },
  {
   "cell_type": "code",
   "execution_count": 1,
   "id": "8e0b1f25-300e-4525-aa65-5f3edcd5fad4",
   "metadata": {},
   "outputs": [
    {
     "name": "stderr",
     "output_type": "stream",
     "text": [
      "Warning: importing 'simtk.openmm' is deprecated.  Import 'openmm' instead.\n"
     ]
    }
   ],
   "source": [
    "## import required packages\n",
    "import os, math, sys\n",
    "import numpy as np\n",
    "import matplotlib.pyplot as plt\n",
    "import simtk.openmm.app  as omm_app\n",
    "import simtk.openmm as omm\n",
    "import simtk.unit as unit\n",
    "from tqdm.notebook import tqdm_notebook\n",
    "import mdtraj"
   ]
  },
  {
   "cell_type": "markdown",
   "id": "13550b68-5bac-40a0-915f-a7f7388f4b5e",
   "metadata": {
    "tags": []
   },
   "source": [
    "### Aims of this Notebook"
   ]
  },
  {
   "cell_type": "markdown",
   "id": "93a2a515-78fa-45a6-851f-675669308af3",
   "metadata": {},
   "source": [
    "This is an example notebook on how to set up a simulation system under the OpenMM suite from given Charmm-GUI input topology and parameter files.\n",
    "\n",
    "You will learn: \n",
    "1. Read in topology files (Charmm psf and pdb) for simulation\n",
    "2. Read in the set of Charmm parameters provided\n",
    "3. Create and save the OpenMM system for simulation. \n",
    "4. Add a custom bias with a harmonic potential "
   ]
  },
  {
   "cell_type": "markdown",
   "id": "865e5334-1a08-416e-9d77-9cb95322e58f",
   "metadata": {
    "tags": []
   },
   "source": [
    "## Introduction"
   ]
  },
  {
   "cell_type": "markdown",
   "id": "a2663b0e-42bf-4025-b22a-6e562599930a",
   "metadata": {
    "tags": []
   },
   "source": [
    "### Simulating NaCl in water\n",
    "\n",
    "For the purpose of this workshop, we previously parameterized a Na+ Cl- complex from a PDB crystal structure, solvated the system and generated the necessary files for simulation using Charmm-GUI (topology and parameters which can be found under the **/toppar/** folder). We will be using Charmm36m as our Force Field. If you are interested on generating your own parameters for your system using Charmm-GUI you can find videos/demos and help here: https://www.charmm-gui.org/?doc=demo"
   ]
  },
  {
   "cell_type": "markdown",
   "id": "b96d04ca-bd8d-4770-b532-4627e0810d2f",
   "metadata": {},
   "source": [
    "We will be sampling the dissociation of NaCl in water and will try to reconstruct the free energy profile from the resulting simulations. In order to sample more efficiently we will use the umbrella sampling method to bias the distance between the ionic complex.  "
   ]
  },
  {
   "cell_type": "markdown",
   "id": "3c9af286-736a-4d61-a2c8-da5a03549e3d",
   "metadata": {},
   "source": [
    "**Our simulated system looks like this:**"
   ]
  },
  {
   "cell_type": "markdown",
   "id": "886e8ad0-0f49-4035-9ab2-db8909f6b53d",
   "metadata": {},
   "source": [
    "<center>\n",
    "<img src=\"images/solvated_system.png\" alt=\"NaCl\" width=\"500\"/>\n",
    "</center>"
   ]
  },
  {
   "cell_type": "markdown",
   "id": "89469c77-a9b5-4213-94f6-99a41721e84c",
   "metadata": {},
   "source": [
    "------"
   ]
  },
  {
   "cell_type": "markdown",
   "id": "282aec33-526d-4343-8760-8dd38033a320",
   "metadata": {
    "tags": []
   },
   "source": [
    "## Hands-on Code"
   ]
  },
  {
   "cell_type": "markdown",
   "id": "1156900f-1b12-4a05-b716-48a148e7f14d",
   "metadata": {
    "tags": []
   },
   "source": [
    "### System creation"
   ]
  },
  {
   "cell_type": "markdown",
   "id": "4831d0ae-9291-4c7c-80d9-5d5bcd3c37e3",
   "metadata": {},
   "source": [
    "We first import the necessary psf/pdb files with the topology info to be able to look up the atom parameters on the force field."
   ]
  },
  {
   "cell_type": "code",
   "execution_count": 2,
   "id": "e2de3ee8-4d97-4e0a-8cc6-bd30397ed13d",
   "metadata": {},
   "outputs": [],
   "source": [
    "psf_file = 'toppar/step3_input.psf' #Path\n",
    "pdb_file = 'toppar/step3_input.pdb' #Path"
   ]
  },
  {
   "cell_type": "markdown",
   "id": "529a6ec1-7126-4b29-b6ea-dac03e8e962d",
   "metadata": {},
   "source": [
    "OpenMM has specific functions that read in whatever is necessary from the files:"
   ]
  },
  {
   "cell_type": "code",
   "execution_count": 3,
   "id": "7b53aa52-014d-4a91-92d1-a353cc8e9f26",
   "metadata": {},
   "outputs": [],
   "source": [
    "psf = omm_app.CharmmPsfFile(psf_file)\n",
    "pdb = omm_app.PDBFile(pdb_file)"
   ]
  },
  {
   "cell_type": "markdown",
   "id": "a23283b7-f2b6-4a87-bf08-382e77a37874",
   "metadata": {},
   "source": [
    "From the **/toppar/** folder we read in as well the parameter file with the info for our 2 ions (Na and Cl)"
   ]
  },
  {
   "cell_type": "code",
   "execution_count": 4,
   "id": "ce1e302b-2877-41ef-ae91-23881ab38bf1",
   "metadata": {},
   "outputs": [],
   "source": [
    "params = omm_app.CharmmParameterSet('toppar/toppar_water_ions.str')"
   ]
  },
  {
   "cell_type": "markdown",
   "id": "0e25a4ec-7c73-4323-bb14-73282f67217d",
   "metadata": {},
   "source": [
    "Once everything necessary is in, we can create the system to simulate in OpenMM"
   ]
  },
  {
   "cell_type": "code",
   "execution_count": 5,
   "id": "1e0013a9-cbd5-41a1-9926-7e8cebeb8e0a",
   "metadata": {},
   "outputs": [],
   "source": [
    "## Create an OpenMM system\n",
    "system = psf.createSystem(params)"
   ]
  },
  {
   "cell_type": "markdown",
   "id": "6f5caed5-ab98-49b1-9d41-1b0b57b8ca88",
   "metadata": {
    "tags": []
   },
   "source": [
    "### Defining the biasing potential"
   ]
  },
  {
   "cell_type": "markdown",
   "id": "588aea9b-40c7-476e-9377-7f5ec696e05f",
   "metadata": {},
   "source": [
    "Now that we have our system we can add our custom bias to it.\n",
    "\n",
    "In this case since we want to quickly see the dissociation of NaCl, for that, we will be biasing the distance between our two complexed ions. \n",
    "\n",
    "The most suitable bias for separating them would be a harmonic biasing potential. All we need to do is tell OpenMM the formula of the biasing potential and the degree of dredom we want to add the biasing potential to, the formula would look like: \n",
    "\n",
    "$$\n",
    "  U_{i} = k_{i}(r - r_{o})^2\n",
    "$$"
   ]
  },
  {
   "cell_type": "code",
   "execution_count": 6,
   "id": "72658d51-0715-4596-b364-1a91111717f4",
   "metadata": {},
   "outputs": [
    {
     "data": {
      "text/plain": [
       "9"
      ]
     },
     "execution_count": 6,
     "metadata": {},
     "output_type": "execute_result"
    }
   ],
   "source": [
    "## add a harmonic biasing potential on butane dihedral to the OpenMM system\n",
    "\n",
    "#Define the equation\n",
    "bias_bond = omm.CustomBondForce(\"0.5*k*(r-r0)^2\")\n",
    "\n",
    "#Set parameters\n",
    "bias_bond.addGlobalParameter(\"k\", 1.0)\n",
    "bias_bond.addGlobalParameter(\"r0\", 0.0) # Initial value of the distance\n",
    "\n",
    "#Define the bond\n",
    "bias_bond.addBond(0, 1) #Here you would have to put the atoms you will be adding the bond to\n",
    "\n",
    "#We add it to the system \n",
    "system.addForce(bias_bond)"
   ]
  },
  {
   "cell_type": "markdown",
   "id": "78c5de93-2371-4d52-9426-36c6ec22ed1b",
   "metadata": {},
   "source": [
    "### Saving the system for the next step"
   ]
  },
  {
   "cell_type": "markdown",
   "id": "c69eae20-7164-4f40-9499-10ad6f2394ef",
   "metadata": {},
   "source": [
    "Now that all is set up, we can save the file in a readble format. This will be in an XML formated text file, which can be used or re-read at any point later. You can open the file to see how the information is structured for yourself. "
   ]
  },
  {
   "cell_type": "code",
   "execution_count": 7,
   "id": "60967cbe-2b43-4008-8888-1ac96058a012",
   "metadata": {},
   "outputs": [],
   "source": [
    "## save the OpenMM system\n",
    "with open(\"output_files/NaCl_solvated_system\", 'w') as file_handle:\n",
    "    file_handle.write(omm.XmlSerializer.serialize(system))"
   ]
  },
  {
   "cell_type": "markdown",
   "id": "20ced882-ba7d-4d2d-a32c-5142e64e829b",
   "metadata": {},
   "source": [
    "-------"
   ]
  },
  {
   "cell_type": "markdown",
   "id": "25f1388f-bd71-464e-a1b4-6c0bec9944f9",
   "metadata": {},
   "source": [
    "## Optional tasks"
   ]
  },
  {
   "cell_type": "markdown",
   "id": "271dd19c-37c0-4954-9459-188764e1dece",
   "metadata": {},
   "source": [
    "We recommend if time allows, or at home, to try the following:\n"
   ]
  },
  {
   "cell_type": "markdown",
   "id": "99fa0049-a962-4266-826f-98526337b98b",
   "metadata": {
    "tags": []
   },
   "source": [
    "# 1.2 Running Umbrella Sampling on NaCl"
   ]
  },
  {
   "cell_type": "markdown",
   "id": "2a269589-a8cb-4b56-8108-cc2d66ea8511",
   "metadata": {
    "tags": []
   },
   "source": [
    "### Aims of this Notebook"
   ]
  },
  {
   "cell_type": "markdown",
   "id": "c4558586-9e5e-48a2-8cbe-5825fc3089ed",
   "metadata": {},
   "source": [
    "The aim of this notebook is to refresh how Umbrella Sampling works, what is needed to run it, and how to run it on the OpenMM framework. \n",
    "\n",
    "You will learn: \n",
    "1. Read in a previously created OpenMM system for simulation.\n",
    "2. Set up the simulation parameters (Temperature, step size, friction, etc.).\n",
    "3. Set up the umbrella centers across our reaction coordinate, with a defined force constant.\n",
    "4. Run minimization/equilibration/production on each of the umbrellas. "
   ]
  },
  {
   "cell_type": "markdown",
   "id": "3e9ecb5c-907a-4d35-9cff-fba80c2a08c6",
   "metadata": {
    "tags": []
   },
   "source": [
    "## Introduction"
   ]
  },
  {
   "cell_type": "markdown",
   "id": "adc546b4-d307-4279-9d6c-68806713fea0",
   "metadata": {},
   "source": [
    "In **umbrella sampling**, the reaction coordinate (RC) which we want to sample fir is split into multiple windows and in each window, the RC (an atomic distance in our NaCl example) is restrained around each centre using the harmonic biasing potential. We will run simulations in each window sequentially, but of course they can run in parallel in your typical workstation. "
   ]
  },
  {
   "cell_type": "markdown",
   "id": "4ad67572-5d6b-46be-8b62-d899cbec4682",
   "metadata": {},
   "source": [
    "<center>\n",
    "<img src=\"images/US.jpg\" alt=\"NaCl\" width=\"500\"/>\n",
    "</center>"
   ]
  },
  {
   "cell_type": "markdown",
   "id": "8a3cfc0e-d673-4f6f-b31f-3b5b4004e2d1",
   "metadata": {},
   "source": [
    "**Note:** From this production, the data we will get will be **biased**. in order to be able to get back any kinetics or a correct free energy profile, we will need to unbias it. Which is explained in part 1.4"
   ]
  },
  {
   "cell_type": "markdown",
   "id": "2809b09f-fb74-4f83-9ff0-d51904419898",
   "metadata": {},
   "source": [
    "-------"
   ]
  },
  {
   "cell_type": "markdown",
   "id": "db955f2d-7922-4ffd-bbca-e904bd07d528",
   "metadata": {
    "tags": []
   },
   "source": [
    "## Hands-on Code"
   ]
  },
  {
   "cell_type": "markdown",
   "id": "8eebf390-b227-479d-a37b-2aa07c5e9ea1",
   "metadata": {},
   "source": [
    "### Setting up the OpenMM context for simulation"
   ]
  },
  {
   "cell_type": "markdown",
   "id": "df905368-8903-405f-873d-e0d7636beafc",
   "metadata": {},
   "source": [
    "To run our simulations we need to construct an OpenMM **context**, which needs a **system**, an **integrator** and a **platform**. Here we will use Langevin Dynamics for NVP ensemble simulation. The platform specifies on what kind of hardware we will run the simulations. "
   ]
  },
  {
   "cell_type": "code",
   "execution_count": 8,
   "id": "e101f814-8306-4885-8a00-7f927ab16cef",
   "metadata": {},
   "outputs": [],
   "source": [
    "## reading in the OpenMM system we created\n",
    "with open(\"output_files/NaCl_solvated_system\", 'r') as file_handle:\n",
    "    xml = file_handle.read()\n",
    "system = omm.XmlSerializer.deserialize(xml)"
   ]
  },
  {
   "cell_type": "markdown",
   "id": "b07a6092-1ee0-4862-8c1d-30c4b0c6246d",
   "metadata": {},
   "source": [
    "We state the platform here by using the string that corresponds.The CPU option should work on every computer, but if you can, try out CUDA or OpenCL for GPU speeds ."
   ]
  },
  {
   "cell_type": "code",
   "execution_count": 9,
   "id": "625329e1-5e28-49d1-ae8f-a8b6f26eac9d",
   "metadata": {},
   "outputs": [],
   "source": [
    "#Setting up the platform\n",
    "\n",
    "#platform = omm.Platform.getPlatformByName('CUDA') # If you have GPU try this \n",
    "platform = omm.Platform.getPlatformByName('OpenCL') # Or this one, if the preivous does not work\n",
    "#platform = omm.Platform.getPlatformByName('CPU') # Try first using CUDA or OpenCL it is way faster"
   ]
  },
  {
   "cell_type": "markdown",
   "id": "19bd70da-683e-4f9d-8546-8d19d267077d",
   "metadata": {},
   "source": [
    "Now we set up all simulation-related parameters to ready up the context for our simulations"
   ]
  },
  {
   "cell_type": "code",
   "execution_count": 45,
   "id": "28909c76-76e7-4542-90ce-018a28b4e247",
   "metadata": {},
   "outputs": [],
   "source": [
    "#### setup an OpenMM context\n",
    "\n",
    "T = 298.15  ## temperature\n",
    "fricCoef = 10 ## friction coefficient \n",
    "stepsize = 2  ## integration step size\n",
    "\n",
    "integrator = omm.LangevinIntegrator(T*unit.kelvin, #Desired Integrator\n",
    "                                    fricCoef/unit.picoseconds,\n",
    "                                    stepsize*unit.femtoseconds) \n",
    "## construct an OpenMM context\n",
    "context = omm.Context(system, integrator, platform)"
   ]
  },
  {
   "cell_type": "markdown",
   "id": "bbf70034-9c52-473c-b800-7c3e22bd0f46",
   "metadata": {},
   "source": [
    "### Placing the umbrellas "
   ]
  },
  {
   "cell_type": "markdown",
   "id": "d4c191e9-82e7-4228-94be-f51c36a1aab2",
   "metadata": {},
   "source": [
    "We will place the different umbrella centers in geometrically spaced points on the log scale, this means having more points at the beggining and less at the end. In this case, we did this to better sample the transition state (TS) of our NaCl dissociation. However, the umbrellas could also be placed equidistantly. "
   ]
  },
  {
   "cell_type": "code",
   "execution_count": 11,
   "id": "39dcf85e-64cb-4c96-b355-0dcbef990f47",
   "metadata": {},
   "outputs": [],
   "source": [
    "M = 10 # M centers of harmonic biasing potentials\n",
    "start = 0.25 #First center (in nm)\n",
    "end = 0.7 #Last center (in nm)\n",
    "\n",
    "#Setting the centers for the umbrellas we'll use \n",
    "#umbrella_centers = np.geomspace(start, end, M, endpoint=False)\n",
    "umbrella_centers = np.linspace(start, end, M, endpoint=False)\n",
    "\n",
    "#We will save the centers in a .csv for when we need to check it\n",
    "np.savetxt(\"output_files/bias.csv\", umbrella_centers, delimiter = \",\")"
   ]
  },
  {
   "cell_type": "code",
   "execution_count": 12,
   "id": "ec7d429e-7420-477a-a8e5-0df2ecc4bd93",
   "metadata": {},
   "outputs": [
    {
     "data": {
      "image/png": "[encoded data removed]",
      "text/plain": [
       "<Figure size 640x480 with 1 Axes>"
      ]
     },
     "metadata": {},
     "output_type": "display_data"
    }
   ],
   "source": [
    "#Here you can plot at which distance each umbrella will be placed for each window\n",
    "plt.plot(range(M), umbrella_centers, \"o\")\n",
    "plt.ylabel(\"Distance (nm)\")\n",
    "plt.xlabel(\"Window (#)\")\n",
    "plt.savefig(\"images/geom_spaced_windows.png\")"
   ]
  },
  {
   "cell_type": "markdown",
   "id": "7f6baef2-c4aa-4092-82b0-d601dddcad64",
   "metadata": {},
   "source": [
    "The points in the plot show at which distance each of the potentials is going to be placed. \n",
    "\n",
    "Now that the centers for the harmonic biasing potentials are defined, let's give the force constant a value for biasing the Na-Cl distance. "
   ]
  },
  {
   "cell_type": "code",
   "execution_count": 13,
   "id": "98059c7f-957f-47ed-b340-0fed0931fa27",
   "metadata": {},
   "outputs": [],
   "source": [
    "# set force constant K for the biasing potential. \n",
    "# the unit here is kJ*mol^{-1}*nm^{-2}, which is the default unit used in OpenMM\n",
    "K = 25000 #This is like 50 Kcal/mol\n",
    "context.setParameter(\"k\", K)"
   ]
  },
  {
   "cell_type": "markdown",
   "id": "5855fac5-a5ff-4b6f-a616-7cc2a13b1dc1",
   "metadata": {
    "tags": []
   },
   "source": [
    "### Running the umbrella sampling"
   ]
  },
  {
   "cell_type": "markdown",
   "id": "818c61b5-b0eb-4d96-a16e-023e0494cc6b",
   "metadata": {},
   "source": [
    "For running the simulations we will have to create a loop iterating the umbrellas by window (M), each configuration is minimized and equilibrated with the biasing potential and after that they are sampled and saved. "
   ]
  },
  {
   "cell_type": "code",
   "execution_count": 14,
   "id": "87c1f047-1baf-44ce-a8ac-27ae445db736",
   "metadata": {},
   "outputs": [
    {
     "name": "stdout",
     "output_type": "stream",
     "text": [
      "Sampling at window: 1 out of 10\n"
     ]
    },
    {
     "data": {
      "application/vnd.jupyter.widget-view+json": {
       "model_id": "8d53caa29f4a4fb1969ed8eb70b776ba",
       "version_major": 2,
       "version_minor": 0
      },
      "text/plain": [
       "Minimization Win 1:   0%|          | 0/50 [00:00<?, ?it/s]"
      ]
     },
     "metadata": {},
     "output_type": "display_data"
    },
    {
     "name": "stdout",
     "output_type": "stream",
     "text": [
      "Minimization in: 3.1305603981018066 seconds\n",
      "Equilibration in: 0.031028270721435547 seconds\n"
     ]
    },
    {
     "data": {
      "application/vnd.jupyter.widget-view+json": {
       "model_id": "8660836bbf3d4cfb8b258d9008f4821e",
       "version_major": 2,
       "version_minor": 0
      },
      "text/plain": [
       "Production:   0%|          | 0/1000 [00:00<?, ?it/s]"
      ]
     },
     "metadata": {},
     "output_type": "display_data"
    },
    {
     "name": "stdout",
     "output_type": "stream",
     "text": [
      "Production Run done in: 35.823317766189575 seconds\n",
      "Sampling at window: 2 out of 10\n"
     ]
    },
    {
     "data": {
      "application/vnd.jupyter.widget-view+json": {
       "model_id": "145c4b146653492db7fc2c619e7e351f",
       "version_major": 2,
       "version_minor": 0
      },
      "text/plain": [
       "Minimization Win 2:   0%|          | 0/50 [00:00<?, ?it/s]"
      ]
     },
     "metadata": {},
     "output_type": "display_data"
    },
    {
     "name": "stdout",
     "output_type": "stream",
     "text": [
      "Minimization in: 2.987279176712036 seconds\n",
      "Equilibration in: 0.018016815185546875 seconds\n"
     ]
    },
    {
     "data": {
      "application/vnd.jupyter.widget-view+json": {
       "model_id": "de7cabc142d34c15a64271e787c95288",
       "version_major": 2,
       "version_minor": 0
      },
      "text/plain": [
       "Production:   0%|          | 0/1000 [00:00<?, ?it/s]"
      ]
     },
     "metadata": {},
     "output_type": "display_data"
    },
    {
     "name": "stdout",
     "output_type": "stream",
     "text": [
      "Production Run done in: 34.36133885383606 seconds\n",
      "Sampling at window: 3 out of 10\n"
     ]
    },
    {
     "data": {
      "application/vnd.jupyter.widget-view+json": {
       "model_id": "79eeb71fd36144ac8f30d3822b0b64ae",
       "version_major": 2,
       "version_minor": 0
      },
      "text/plain": [
       "Minimization Win 3:   0%|          | 0/50 [00:00<?, ?it/s]"
      ]
     },
     "metadata": {},
     "output_type": "display_data"
    },
    {
     "name": "stdout",
     "output_type": "stream",
     "text": [
      "Minimization in: 2.978212594985962 seconds\n",
      "Equilibration in: 0.018017292022705078 seconds\n"
     ]
    },
    {
     "data": {
      "application/vnd.jupyter.widget-view+json": {
       "model_id": "153ec2c707c24fe0b512dbd74caf7f37",
       "version_major": 2,
       "version_minor": 0
      },
      "text/plain": [
       "Production:   0%|          | 0/1000 [00:00<?, ?it/s]"
      ]
     },
     "metadata": {},
     "output_type": "display_data"
    },
    {
     "name": "stdout",
     "output_type": "stream",
     "text": [
      "Production Run done in: 35.472506284713745 seconds\n",
      "Sampling at window: 4 out of 10\n"
     ]
    },
    {
     "data": {
      "application/vnd.jupyter.widget-view+json": {
       "model_id": "448b653193e4429087c8bed6ab88757d",
       "version_major": 2,
       "version_minor": 0
      },
      "text/plain": [
       "Minimization Win 4:   0%|          | 0/50 [00:00<?, ?it/s]"
      ]
     },
     "metadata": {},
     "output_type": "display_data"
    },
    {
     "name": "stdout",
     "output_type": "stream",
     "text": [
      "Minimization in: 3.139883518218994 seconds\n",
      "Equilibration in: 0.018016338348388672 seconds\n"
     ]
    },
    {
     "data": {
      "application/vnd.jupyter.widget-view+json": {
       "model_id": "5a940773b762489e8a0b3a7b790d0762",
       "version_major": 2,
       "version_minor": 0
      },
      "text/plain": [
       "Production:   0%|          | 0/1000 [00:00<?, ?it/s]"
      ]
     },
     "metadata": {},
     "output_type": "display_data"
    },
    {
     "name": "stdout",
     "output_type": "stream",
     "text": [
      "Production Run done in: 34.92883634567261 seconds\n",
      "Sampling at window: 5 out of 10\n"
     ]
    },
    {
     "data": {
      "application/vnd.jupyter.widget-view+json": {
       "model_id": "3b23453c37804a92b9814d35c08dcacb",
       "version_major": 2,
       "version_minor": 0
      },
      "text/plain": [
       "Minimization Win 5:   0%|          | 0/50 [00:00<?, ?it/s]"
      ]
     },
     "metadata": {},
     "output_type": "display_data"
    },
    {
     "name": "stdout",
     "output_type": "stream",
     "text": [
      "Minimization in: 3.077148914337158 seconds\n",
      "Equilibration in: 0.019017696380615234 seconds\n"
     ]
    },
    {
     "data": {
      "application/vnd.jupyter.widget-view+json": {
       "model_id": "c32d2de1dbbc46cb835e11b0c03d9f88",
       "version_major": 2,
       "version_minor": 0
      },
      "text/plain": [
       "Production:   0%|          | 0/1000 [00:00<?, ?it/s]"
      ]
     },
     "metadata": {},
     "output_type": "display_data"
    },
    {
     "name": "stdout",
     "output_type": "stream",
     "text": [
      "Production Run done in: 35.74134635925293 seconds\n",
      "Sampling at window: 6 out of 10\n"
     ]
    },
    {
     "data": {
      "application/vnd.jupyter.widget-view+json": {
       "model_id": "1dc71e0e09b1427393c679e4ddec4dc0",
       "version_major": 2,
       "version_minor": 0
      },
      "text/plain": [
       "Minimization Win 6:   0%|          | 0/50 [00:00<?, ?it/s]"
      ]
     },
     "metadata": {},
     "output_type": "display_data"
    },
    {
     "name": "stdout",
     "output_type": "stream",
     "text": [
      "Minimization in: 3.0908102989196777 seconds\n",
      "Equilibration in: 0.019016742706298828 seconds\n"
     ]
    },
    {
     "data": {
      "application/vnd.jupyter.widget-view+json": {
       "model_id": "3085f16f7f414090a088f4d4ceb0e1e2",
       "version_major": 2,
       "version_minor": 0
      },
      "text/plain": [
       "Production:   0%|          | 0/1000 [00:00<?, ?it/s]"
      ]
     },
     "metadata": {},
     "output_type": "display_data"
    },
    {
     "name": "stdout",
     "output_type": "stream",
     "text": [
      "Production Run done in: 35.8053514957428 seconds\n",
      "Sampling at window: 7 out of 10\n"
     ]
    },
    {
     "data": {
      "application/vnd.jupyter.widget-view+json": {
       "model_id": "f6f3befb0b5f4f4fb34bac0390c1d4a0",
       "version_major": 2,
       "version_minor": 0
      },
      "text/plain": [
       "Minimization Win 7:   0%|          | 0/50 [00:00<?, ?it/s]"
      ]
     },
     "metadata": {},
     "output_type": "display_data"
    },
    {
     "name": "stdout",
     "output_type": "stream",
     "text": [
      "Minimization in: 3.1753461360931396 seconds\n",
      "Equilibration in: 0.018016576766967773 seconds\n"
     ]
    },
    {
     "data": {
      "application/vnd.jupyter.widget-view+json": {
       "model_id": "b9e072f814f04535b9302a9feee45151",
       "version_major": 2,
       "version_minor": 0
      },
      "text/plain": [
       "Production:   0%|          | 0/1000 [00:00<?, ?it/s]"
      ]
     },
     "metadata": {},
     "output_type": "display_data"
    },
    {
     "name": "stdout",
     "output_type": "stream",
     "text": [
      "Production Run done in: 35.17026400566101 seconds\n",
      "Sampling at window: 8 out of 10\n"
     ]
    },
    {
     "data": {
      "application/vnd.jupyter.widget-view+json": {
       "model_id": "15b368cd3f8e4bfcb9820cff08360c6c",
       "version_major": 2,
       "version_minor": 0
      },
      "text/plain": [
       "Minimization Win 8:   0%|          | 0/50 [00:00<?, ?it/s]"
      ]
     },
     "metadata": {},
     "output_type": "display_data"
    },
    {
     "name": "stdout",
     "output_type": "stream",
     "text": [
      "Minimization in: 3.2879891395568848 seconds\n",
      "Equilibration in: 0.018016576766967773 seconds\n"
     ]
    },
    {
     "data": {
      "application/vnd.jupyter.widget-view+json": {
       "model_id": "a873dacaee87467b86b23645d44e63cb",
       "version_major": 2,
       "version_minor": 0
      },
      "text/plain": [
       "Production:   0%|          | 0/1000 [00:00<?, ?it/s]"
      ]
     },
     "metadata": {},
     "output_type": "display_data"
    },
    {
     "name": "stdout",
     "output_type": "stream",
     "text": [
      "Production Run done in: 35.72294807434082 seconds\n",
      "Sampling at window: 9 out of 10\n"
     ]
    },
    {
     "data": {
      "application/vnd.jupyter.widget-view+json": {
       "model_id": "9f27d1c136d442c99542475c23ddc8a8",
       "version_major": 2,
       "version_minor": 0
      },
      "text/plain": [
       "Minimization Win 9:   0%|          | 0/50 [00:00<?, ?it/s]"
      ]
     },
     "metadata": {},
     "output_type": "display_data"
    },
    {
     "name": "stdout",
     "output_type": "stream",
     "text": [
      "Minimization in: 2.9216556549072266 seconds\n",
      "Equilibration in: 0.01801609992980957 seconds\n"
     ]
    },
    {
     "data": {
      "application/vnd.jupyter.widget-view+json": {
       "model_id": "46dfb057391f4c0e88ed3a0f7e800915",
       "version_major": 2,
       "version_minor": 0
      },
      "text/plain": [
       "Production:   0%|          | 0/1000 [00:00<?, ?it/s]"
      ]
     },
     "metadata": {},
     "output_type": "display_data"
    },
    {
     "name": "stdout",
     "output_type": "stream",
     "text": [
      "Production Run done in: 36.35183382034302 seconds\n",
      "Sampling at window: 10 out of 10\n"
     ]
    },
    {
     "data": {
      "application/vnd.jupyter.widget-view+json": {
       "model_id": "f9dc34c39ffb461b8adb7d159a236318",
       "version_major": 2,
       "version_minor": 0
      },
      "text/plain": [
       "Minimization Win 10:   0%|          | 0/50 [00:00<?, ?it/s]"
      ]
     },
     "metadata": {},
     "output_type": "display_data"
    },
    {
     "name": "stdout",
     "output_type": "stream",
     "text": [
      "Minimization in: 3.0557854175567627 seconds\n",
      "Equilibration in: 0.019017696380615234 seconds\n"
     ]
    },
    {
     "data": {
      "application/vnd.jupyter.widget-view+json": {
       "model_id": "4c16e31f08cc406fa4c236365566affc",
       "version_major": 2,
       "version_minor": 0
      },
      "text/plain": [
       "Production:   0%|          | 0/1000 [00:00<?, ?it/s]"
      ]
     },
     "metadata": {},
     "output_type": "display_data"
    },
    {
     "name": "stdout",
     "output_type": "stream",
     "text": [
      "Production Run done in: 36.21452045440674 seconds\n"
     ]
    }
   ],
   "source": [
    "import time\n",
    "#The main loop to run umbrella sampling window by window\n",
    "st = time.time()\n",
    "\n",
    "#We will start from the PDB positions, so we need to load them again\n",
    "#FOr saving the trajectories (.dcd ) in the correct topology we have to load them again\n",
    "pdb_file = 'toppar/step3_input.pdb' #Path\n",
    "psf_file = 'toppar/step3_input.psf' #Path\n",
    "psf = omm_app.CharmmPsfFile(psf_file)\n",
    "pdb = omm_app.PDBFile(pdb_file)\n",
    "\n",
    "for window in range(M):\n",
    "    s = time.time()\n",
    "    print(f\"Sampling at window: {window+1} out of {M}\")\n",
    "    \n",
    "    # Set the center of the biasing potential for each window\n",
    "    context.setParameter(\"r0\", umbrella_centers[window])\n",
    "\n",
    "    # Minimizing step \n",
    "    context.setPositions(pdb.positions)\n",
    "    state = context.getState(getEnergy = True)\n",
    "    energy = state.getPotentialEnergy()\n",
    "    \n",
    "    for i in tqdm_notebook(range(50), desc=\"Minimization Win {}\".format(window+1)):\n",
    "        omm.LocalEnergyMinimizer_minimize(context, 1, 20)\n",
    "        state = context.getState(getEnergy = True)\n",
    "        energy = state.getPotentialEnergy()\n",
    "        \n",
    "    print(\"Minimization in:\", str(time.time() - s), \"seconds\")\n",
    "    s = time.time()\n",
    "    \n",
    "    #Initial equilibration step\n",
    "    integrator.step(500)\n",
    "    \n",
    "    print(\"Equilibration in:\", str(time.time() - s), \"seconds\")\n",
    "    s = time.time()\n",
    "\n",
    "    #Sampling production. trajectories are saved in dcd files\n",
    "    #file_handle = open(f\"trajectories/traj_{window+1}_US_test.dcd\", 'bw')\n",
    "    file_handle = open(f\"trajectories/long_traj/traj_win{window+1}_US.dcd\", 'bw')\n",
    "    dcd_file = omm_app.dcdfile.DCDFile(file_handle, psf.topology, dt = stepsize)\n",
    "    \n",
    "    for i in tqdm_notebook(range(1000), desc=\"Production\"):\n",
    "        integrator.step(100)\n",
    "        state = context.getState(getPositions = True)\n",
    "        positions = state.getPositions()\n",
    "        dcd_file.writeModel(positions)\n",
    "    file_handle.close()\n",
    "    \n",
    "    print(\"Production Run done in:\", str(time.time() - s), \"seconds\")"
   ]
  },
  {
   "cell_type": "markdown",
   "id": "36e4ba04-5aff-43ec-bf14-715d462e8ecf",
   "metadata": {},
   "source": [
    "Once the simulations have finished, we will have the correspoinding trajectories in the **/trajectories/** folder for further analysis. Our next step is to calculate the RC obtained for each window. \n"
   ]
  },
  {
   "cell_type": "markdown",
   "id": "7629c524-85b1-45b0-b777-7efa2c319623",
   "metadata": {
    "tags": []
   },
   "source": [
    "-------"
   ]
  },
  {
   "cell_type": "markdown",
   "id": "c90716cf-b5b9-4afa-b3d4-494bd1e9b1a6",
   "metadata": {
    "tags": []
   },
   "source": [
    "## Optional tasks"
   ]
  },
  {
   "cell_type": "markdown",
   "id": "57316e23-29b0-46c2-ac75-aa5a2cea8c46",
   "metadata": {},
   "source": [
    "\n",
    "We recommend if time allows, or at home, to try the following:\n",
    "- Try changing the number of umbrellas. How does it affect the obtained free energy profile?. ***Answer:*** A very small number of umbrellas will make your windows very spread and sample very little, whereas having too many umbrellas is computationally expensive.  \n",
    "- Try also changing to linearly spaced windows (np.linspace). How is the sampling affecting the free energy profile?. ***Answer:*** Having an even sampling is helpful to easily sample the whole space, but sometimes a part can be more valuable than the rest and you might want to place more umbrellas. \n",
    "- Try modifying the force constant (K) to different values. How does it affects the sampling?.  ***Answer:*** High values will restrict the sampling to a very limited area, thus having no overlap between windows. A very low value will allow the windows to sample all configurations with too much overlap between the windows. "
   ]
  },
  {
   "cell_type": "markdown",
   "id": "94b78ca6-69f7-45b3-bfc4-3987c192ca38",
   "metadata": {
    "tags": []
   },
   "source": [
    "# 1.3 Computing the biased CVs"
   ]
  },
  {
   "cell_type": "markdown",
   "id": "1951f730-19c2-4893-9d48-e3a9b5fa47fd",
   "metadata": {
    "tags": []
   },
   "source": [
    "### Aims of this Notebook"
   ]
  },
  {
   "cell_type": "markdown",
   "id": "d101fb5c-9536-4ee1-87da-aedfd4e41998",
   "metadata": {},
   "source": [
    "The aim of this notebook is to show how to easily fetch your RC from your resulting trajectories. We will be using mdtraj for this. \n",
    "\n",
    "You will learn: \n",
    "1. Calculate interatomic distances on mdtraj for your trajectories\n",
    "2. Visualize the distances from the trajectories\n",
    "3. Assess the overlapping of the different windows. \n",
    "4. Plot a simple histogram of the sampled biased data. "
   ]
  },
  {
   "cell_type": "markdown",
   "id": "e7b732e4-cb36-4b85-83b4-4b8b02ff09d8",
   "metadata": {
    "tags": []
   },
   "source": [
    "## Introduction"
   ]
  },
  {
   "cell_type": "markdown",
   "id": "cd9b8b9d-96cc-414f-955b-bacb8ad7d452",
   "metadata": {},
   "source": [
    "After running the umbrella sampling on the NaCl complex we will have to calculate their distance at each of the windows/trajectories generated in order to reconstruct the free energy profile of the dissociation in water. In our case the reaction coordinate (RC) of the process is the interatomic distance between Na and Cl. For this we will use the mdtraj module which quickly loads the trajectory and calculates the distances for the atoms we specify."
   ]
  },
  {
   "cell_type": "markdown",
   "id": "231d237c-013f-45ce-8097-c46c1386a55c",
   "metadata": {},
   "source": [
    "<center>\n",
    "<img src=\"images/dissociation.png\" alt=\"NaCl\" width=\"500\"/>\n",
    "</center>"
   ]
  },
  {
   "cell_type": "markdown",
   "id": "8b9321ab-e57b-4966-93fc-54a119ee88ad",
   "metadata": {},
   "source": [
    "-------"
   ]
  },
  {
   "cell_type": "markdown",
   "id": "aa0dd5f0-f649-485e-95a5-6eb7ed3d388c",
   "metadata": {
    "tags": []
   },
   "source": [
    "## Hands-on Code"
   ]
  },
  {
   "cell_type": "markdown",
   "id": "2f15b7c0-542b-4189-87d4-c6865e87bf28",
   "metadata": {
    "tags": []
   },
   "source": [
    "### Loading trajectory and calculating distances"
   ]
  },
  {
   "cell_type": "markdown",
   "id": "742e5b68-de99-414f-a7fb-ad9ead455384",
   "metadata": {},
   "source": [
    "In order for mdtraj to calculate the distances we need to specify the topology for the .dcd file we saved. Additionally we will have to provide the atom index for the atoms we want to calculate the distance of. In our case 0 and 1 (python indexing based) are the relevant atoms. Then we will save the data in a .csv file for later analysis with the unbiasing tools to recover the profiles. "
   ]
  },
  {
   "cell_type": "code",
   "execution_count": 15,
   "id": "3f79296d-bbe1-48b6-8116-3ebffbd8b044",
   "metadata": {},
   "outputs": [],
   "source": [
    "#We need to load the topology so mdtraj knows what is what\n",
    "topology = mdtraj.load_psf('toppar/step3_input.psf')\n",
    "\n",
    "#Depending on the number of umbrellas we used we will have the same trajectories\n",
    "all_dists = []\n",
    "for window in range(M):\n",
    "    #traj = mdtraj.load_dcd(f\"trajectories/traj_{window+1}_US_test.dcd\", topology)\n",
    "    traj = mdtraj.load_dcd(f\"trajectories/long_traj/traj_win{window+1}_US.dcd\", topology) #WARNING! Uncomment in case you could not run the umbrellas\n",
    "    dist = mdtraj.compute_distances(traj, [[0, 1]]) #Calculate distance\n",
    "    np.savetxt(f\"output_files/dist_win_{window+1}.csv\", dist, fmt = \"%.5f\", delimiter = \",\") # Save them for later analysis\n",
    "    all_dists.append(dist.T[0]) #Append to the list \n",
    "    \n",
    "all_dists = np.array(all_dists)*10 #We multiply by 10 so it's in Angstroms when we plot them"
   ]
  },
  {
   "cell_type": "markdown",
   "id": "2ea161b4-90aa-4146-987f-a4ba5d42e402",
   "metadata": {},
   "source": [
    "After calculating the distances, we'll make a few checks to see if the sampled datapoints are correct and if they sample the space."
   ]
  },
  {
   "cell_type": "code",
   "execution_count": 16,
   "id": "3c6450a8-61a1-4adf-86a8-d0e54c8d7b25",
   "metadata": {},
   "outputs": [
    {
     "data": {
      "text/plain": [
       "Text(0.5, 0, 'Steps')"
      ]
     },
     "execution_count": 16,
     "metadata": {},
     "output_type": "execute_result"
    },
    {
     "data": {
      "image/png": "[encoded data removed]",
      "text/plain": [
       "<Figure size 640x480 with 1 Axes>"
      ]
     },
     "metadata": {},
     "output_type": "display_data"
    }
   ],
   "source": [
    "plt.title(\"Sampled Values\")\n",
    "for window in range(M):\n",
    "    plt.plot(all_dists[window], label=f\"Win {window+1}\")\n",
    "plt.legend()\n",
    "plt.ylabel(\"Angstroms\")\n",
    "plt.xlabel(\"Steps\")"
   ]
  },
  {
   "cell_type": "markdown",
   "id": "73ed61c3-09ab-4787-af13-081aee3e834d",
   "metadata": {},
   "source": [
    "As seen previously the windows sample throughout the RC space, from 2Å up to 7Å the endpoint of our umbrella centers. We see some overlapping, but we want to see how well the windows overlap, otherwise the space in between could not be sampled properly. "
   ]
  },
  {
   "cell_type": "code",
   "execution_count": 17,
   "id": "7b98a157-c35b-4d33-aecb-d3bd00cf5a2e",
   "metadata": {},
   "outputs": [
    {
     "data": {
      "text/plain": [
       "Text(0.5, 0, 'Distance in Angstroms')"
      ]
     },
     "execution_count": 17,
     "metadata": {},
     "output_type": "execute_result"
    },
    {
     "data": {
      "image/png": "[encoded data removed]",
      "text/plain": [
       "<Figure size 640x480 with 1 Axes>"
      ]
     },
     "metadata": {},
     "output_type": "display_data"
    }
   ],
   "source": [
    "plt.title(\"Sampled Distance\")\n",
    "for n, dist in enumerate(all_dists):\n",
    "    counts, bins, _ = plt.hist(dist, bins=50, density=True, alpha=0.5, color=f\"C{n}\")\n",
    "    plt.plot(bins[:-1], counts, c=f\"C{n}\")\n",
    "plt.ylabel(\"PDF\")\n",
    "plt.xlabel(\"Distance in Angstroms\")"
   ]
  },
  {
   "cell_type": "markdown",
   "id": "56e8c548-96f0-4a7e-a606-e69f620b6153",
   "metadata": {},
   "source": [
    "You can nicely see how each umbrella window has sampled a region of the RC and you see more centers have been placed between 2Å and 4Å, which is the region where the energy barrier of the dissociation can be found. We can plot the resulting sampled histogram for all trajectories to see how its profile looks like"
   ]
  },
  {
   "cell_type": "code",
   "execution_count": 18,
   "id": "b2b86505-0f8d-4c2c-a817-ecb93ded304c",
   "metadata": {},
   "outputs": [
    {
     "data": {
      "text/plain": [
       "Text(0.5, 0, 'Distance in Angstroms')"
      ]
     },
     "execution_count": 18,
     "metadata": {},
     "output_type": "execute_result"
    },
    {
     "data": {
      "image/png": "[encoded data removed]",
      "text/plain": [
       "<Figure size 640x480 with 1 Axes>"
      ]
     },
     "metadata": {},
     "output_type": "display_data"
    }
   ],
   "source": [
    "plt.title(\"Sampled Distance\")\n",
    "counts, bins, _ = plt.hist(np.concatenate(all_dists), bins=50, density=True, alpha=0.5)\n",
    "plt.plot(bins[:-1], counts)\n",
    "plt.ylabel(\"PDF\")\n",
    "plt.xlabel(\"Distance in Angstroms\")"
   ]
  },
  {
   "cell_type": "markdown",
   "id": "aaa464ca-0342-4e8a-99d4-53f658d9e151",
   "metadata": {},
   "source": [
    "If the data were to be unbiased, we could have tried to simply construct the profile from the resulting histogram. As you see, the profile resembles the one of a dissociation, we did sample throughout the RC, but even the umbrellas can be seen from here. "
   ]
  },
  {
   "cell_type": "markdown",
   "id": "2b4333c9-57f5-46ac-a7c7-ef78a8d1cafa",
   "metadata": {},
   "source": [
    "-----"
   ]
  },
  {
   "cell_type": "markdown",
   "id": "2142911b-f8ec-4d4e-adc8-ce5f76d5c2ed",
   "metadata": {
    "tags": []
   },
   "source": [
    "## Optional tasks"
   ]
  },
  {
   "cell_type": "markdown",
   "id": "53807891-94e8-4e78-9392-962232c4a444",
   "metadata": {},
   "source": [
    "We recommend if time allows, or at home, to try the following:\n",
    "- Try generating the histograms with less data using all_dists[start:end] i.e. all_dists[0:500] or striding the data all_dists[::10]. "
   ]
  },
  {
   "cell_type": "markdown",
   "id": "1e0767ac-6ab4-4895-a863-fe8eca0a0797",
   "metadata": {
    "tags": []
   },
   "source": [
    "# 1.4 Unbiasing the data"
   ]
  },
  {
   "cell_type": "markdown",
   "id": "42fe1b0c-564c-4dc6-983b-bbc2ac8686a3",
   "metadata": {},
   "source": [
    "### Aims of this Notebook"
   ]
  },
  {
   "cell_type": "markdown",
   "id": "1bf06a6b-51f2-476d-ba1d-e86f0630e7cc",
   "metadata": {},
   "source": [
    "The aim of this notebook is to teach you how to unbias the obtained data from the umbrella sampling trajectories and how to succesfully reconstruct the free energy profile for the dissociation of NaCl. \n",
    "\n",
    "You will learn: \n",
    "1. How to read in the obtained distances\n",
    "2. How to calculate the bias that was applied on the trajectories by the biasing harmonic potential\n",
    "4. How to prepare the data for unbiasing. \n",
    "3. How to recover the dissociation free energy profile with the Weighted Histogram Analysis Method (WHAM) and the Multistate Bennett Acceptance Ratio (MBAR). "
   ]
  },
  {
   "cell_type": "markdown",
   "id": "a24fc132-34e6-499b-9fe3-c7f6629ed023",
   "metadata": {},
   "source": [
    "## Introduction"
   ]
  },
  {
   "cell_type": "code",
   "execution_count": 26,
   "id": "b6fb06a5-5936-4e20-8636-41c31f870dab",
   "metadata": {},
   "outputs": [],
   "source": [
    "# read distance values from the umbrella sampling\n",
    "dists = []\n",
    "for window in range(M):\n",
    "    dist = np.loadtxt(f\"output_files/dist_win_{window+1}.csv\", delimiter = \",\")\n",
    "    dists.append(dist*10) # We convert them to Angstroms"
   ]
  },
  {
   "cell_type": "code",
   "execution_count": 44,
   "id": "ffd9901c-2b79-4a0e-b864-245dd5ca0cc9",
   "metadata": {},
   "outputs": [
    {
     "ename": "TypeError",
     "evalue": "value_in_unit_system() missing 1 required positional argument: 'system'",
     "output_type": "error",
     "traceback": [
      "\u001b[1;31m---------------------------------------------------------------------------\u001b[0m",
      "\u001b[1;31mTypeError\u001b[0m                                 Traceback (most recent call last)",
      "\u001b[1;32m~\\AppData\\Local\\Temp\\ipykernel_32624\\3912008259.py\u001b[0m in \u001b[0;36m<module>\u001b[1;34m\u001b[0m\n\u001b[1;32m----> 1\u001b[1;33m \u001b[0mT\u001b[0m\u001b[1;33m.\u001b[0m\u001b[0mvalue_in_unit_system\u001b[0m\u001b[1;33m(\u001b[0m\u001b[1;33m)\u001b[0m\u001b[1;33m\u001b[0m\u001b[1;33m\u001b[0m\u001b[0m\n\u001b[0m",
      "\u001b[1;31mTypeError\u001b[0m: value_in_unit_system() missing 1 required positional argument: 'system'"
     ]
    }
   ],
   "source": []
  },
  {
   "cell_type": "code",
   "execution_count": 46,
   "id": "3537aa76-98ff-4e06-b6f7-53aa393186f6",
   "metadata": {},
   "outputs": [
    {
     "name": "stdout",
     "output_type": "stream",
     "text": [
      "0.2\n",
      "0.029873234219054474\n",
      "0.028540368357594596\n",
      "0.02733024741376998\n",
      "0.02622470150300528\n",
      "0.02520887011504236\n",
      "0.02427051793240176\n",
      "0.02339950957041062\n",
      "0.022587401838175286\n",
      "0.021827124132349773\n",
      "0.021112725747416128\n",
      "0.02043917455529315\n",
      "0.01980219550896445\n",
      "0.0191981402938593\n",
      "0.018623881536191378\n",
      "0.01807672651218062\n",
      "0.01755434644494236\n",
      "0.01705471833512162\n",
      "0.016576076924116723\n",
      "0.016116874889045674\n",
      "0.01567574975474878\n",
      "0.015251496309173052\n",
      "0.014843043544311207\n",
      "0.014449435331006344\n",
      "0.014069814183873541\n",
      "0.013703407590688554\n",
      "0.013349516475493428\n",
      "0.01300750544113971\n",
      "0.012676794499067556\n",
      "0.01235685204469783\n",
      "0.012047188877907788\n",
      "0.011747353102058433\n",
      "0.01145692576273627\n",
      "0.011175517110401989\n",
      "0.010902763390107428\n",
      "0.010638324077089312\n",
      "0.010381879490245716\n",
      "0.010133128726308782\n",
      "0.009891787866585733\n",
      "0.00965758841581632\n",
      "0.009430275938900445\n",
      "0.009209608866701302\n",
      "0.008995357446514918\n",
      "0.00878730281651341\n",
      "0.008585236186752332\n",
      "0.008388958111818945\n",
      "0.008198277842537571\n",
      "0.008013012746048154\n",
      "0.007832987785063361\n",
      "0.007658035048586087\n",
      "0.007487993327395359\n",
      "0.007322707728687039\n",
      "0.007162029324882746\n",
      "0.007005814832619528\n",
      "0.0068539263182073595\n",
      "0.006706230926467827\n",
      "0.006562600630431015\n",
      "0.006422911999464653\n",
      "0.006287045983925599\n",
      "0.0061548877145944925\n",
      "0.006026326315392239\n",
      "0.0059012547281139804\n",
      "0.005779569547995633\n",
      "0.005661170869152743\n",
      "0.0055459621390072655\n",
      "0.0054338500209282214\n",
      "0.005324744264419756\n",
      "0.0052185575822322194\n",
      "0.005115205533905431\n",
      "0.005014606415195133\n",
      "0.004916681153027569\n",
      "0.004821353205569201\n",
      "0.004728548467036853\n",
      "0.004638195177013027\n",
      "0.004550223833889255\n",
      "0.004464567112263951\n",
      "0.0043811597839906735\n",
      "0.004299938642723711\n",
      "0.004220842431735927\n",
      "0.0041438117747891745\n",
      "0.004068789109970439\n",
      "0.003995718626273681\n",
      "0.003924546202807577\n",
      "0.003855219350501038\n",
      "0.003787687156165731\n",
      "0.003721900228807584\n",
      "0.0036578106480787964\n",
      "0.0035953719147726604\n",
      "0.0035345389032572783\n",
      "0.003475267815744365\n",
      "0.0034175161383535047\n",
      "0.003361242598833414\n",
      "0.0033064071259143457\n",
      "0.0032529708101778354\n",
      "0.003200895866429576\n",
      "0.0031501455974238812\n",
      "0.003100684358992689\n",
      "0.0030524775264291204\n",
      "0.0030054914620984974\n",
      "0.002959693484244408\n",
      "0.0029150518369285283\n",
      "0.002871535661032043\n",
      "0.0028291149663175474\n",
      "0.0027877606044632852\n",
      "0.002747444243090813\n",
      "0.0027081383406553083\n",
      "0.002669816122265578\n",
      "0.0026324515562963224\n",
      "0.0025960193318650404\n",
      "0.0025604948370425706\n",
      "0.002525854137828798\n",
      "0.0024920739578477846\n",
      "0.0024591316587119216\n",
      "0.0024270052210777493\n",
      "0.0023956732263190617\n",
      "0.00236511483881241\n",
      "0.0023353097888083596\n",
      "0.0023062383558940525\n",
      "0.0022778813529640285\n",
      "0.002250220110733503\n",
      "0.0022232364627656764\n",
      "0.0021969127309682257\n",
      "0.0021712317115449853\n",
      "0.0021461766614510047\n",
      "0.0021217312852017667\n",
      "0.0020978797221922196\n",
      "0.002074606534318457\n",
      "0.002051896694083455\n",
      "0.002029735573003899\n",
      "0.0020081089304160304\n",
      "0.001987002902618329\n",
      "0.001966403992345267\n",
      "0.0019462990585823459\n",
      "0.0019266753066695674\n",
      "0.0019075202787108836\n",
      "0.0018888218443005034\n",
      "0.00187056819149789\n",
      "0.0018527478180856427\n",
      "0.001835349523098273\n",
      "0.0018183623985827957\n",
      "0.0018017758216382074\n",
      "0.0017855794466474784\n",
      "0.001769763197772889\n",
      "0.0017543172616583114\n",
      "0.0017392320803495398\n",
      "0.0017244983443966966\n",
      "0.001710106986217319\n",
      "0.001696049173572245\n",
      "0.0016823163032853028\n",
      "0.001668899995135309\n",
      "0.0016557920859068265\n",
      "0.0016429846236099\n",
      "0.0016304698618858637\n",
      "0.0016182402545492636\n",
      "0.001606288450298754\n",
      "0.0015946072875692163\n",
      "0.0015831897895233205\n",
      "0.001572029159197852\n",
      "0.0015611187747768263\n",
      "0.0015504521849825093\n",
      "0.0015400231046287516\n",
      "0.0015298254102620312\n",
      "0.0015198531359259526\n",
      "0.001510100469086284\n",
      "0.0015005617465979615\n",
      "0.0014912314508472857\n",
      "0.0014821042059394163\n",
      "0.0014731747740537315\n",
      "0.001464438051836714\n",
      "0.001455889066931837\n",
      "0.0014475229745982698\n",
      "0.0014393350543930872\n",
      "0.0014313207069884815\n",
      "0.0014234754510240588\n",
      "0.001415794920085256\n",
      "0.0014082748597403771\n",
      "0.0014009111246575667\n",
      "0.0013936996758032727\n",
      "0.0013866365777110978\n",
      "0.0013797179958379147\n",
      "0.001372940193957728\n",
      "0.0013662995316570115\n",
      "0.0013597924618842239\n",
      "0.0013534155285490623\n",
      "0.0013471653642089798\n",
      "0.0013410386878018876\n",
      "0.0013350323024394761\n",
      "0.0013291430932567128\n",
      "0.0013233680253368352\n",
      "0.001317704141644116\n",
      "0.001312148561063875\n",
      "0.0013066984764709133\n",
      "0.0013013511528245925\n",
      "0.0012961039253527318\n",
      "0.0012909541977605965\n",
      "0.0012858994404960633\n",
      "0.0012809371890294408\n",
      "0.001276065042239427\n",
      "0.001271280660764873\n",
      "0.0012665817654666789\n",
      "0.001261966135881476\n",
      "0.0012574316087390347\n",
      "0.0012529760765038755\n",
      "0.0012485974859741678\n",
      "0.0012442938368946166\n",
      "0.0012400631806166462\n",
      "0.0012359036187876704\n",
      "0.001231813302074114\n",
      "0.0012277904289292874\n",
      "0.001223833244366812\n",
      "0.0012199400387959969\n",
      "0.0012161091468514407\n",
      "0.0012123389462996847\n",
      "0.0012086278569103381\n",
      "0.0012049743394317858\n",
      "0.0012013768945173808\n",
      "0.0011978340617357919\n",
      "0.00119434441857047\n",
      "0.0011909065794757367\n",
      "0.001187519194911557\n",
      "0.0011841809504586909\n",
      "0.0011808905659180802\n",
      "0.0011776467944386582\n",
      "0.0011744484216671403\n",
      "0.0011712942649402258\n",
      "0.0011681831724565939\n",
      "0.00116511402252506\n",
      "0.0011620857227689907\n",
      "0.001159097209389115\n",
      "0.0011561474464718557\n",
      "0.0011532354252077326\n",
      "0.0011503601632834037\n",
      "0.0011475207041562463\n",
      "0.0011447161164137576\n",
      "0.0011419454931322903\n",
      "0.0011392079512653197\n",
      "0.0011365026310119486\n",
      "0.0011338286952491394\n",
      "0.001131185328937967\n",
      "0.001128571738569173\n",
      "0.0011259871516036135\n",
      "0.0011234308159582262\n",
      "0.0011209019994582459\n",
      "0.0011183999893435992\n",
      "0.0011159240917737456\n",
      "0.001113473631333406\n",
      "0.001111047950579147\n",
      "0.00110864640956021\n",
      "0.001106268385382858\n",
      "0.0011039132717680644\n",
      "0.0011015804786249639\n",
      "0.0010992694316525053\n",
      "0.0010969795719044662\n",
      "0.001094710355414863\n",
      "0.0010924612528171451\n",
      "0.0010902317489549507\n",
      "0.0010880213425239482\n",
      "0.001085829545713679\n",
      "0.0010836558838642762\n",
      "0.0010814998951216293\n",
      "0.001079361130108314\n",
      "0.0010772391516089552\n",
      "0.0010751335342422674\n",
      "0.0010730438641701756\n",
      "0.0010709697387887296\n",
      "0.0010689107664474395\n",
      "0.0010668665661424104\n",
      "0.0010648367672778658\n",
      "0.0010628210093677204\n",
      "0.0010608189417751213\n",
      "0.0010588302234708635\n",
      "0.0010568545227696013\n",
      "0.0010548915170942585\n",
      "0.0010529408927373307\n",
      "0.0010510023446292927\n",
      "0.0010490755761067838\n",
      "0.0010471602987149886\n",
      "0.0010452562319600567\n",
      "0.0010433631031223634\n",
      "0.001041480647058446\n",
      "0.0010396086059825116\n",
      "0.0010377467292841391\n",
      "0.0010358947733453139\n",
      "0.0010340525013465829\n",
      "0.0010322196830887531\n",
      "0.0010303960948276902\n",
      "0.0010285815190955727\n",
      "0.001026775744532138\n",
      "0.0010249785657421295\n",
      "0.0010231897831096681\n",
      "0.001021409202667689\n",
      "0.0010196366359418452\n",
      "0.0010178718997921887\n",
      "0.0010161148162928235\n",
      "0.0010143652125815805\n",
      "0.0010126229207174653\n",
      "0.0010108877775649727\n",
      "0.0010091596246573076\n",
      "0.0010074383080713734\n",
      "0.0010057236783098666\n",
      "0.0010040155901733794\n",
      "0.0010023139026631434\n",
      "0.0010006184788438066\n",
      "0.000998929185760833\n",
      "0.0009972458943070528\n",
      "0.0009955684791351782\n",
      "0.0009938968185532193\n",
      "0.000992230794427007\n",
      "0.0009905702920736115\n",
      "0.0009889152001827384\n",
      "0.0009872654107105916\n",
      "0.0009856208188003812\n",
      "0.0009839813226963923\n",
      "0.0009823468236513921\n",
      "0.0009807172258451402\n",
      "0.0009790924363128894\n",
      "0.000977472364863674\n",
      "0.0009758569239941561\n",
      "0.0009742460288244548\n",
      "0.0009726395970295343\n",
      "0.0009710375487539391\n",
      "0.000969439806558059\n",
      "0.0009678462953479627\n",
      "0.000966256942292576\n",
      "0.0009646716767939267\n",
      "0.0009630904303923327\n",
      "0.0009627776405392585\n",
      "0.0009625986327770342\n",
      "0.0009624015397786123\n",
      "0.0009621866429574966\n",
      "0.000961954219839356\n",
      "0.0009617045440957206\n",
      "0.0009614378856065975\n",
      "0.0009611545105100427\n",
      "0.0009608546812540086\n",
      "0.0009605386566507446\n",
      "0.0009602066919103258\n",
      "0.0009598590387043249\n",
      "0.000959495945220934\n",
      "0.0009591176561832837\n",
      "0.0009587244129266592\n",
      "0.0009583164534321398\n",
      "0.0009578940123642354\n",
      "0.0009574573211401094\n",
      "0.0009570066079419015\n",
      "0.0009565420977894479\n",
      "0.0009560640125605424\n",
      "0.0009555725710564955\n",
      "0.000955067989021563\n",
      "0.0009545504792058401\n",
      "0.0009540202513791396\n",
      "0.0009534775124084294\n",
      "0.0009529224662585545\n",
      "0.0009523553140567409\n",
      "0.0009517762541331742\n",
      "0.0009511854820372645\n",
      "0.0009505831905989304\n",
      "0.0009499695699471955\n",
      "0.0009493448075669764\n",
      "0.00094870908831024\n",
      "0.000948062594464727\n",
      "0.0009474055057485109\n",
      "0.0009467379993790548\n",
      "0.0009460602500936388\n",
      "0.0009453724301884958\n",
      "0.0009446747095354646\n",
      "0.0009439672556386114\n",
      "0.000943250233653492\n",
      "0.0009425238064198482\n",
      "0.0009417881345040735\n",
      "0.0009410433762041537\n",
      "0.0009402896876152256\n",
      "0.0009395272226324636\n",
      "0.0009387561329936012\n",
      "0.0009379765683055763\n",
      "0.0009371886760763393\n",
      "0.0009363926017414981\n",
      "0.0009355884886850796\n",
      "0.0009347764782870471\n",
      "0.0009339567099318491\n",
      "0.0009331293210397273\n",
      "0.0009322944471066297\n",
      "0.0009314522217103716\n",
      "0.0009306027765528802\n",
      "0.0009297462414741831\n",
      "0.0009288827445010361\n",
      "0.0009280124118272726\n",
      "0.0009271353678862448\n",
      "0.0009262517353525457\n",
      "0.0009253616351631577\n",
      "0.0009244651865474851\n",
      "0.0009235625070533882\n",
      "0.0009226537125629486\n",
      "0.0009217389173202806\n",
      "0.0009208182339592308\n",
      "0.0009198917735088741\n",
      "0.0009189596454319271\n",
      "0.0009180219576361281\n",
      "0.0009170788165013821\n",
      "0.0009161303269005772\n",
      "0.0009151765922220112\n",
      "0.0009142177143754426\n",
      "0.0009132537938300045\n",
      "0.0009122849296239743\n",
      "0.0009113112193966932\n",
      "0.0009103327593838473\n",
      "0.0009093496444638749\n",
      "0.0009083619681589106\n",
      "0.0009073698226644278\n",
      "0.0009063732988521256\n",
      "0.0009053724863011259\n",
      "0.0009043674733177909\n",
      "0.0009033583469459927\n",
      "0.0009023451929821014\n",
      "0.00090132809599347\n",
      "0.0009003071393554052\n",
      "0.000899282405225521\n",
      "0.0008982539746096863\n",
      "0.000897221927331382\n",
      "0.0008961863420856586\n",
      "0.0008951472964358609\n",
      "0.0008941048668201779\n",
      "0.0008930591285977729\n",
      "0.0008920101560362936\n",
      "0.000890958022330357\n",
      "0.0008899027996282505\n",
      "0.0008888445590433114\n",
      "0.0008877833706514293\n",
      "0.0008867193035306808\n",
      "0.0008856524257624399\n",
      "0.000884582804432571\n",
      "0.0008835105056747283\n",
      "0.000882435594652925\n",
      "0.0008813581355994471\n",
      "0.0008802781918094971\n",
      "0.0008791958256609278\n",
      "0.0008781110986332274\n",
      "0.0008770240713155686\n",
      "0.0008759348034101111\n",
      "0.0008748433537486833\n",
      "0.0008737497803227579\n",
      "0.0008726541402661603\n",
      "0.0008715564898865713\n",
      "0.0008704568846724658\n",
      "0.0008693553792991915\n",
      "0.0008682520276437067\n",
      "0.0008671468828016504\n",
      "0.0008660399970858712\n",
      "0.0008649314220478821\n",
      "0.0008638212084822183\n",
      "0.0008627094064375118\n",
      "0.0008615960652324783\n",
      "0.0008604812334568335\n",
      "0.0008593649589909991\n",
      "0.0008582472890061865\n",
      "0.0008571282699775806\n",
      "0.0008560079477067384\n",
      "0.0008548863673038254\n",
      "0.0008537635732244753\n",
      "0.0008526396092584376\n",
      "0.0008515145185602757\n",
      "0.0008503883436306869\n",
      "0.0008492611263503091\n",
      "0.0008481329079730593\n",
      "0.0008470037291399002\n",
      "0.0008458736298944114\n",
      "0.0008447426496737132\n",
      "0.0008436108273336407\n",
      "0.0008424782011469123\n",
      "0.0008413448088204767\n",
      "0.0008402106874871584\n",
      "0.0008390758737344128\n",
      "0.0008379404035938343\n",
      "0.0008368043125596691\n",
      "0.0008356676355896209\n",
      "0.000834530407123002\n",
      "0.0008333926610711029\n",
      "0.0008322544308408952\n",
      "0.0008311157493313126\n",
      "0.0008299766489441862\n",
      "0.0008288371615911561\n",
      "0.0008276973187023584\n",
      "0.0008265571512234282\n",
      "0.0008254166896412563\n",
      "0.0008242759639692232\n",
      "0.0008231350037672946\n",
      "0.0008219938381447967\n",
      "0.000820852495765162\n",
      "0.0008197110048513423\n",
      "0.0008185693931978266\n",
      "0.0008174276881662002\n",
      "0.0008162859167081815\n",
      "0.0008151441053461383\n",
      "0.0008140022802009261\n",
      "0.0008128604669922768\n",
      "0.000811718691049762\n",
      "0.0008105769772852323\n",
      "0.0008094353502465512\n",
      "0.0008082938340912837\n",
      "0.0008071524526012952\n",
      "0.0008060112291947974\n",
      "0.0008048701869080577\n",
      "0.0008037293484375041\n",
      "0.0008025887361045037\n",
      "0.0008014483718945531\n",
      "0.0008003082774357684\n",
      "0.0007991684740215887\n",
      "0.0007980289826130527\n",
      "0.0007968898238296107\n",
      "0.0007957510179731619\n",
      "0.0007946125850150643\n",
      "0.000793474544613898\n",
      "0.0007923369161143834\n",
      "0.0007911997185506003\n",
      "0.0007900629706556472\n",
      "0.0007889266908581993\n",
      "0.0007877908972866166\n",
      "0.0007866556077857079\n",
      "0.0007855208399112912\n",
      "0.0007843866109261688\n",
      "0.000783252937823109\n",
      "0.0007821198373126337\n",
      "0.0007809873258383948\n",
      "0.0007798554195678487\n",
      "0.0007787241344113793\n",
      "0.0007775934860162204\n",
      "0.0007764634897665101\n",
      "0.0007753341607990571\n",
      "0.00077420551399629\n",
      "0.0007730775640023002\n",
      "0.0007719503252028581\n",
      "0.000770823811759136\n",
      "0.0007696980375865858\n",
      "0.0007685730163767279\n",
      "0.0007674487615711989\n",
      "0.0007663252864105463\n",
      "0.0007652026038953708\n",
      "0.0007640807268083638\n",
      "0.0007629596677188599\n",
      "0.0007618394389833361\n",
      "0.0007607200527396663\n",
      "0.0007596015209193618\n",
      "0.0007584838552582018\n",
      "0.000757367067275666\n",
      "0.0007562511683038564\n",
      "0.000755136169467957\n",
      "0.0007540220817073284\n",
      "0.0007529089157639057\n",
      "0.0007517966821943001\n",
      "0.0007506853913768763\n",
      "0.00074957505348483\n",
      "0.0007484656785340937\n",
      "0.0007473572763545544\n",
      "0.0007462498565924958\n",
      "0.0007451434287314707\n",
      "0.000744038002080949\n",
      "0.0007429335857828123\n",
      "0.0007418301888081347\n",
      "0.0007407278199750844\n",
      "0.0007396264879251102\n",
      "0.0007385262011596616\n",
      "0.0007374269680093248\n",
      "0.000736328796654806\n",
      "0.000735231695126265\n",
      "0.0007341356712990965\n",
      "0.0007330407329053379\n",
      "0.0007319468875338353\n",
      "0.0007308541426204462\n",
      "0.0007297625054659418\n",
      "0.0007286719832337862\n",
      "0.0007275825829385352\n",
      "0.0007264943114753675\n",
      "0.0007254071755903313\n",
      "0.0007243211819093209\n",
      "0.0007232363369169825\n",
      "0.0007221526469831929\n",
      "0.0007210701183389123\n",
      "0.0007199887571014973\n",
      "0.0007189085692581587\n",
      "0.0007178295606727891\n",
      "0.0007167517371008958\n",
      "0.0007156751041700604\n",
      "0.0007145996674003119\n",
      "0.0007135254321928575\n",
      "0.0007124524038304436\n",
      "0.0007113805875039181\n",
      "0.0007103099882693892\n",
      "0.0007092406110998928\n",
      "0.0007081724608430928\n",
      "0.0007071055422503691\n",
      "0.0007060398599744305\n",
      "0.0007049754185564083\n",
      "0.0007039122224483663\n",
      "0.0007028502759881539\n",
      "0.0007017895834358495\n",
      "0.0007007301489370121\n",
      "0.0006996719765555437\n",
      "0.0006986150702592564\n",
      "0.0006975594339221763\n",
      "0.0006965050713237386\n",
      "0.0006954519861688824\n",
      "0.000694400182056798\n",
      "0.0006933496625109031\n",
      "0.000692300430965867\n",
      "0.0006912524907740081\n",
      "0.0006902058452128851\n",
      "0.0006891604974523791\n",
      "0.0006881164506141041\n",
      "0.0006870737077205175\n",
      "0.0006860322717188172\n",
      "0.000684992145485494\n",
      "0.0006839533318131474\n",
      "0.0006829158334285129\n",
      "0.0006818796529753784\n",
      "0.0006808447930366918\n",
      "0.0006798112561148956\n",
      "0.0006787790446373954\n",
      "0.0006777481609768488\n",
      "0.0006767186074284892\n",
      "0.0006756903862206037\n",
      "0.0006746634995147827\n",
      "0.0006736379494124006\n",
      "0.0006726137379436253\n",
      "0.0006715908670801435\n",
      "0.000670569338726959\n",
      "0.0006695491547329818\n",
      "0.0006685303168816187\n",
      "0.0006675128269023889\n",
      "0.000666496686452106\n",
      "0.0006654818971515014\n",
      "0.0006644684605452006\n",
      "0.0006634563781287156\n",
      "0.0006624456513458499\n",
      "0.0006614362815824809\n",
      "0.0006604282701690167\n",
      "0.00065942161837651\n",
      "0.0006584163274433591\n",
      "0.0006574123985374769\n",
      "0.0006564098327878631\n",
      "0.0006554086312684226\n",
      "0.0006544087950026978\n",
      "0.0006534103249696971\n",
      "0.0006524132221013279\n",
      "0.0006514174872737505\n",
      "0.0006504231213330797\n",
      "0.0006494301250634521\n",
      "0.0006484384992209852\n",
      "0.0006474482444988328\n",
      "0.0006464593615630593\n",
      "0.0006454718510190416\n",
      "0.0006444857134523807\n",
      "0.0006435009493944016\n",
      "0.0006425175593329502\n",
      "0.0006415355437262016\n",
      "0.0006405549029792623\n",
      "0.0006395756374722728\n",
      "0.0006385977475317495\n",
      "0.000637621233463101\n",
      "0.0006366460955254671\n",
      "0.0006356723339412951\n",
      "0.0006346999488974076\n",
      "0.0006337289405437679\n",
      "0.0006327593090059286\n",
      "0.0006317910543535143\n",
      "0.0006308241766469908\n",
      "0.0006298586758986952\n",
      "0.0006288945520907946\n",
      "0.0006279318051733013\n",
      "0.0006269704350681943\n",
      "0.000626010441656763\n",
      "0.0006250518248031717\n",
      "0.0006240945843331708\n",
      "0.000623138720036942\n",
      "0.0006221842316914833\n",
      "0.0006212311190261499\n",
      "0.0006202793817567942\n",
      "0.0006193290195686679\n",
      "0.0006183800321134109\n",
      "0.000617432419012312\n",
      "0.0006164861798779661\n",
      "0.0006155413142802449\n",
      "0.0006145978217679121\n",
      "0.0006136557018648486\n",
      "0.0006127149540741603\n",
      "0.0006117755778633216\n",
      "0.0006108375726870396\n",
      "0.0006099009379732442\n",
      "0.0006089656731252113\n",
      "0.0006080317775204735\n",
      "0.0006070992505199449\n",
      "0.0006061680914550352\n",
      "0.0006052382996434361\n",
      "0.000604309874375826\n",
      "0.0006033828149242942\n",
      "0.0006024571205380108\n",
      "0.0006015327904502488\n",
      "0.0006006098238674068\n",
      "0.0005996882199807985\n",
      "0.0005987679779593871\n",
      "0.0005978490969573008\n",
      "0.0005969315761089819\n",
      "0.0005960154145271887\n",
      "0.0005951006113054866\n",
      "0.0005941871655307102\n",
      "0.0005932750762526126\n",
      "0.0005923643425204267\n",
      "0.0005914549633619995\n",
      "0.0005905469377904746\n",
      "0.0005896402647900534\n",
      "0.0005887349433504607\n",
      "0.0005878309724251865\n",
      "0.0005869283509683867\n",
      "0.0005860270779001267\n",
      "0.0005851271521475007\n",
      "0.0005842285726078006\n",
      "0.0005833313381701441\n",
      "0.000582435447708321\n",
      "0.0005815409000810429\n",
      "0.0005806476941297017\n",
      "0.0005797558286903468\n",
      "0.0005788653025811524\n",
      "0.0005779761146110091\n",
      "0.0005770882635712168\n",
      "0.0005762017482336193\n",
      "0.0005753165673872546\n",
      "0.0005744327197696811\n",
      "0.000573550204140641\n",
      "0.0005726690192219622\n",
      "0.0005717891637365344\n",
      "0.000570910636397394\n",
      "0.0005700334359072315\n",
      "0.0005691575609555397\n",
      "0.0005682830102139852\n",
      "0.0005674097823580061\n",
      "0.0005665378760444199\n",
      "0.0005656672899165653\n",
      "0.0005647980226176109\n",
      "0.0005639300727746828\n",
      "0.0005630634390075516\n",
      "0.0005621981199247401\n",
      "0.0005613341141329775\n",
      "0.000560471420218641\n",
      "0.0005596100367690031\n",
      "0.0005587499623604213\n",
      "0.0005578911955545322\n",
      "0.0005570337349190269\n",
      "0.0005561775789988954\n",
      "0.0005553227263366926\n",
      "0.0005544691754719375\n",
      "0.0005536169249339348\n",
      "0.0005527659732362696\n",
      "0.0005519163188930469\n",
      "0.0005510679604218728\n",
      "0.0005502208963114943\n",
      "0.0005493751250624061\n",
      "0.0005485306451583037\n",
      "0.0005476874550744484\n",
      "0.0005468455532885233\n",
      "0.0005460049382730175\n",
      "0.0005451656084808597\n",
      "0.0005443275623741514\n",
      "0.0005434907983999475\n",
      "0.0005426553150037483\n",
      "0.0005418211106247087\n",
      "0.0005409881836965693\n",
      "0.0005401565326468225\n",
      "0.0005393261558980251\n",
      "0.000538497051869289\n",
      "0.0005376692189765966\n",
      "0.0005368426556263597\n",
      "0.0005360173602197028\n",
      "0.000535193331164481\n",
      "0.0005343705668477954\n",
      "0.0005335490656663902\n",
      "0.0005327288260014345\n",
      "0.0005319098462381851\n",
      "0.0005310921247568901\n",
      "0.000530275659931914\n",
      "0.0005294604501340774\n",
      "0.0005286464937300419\n",
      "0.0005278337890835903\n",
      "0.0005270223345568998\n",
      "0.0005262121285045111\n",
      "0.0005254031692839387\n",
      "0.0005245954552442192\n",
      "0.0005237889847329951\n",
      "0.0005229837560917245\n",
      "0.0005221797676695349\n",
      "0.0005213770177971986\n",
      "0.0005205755048214726\n",
      "0.0005197752270674942\n",
      "0.0005189761828653467\n",
      "0.0005181783705511239\n",
      "0.0005173817884455705\n",
      "0.0005165864348741275\n",
      "0.0005157923081590718\n",
      "0.0005149994066218698\n",
      "0.0005142077285764622\n",
      "0.0005134172723410832\n",
      "0.0005126280362298622\n",
      "0.0005118400185554423\n",
      "0.0005110532176274604\n",
      "0.0005102676317511904\n",
      "0.0005094832592371784\n",
      "0.000508700098388497\n",
      "0.0005079181475128973\n",
      "0.0005071374049099228\n",
      "0.0005063578688805515\n",
      "0.000505579537727046\n",
      "0.000504802409747443\n",
      "0.0005040264832377149\n",
      "0.0005032517564972482\n",
      "0.0005024782278168632\n",
      "0.0005017058954944233\n",
      "0.0005009347578254324\n",
      "0.0005001648130983031\n",
      "0.0004993960596082359\n",
      "0.0004986284956458101\n",
      "0.0004978621195013602\n",
      "0.0004970969294642146\n",
      "0.000496332923826958\n",
      "0.0004955701008723876\n",
      "0.0004948084588957194\n",
      "0.0004940479961819608\n",
      "0.0004932887110182874\n",
      "0.0004925306016929885\n",
      "0.000491773666493632\n",
      "0.0004910179037064463\n",
      "0.0004902633116207512\n",
      "0.0004895098885199546\n",
      "0.0004887576326889909\n",
      "0.0004880065424230917\n",
      "0.0004872566160011721\n",
      "0.0004865078517114728\n",
      "0.0004857602478418044\n",
      "0.00048501380267950214\n",
      "0.0004842685145104164\n",
      "0.00048352438162409944\n",
      "0.00048278140230820915\n",
      "0.0004820395748472775\n",
      "0.0004812988975297361\n",
      "0.0004805593686502095\n",
      "0.00047982098649580404\n",
      "0.0004790837493537335\n",
      "0.0004783476555160794\n",
      "0.00047761270327073904\n",
      "0.00047687889091315924\n",
      "0.00047614621673382207\n",
      "0.00047541467902599555\n",
      "0.0004746842760767582\n",
      "0.00047395500619151765\n",
      "0.0004732268676573212\n",
      "0.000472499858771222\n",
      "0.00047177397783114416\n",
      "0.00047104922313211117\n",
      "0.0004703255929723524\n",
      "0.0004696030856521233\n",
      "0.00046888169947178343\n",
      "0.0004681614327314357\n",
      "0.00046744228373184205\n",
      "0.0004667242507756589\n",
      "0.00046600733217070506\n",
      "0.00046529152622060144\n",
      "0.0004645768312286913\n",
      "0.000463863245504105\n",
      "0.00046315076735428673\n",
      "0.00046243939509132276\n",
      "0.0004617291270228793\n",
      "0.0004610199614628052\n",
      "0.00046031189672572637\n",
      "0.0004596049311247005\n",
      "0.0004588990629702111\n",
      "0.0004581942905873687\n",
      "0.00045749061229334587\n",
      "0.0004567880264071955\n",
      "0.00045608653124692283\n",
      "0.00045538612514129523\n",
      "0.0004546868064066664\n",
      "0.00045398857337703574\n",
      "0.00045329142437111614\n",
      "0.0004525953577246833\n",
      "0.00045190037176130043\n",
      "0.00045120646481927595\n",
      "0.0004505136352258299\n",
      "0.0004498218813188959\n",
      "0.0004491312014329035\n",
      "0.00044844159390415583\n",
      "0.0004477530570765956\n",
      "0.00044706558929021034\n",
      "0.00044637918888348893\n",
      "0.0004456938542037603\n",
      "0.00044500958359762477\n",
      "0.00044432637541284153\n",
      "0.0004436442279973779\n",
      "0.0004429631397001865\n",
      "0.00044228310888149575\n",
      "0.0004416041338910909\n",
      "0.00044092621308131075\n",
      "0.0004402493448174283\n",
      "0.00043957352745693096\n",
      "0.0004388987593590063\n",
      "0.00043822503889191095\n",
      "0.0004375523644180243\n",
      "0.0004368807343045483\n",
      "0.00043621014691945514\n",
      "0.00043554060063630273\n",
      "0.000434872093829336\n",
      "0.0004342046248691153\n",
      "0.00043353819213555467\n",
      "0.0004328727940048349\n",
      "0.0004322084288600689\n",
      "0.00043154509507797867\n",
      "0.00043088279105017724\n",
      "0.000430221515161075\n",
      "0.0004295612657969558\n",
      "0.00042890204134798937\n",
      "0.0004282438402078842\n",
      "0.0004275866607698492\n",
      "0.00042693050142929984\n",
      "0.0004262753605879452\n",
      "0.000425621236642304\n",
      "0.00042496812799577843\n",
      "0.00042431603305340126\n",
      "0.00042366495022287676\n",
      "0.0004230148779108267\n",
      "0.00042236581452541333\n",
      "0.0004217177584834447\n",
      "0.0004210707081965387\n",
      "0.000420424662083807\n",
      "0.0004197796185603231\n",
      "0.0004191355760504861\n",
      "0.0004184925329779321\n",
      "0.00041785048776417366\n",
      "0.00041720943883868933\n",
      "0.00041656938462941717\n",
      "0.00041593032356739\n",
      "0.0004152922540896081\n",
      "0.00041465517462566104\n",
      "0.00041401908361872464\n",
      "0.0004133839795107813\n",
      "0.0004127498607376656\n",
      "0.00041211672574389957\n",
      "0.0004114845729808886\n",
      "0.0004108534008934739\n",
      "0.00041022320793339395\n",
      "0.0004095939925547881\n",
      "0.00040896575321117123\n",
      "0.00040833848835918063\n",
      "0.00040771219646150436\n",
      "0.0004070868759736973\n",
      "0.0004064625253682175\n",
      "0.0004058391431057684\n",
      "0.0004052167276528823\n",
      "0.00040459527748440416\n",
      "0.0004039747910705993\n",
      "0.00040335526688287104\n",
      "0.00040273670340863765\n",
      "0.0004021190991136403\n",
      "0.00040150245249204186\n",
      "0.00040088676201718854\n",
      "0.00040027202618396485\n",
      "0.0003996582434726975\n",
      "0.00039904541237971436\n",
      "0.00039843353139493165\n",
      "0.0003978225990127343\n",
      "0.00039721261373100447\n",
      "0.00039660357404751323\n",
      "0.0003959954784690245\n",
      "0.00039538832549163017\n",
      "0.00039478211362946325\n",
      "0.0003941768413826263\n",
      "0.00039357250726995696\n",
      "0.0003929691097928345\n",
      "0.00039236664747764605\n",
      "0.00039176511883862175\n",
      "0.00039116452239400246\n",
      "0.00039056485666207064\n",
      "0.00038996612017161425\n",
      "0.00038936831144892325\n",
      "0.0003887714290207178\n",
      "0.00038817547141524467\n",
      "0.00038758043717010415\n",
      "0.0003869863248189831\n",
      "0.0003863931328992737\n",
      "0.0003858008599474383\n",
      "0.00038520950451251257\n",
      "0.0003846190651320136\n",
      "0.0003840295403567534\n",
      "0.00038344092873277\n",
      "0.00038285322881237427\n",
      "0.0003822664391479047\n",
      "0.00038168055829684855\n",
      "0.0003810955848166514\n",
      "0.0003805115172649254\n",
      "0.0003799283542064297\n",
      "0.0003793460942013438\n",
      "0.00037876473582092174\n",
      "0.00037818427763676443\n",
      "0.0003776047182131731\n",
      "0.00037702605612818796\n",
      "0.0003764482899565741\n",
      "0.00037587141827322146\n",
      "0.0003752954396643998\n",
      "0.00037472035270667836\n",
      "0.00037414615599018486\n",
      "0.00037357284810013436\n",
      "0.00037300042762052066\n",
      "0.0003724288931502423\n",
      "0.0003718582432787332\n",
      "0.00037128847660462816\n",
      "0.00037071959172362\n",
      "0.0003701515872367861\n",
      "0.0003695844617469385\n",
      "0.00036901821386346734\n",
      "0.0003684528421850769\n",
      "0.0003678883453279713\n",
      "0.0003673247218963921\n",
      "0.00036676197051528636\n",
      "0.00036620008979268426\n",
      "0.000365639078344665\n",
      "0.00036507893479945097\n",
      "0.0003645196577760773\n",
      "0.0003639612458982422\n",
      "0.00036340369779538917\n",
      "0.0003628470120956989\n",
      "0.00036229118742746313\n",
      "0.00036173622243358683\n",
      "0.00036118211573978043\n",
      "0.0003606288659915441\n",
      "0.0003600764718262178\n",
      "0.00035952493188588786\n",
      "0.0003589742448157074\n",
      "0.00035842440926674157\n",
      "0.0003578754238814791\n",
      "0.0003573272873179101\n",
      "0.0003567799982256564\n",
      "0.0003562335552595719\n",
      "0.0003556879570807553\n",
      "0.0003551432023505552\n",
      "0.00035459928972539356\n",
      "0.0003540562178769163\n",
      "0.0003535139854676933\n",
      "0.0003529725911674275\n",
      "0.0003524320336468073\n",
      "0.0003518923115810313\n",
      "0.00035135342364295274\n",
      "0.0003508153685117671\n",
      "0.0003502781448673775\n",
      "0.00034974175139224073\n",
      "0.00034920618676731463\n",
      "0.0003486714496809956\n",
      "0.00034813753882452503\n",
      "0.0003476044528857858\n",
      "0.0003470721905556584\n",
      "0.0003465407505337248\n",
      "0.0003460101315104075\n",
      "0.0003454803321892852\n",
      "0.0003449513512779334\n",
      "0.0003444231874662751\n",
      "0.00034389583947079527\n",
      "0.0003433693059940318\n",
      "0.0003428435857478207\n",
      "0.0003423186774405146\n",
      "0.0003417945797881128\n",
      "0.00034127129151391433\n",
      "0.0003407488113256474\n",
      "0.00034022713794949755\n",
      "0.0003397062701081949\n",
      "0.00033918620652394205\n",
      "0.0003386669459281705\n",
      "0.0003381484870398077\n",
      "0.00033763082859845917\n",
      "0.0003371139693364861\n",
      "0.0003365979079920506\n",
      "0.00033608264329429427\n",
      "0.00033556817398509853\n",
      "0.0003350544988090648\n",
      "0.0003345416165109055\n",
      "0.00033402952583148904\n",
      "0.00033351822551648536\n",
      "0.00033300771432270837\n",
      "0.00033249799100397437\n",
      "0.0003319890543035803\n",
      "0.000331480902982656\n",
      "0.00033097353580265054\n",
      "0.0003304669515219183\n",
      "0.0003299611489018389\n",
      "0.00032945612670376434\n",
      "0.00032895188369626294\n",
      "0.00032844841864804186\n",
      "0.00032794573033301244\n",
      "0.0003274438175190908\n",
      "0.0003269426789833385\n",
      "0.0003264423134964889\n",
      "0.00032594271984331957\n",
      "0.00032544389680283503\n",
      "0.0003249458431571206\n",
      "0.00032444855769031555\n",
      "0.00032395203919355353\n",
      "0.00032345628644306346\n",
      "0.0003229612982430241\n",
      "0.0003224670733824875\n",
      "0.00032197361065294805\n",
      "0.0003214809088508408\n",
      "0.00032098896677942856\n",
      "0.00032049778323506306\n",
      "0.00032000735702242267\n",
      "0.00031951768694568616\n",
      "0.0003190287718129736\n",
      "0.00031854061042776993\n",
      "0.00031805320161107375\n",
      "0.0003175665441662312\n",
      "0.000317080636907191\n",
      "0.00031659547865559023\n",
      "0.00031611106823045687\n",
      "0.00031562740444557313\n",
      "0.0003151444861301811\n",
      "0.0003146623121073333\n",
      "0.0003141808812021085\n",
      "0.00031370019224127854\n",
      "0.0003132202440570553\n",
      "0.0003127410354815119\n",
      "0.00031226256535041297\n",
      "0.0003117848324926953\n",
      "0.0003113078357569743\n",
      "0.00031083157397543415\n",
      "0.0003103560459932764\n",
      "0.00030988125065384287\n",
      "0.0003094071868008086\n",
      "0.00030893385328406575\n",
      "0.00030846124895420046\n",
      "0.0003079893726593286\n",
      "0.00030751822325436606\n",
      "0.00030704779959520034\n",
      "0.00030657810053652534\n",
      "0.00030610912494100084\n",
      "0.00030564087166665144\n",
      "0.0003051733395821321\n",
      "0.00030470652754460703\n",
      "0.0003042404344225924\n",
      "0.00030377505908904534\n",
      "0.0003033104004106224\n",
      "0.000302846457259337\n",
      "0.0003023832285128647\n",
      "0.0003019207130408319\n",
      "0.00030145890972810285\n",
      "0.00030099781744993837\n",
      "0.0003005374350894263\n",
      "0.0003000777615300154\n",
      "0.0002996187956593177\n",
      "0.0002991605363597827\n",
      "0.0002987029825242127\n",
      "0.0002982461330400532\n",
      "0.00029778998680451974\n",
      "0.00029733454271049786\n",
      "0.000296879799653732\n",
      "0.0002964257565306605\n",
      "0.0002959724122427454\n",
      "0.0002955197656946962\n",
      "0.00029506781578683694\n",
      "0.0002946165614267915\n",
      "0.00029416600151960237\n",
      "0.0002937161349771955\n",
      "0.0002932669607083327\n",
      "0.00029281847762605007\n",
      "0.00029237068464765814\n",
      "0.00029192358068352853\n",
      "0.00029147716465721674\n",
      "0.00029103143549047417\n",
      "0.00029058639209872394\n",
      "0.00029014203340935185\n",
      "0.000289698358345164\n",
      "0.000289255365834018\n",
      "0.00028881305480848996\n",
      "0.0002883714241936619\n",
      "0.00028793047292804963\n",
      "0.0002874901999412316\n",
      "0.0002870506041717791\n",
      "0.00028661168455682007\n",
      "0.000286173440031956\n",
      "0.00028573586954325214\n",
      "0.00028529897203155574\n",
      "0.0002848627464441811\n",
      "0.0002844271917247232\n",
      "0.00028399230682243926\n",
      "0.0002835580906886126\n",
      "0.0002831245422697526\n",
      "0.0002826916605256635\n",
      "0.0002822594444078508\n",
      "0.0002818278928756468\n",
      "0.00028139700488674646\n",
      "0.00028096677940014914\n",
      "0.0002805372153797392\n",
      "0.0002801083117879577\n",
      "0.00027968006759165887\n",
      "0.00027925248175741935\n",
      "0.0002788255532538142\n",
      "0.0002783992810489466\n",
      "0.000277973664120329\n",
      "0.00027754870143831267\n",
      "0.00027712439197766225\n",
      "0.00027670073472291223\n",
      "0.0002762777286441087\n",
      "0.0002758553727283397\n",
      "0.00027543366595564334\n",
      "0.0002750126073094994\n",
      "0.00027459219577638527\n",
      "0.0002741724303418347\n",
      "0.00027375330999732106\n",
      "0.00027333483373759293\n",
      "0.00027291700054660195\n",
      "0.0002724998094217612\n",
      "0.00027208325936159405\n",
      "0.00027166734936381887\n",
      "0.0002712520784216854\n",
      "0.0002708374455426821\n",
      "0.0002704234497214464\n",
      "0.000270010089969297\n",
      "0.0002695973652893924\n",
      "0.0002691852746879442\n",
      "0.0002687738171777698\n",
      "0.00026836299176014045\n",
      "0.00026795279746044676\n",
      "0.0002675432332817085\n",
      "0.0002671342982458469\n",
      "0.0002667259913663733\n",
      "0.0002663183116608514\n",
      "0.00026591125815256245\n",
      "0.00026550482986378854\n",
      "0.00026509902581506317\n",
      "0.0002646938450351355\n",
      "0.0002642892865460933\n",
      "0.0002638853493769633\n",
      "0.00026348203256390534\n",
      "0.0002630793351317551\n",
      "0.00026267725611262005\n",
      "0.00026227579454810024\n",
      "0.00026187494947402246\n",
      "0.00026147471991949667\n",
      "0.0002610751049287596\n",
      "0.0002606761035450489\n",
      "0.00026027771480582884\n",
      "0.00025987993776496743\n",
      "0.0002594827714550718\n",
      "0.0002590862149348949\n",
      "0.00025869026724420485\n",
      "0.0002582949274387847\n",
      "0.00025790019456911617\n",
      "0.0002575060676894281\n",
      "0.00025711254584964705\n",
      "0.00025671962811474325\n",
      "0.00025632731353700255\n",
      "0.00025593560117764813\n",
      "0.0002555444900979864\n",
      "0.0002551539793612112\n",
      "0.0002547640680328478\n",
      "0.00025437475517328667\n",
      "0.0002539860398556304\n",
      "0.00025359792114401647\n",
      "0.00025321039811324053\n",
      "0.00025282346983401816\n",
      "0.00025243713537428936\n",
      "0.0002520513938159552\n",
      "0.0002516662442342832\n",
      "0.00025128168570417997\n",
      "0.0002508977173059368\n",
      "0.0002505143381232311\n",
      "0.0002501315472327459\n",
      "0.0002497493437240428\n",
      "0.00024936772668032736\n",
      "0.00024898669518866323\n",
      "0.0002486062483375018\n",
      "0.0002482263852178479\n",
      "0.000247847104917015\n",
      "0.00024746840652972724\n",
      "0.0002470902891539284\n",
      "0.00024671275188295483\n",
      "0.0002463357938111421\n",
      "0.0002459594140385435\n",
      "0.0002455836116714294\n",
      "0.00024520838580222026\n",
      "0.00024483373553813026\n",
      "0.0002444596599867621\n",
      "0.0002440861582484466\n",
      "0.00024371322943589346\n",
      "0.00024334087265245885\n",
      "0.0002429690870147383\n",
      "0.00024259787162778101\n",
      "0.00024222722561267895\n",
      "0.00024185714807614667\n",
      "0.00024148763813966467\n",
      "0.00024111869491966198\n",
      "0.00024075031753109655\n",
      "0.00024038250510027837\n",
      "0.00024001525674793855\n",
      "0.00023964857159555764\n",
      "0.00023928244876661453\n",
      "0.0002389168873920544\n",
      "0.0002385518865948011\n",
      "0.00023818744550510584\n",
      "0.00023782356325202647\n",
      "0.00023746023897139312\n",
      "0.00023709747179323504\n",
      "0.0002367352608530493\n",
      "0.00023637360528547258\n",
      "0.00023601250422744524\n",
      "0.00023565195682245799\n",
      "0.00023529196220647974\n",
      "0.0002349325195187546\n",
      "0.00023457362790821334\n",
      "0.00023421528651668133\n",
      "0.00023385749449209015\n",
      "0.00023350025097382265\n",
      "0.00023314355511980245\n",
      "0.0002327874060747137\n",
      "0.00023243180299228894\n",
      "0.00023207674502170872\n",
      "0.00023172223131889824\n",
      "0.0002313682610400325\n",
      "0.00023101483333934358\n",
      "0.00023066194737414447\n",
      "0.00023030960231421038\n",
      "0.0002299577973072231\n",
      "0.00022960653152181987\n",
      "0.00022925580411931046\n",
      "0.00022890561426475164\n",
      "0.00022855596112472676\n",
      "0.00022820684387003798\n",
      "0.0002278582616628555\n",
      "0.00022751021367889424\n",
      "0.0002271626990885678\n",
      "0.0002268157170629559\n",
      "0.00022646926677508117\n",
      "0.0002261233474059321\n",
      "0.0002257779581275321\n",
      "0.00022543309812206314\n",
      "0.0002250887665630752\n",
      "0.00022474496263891197\n",
      "0.0002244016855248998\n",
      "0.00022405893440649582\n",
      "0.00022371670847140535\n",
      "0.00022337500690525203\n",
      "0.00022303382889338197\n",
      "0.00022269317362463847\n",
      "0.00022235304028667136\n",
      "0.00022201342807842694\n",
      "0.00022167433618106025\n",
      "0.00022133576380301\n",
      "0.00022099771012781821\n",
      "0.00022066017435679042\n",
      "0.00022032315568401573\n",
      "0.0002199866533162953\n",
      "0.00021965066644516473\n",
      "0.00021931519427839663\n",
      "0.00021898023601535366\n",
      "0.00021864579086203206\n",
      "0.00021831185802428932\n",
      "0.00021797843670537387\n",
      "0.00021764552612046906\n",
      "0.0002173131254712135\n",
      "0.00021698123397156932\n",
      "0.00021664985083438837\n",
      "0.00021631897526913635\n",
      "0.00021598860649613139\n",
      "0.00021565874372767024\n",
      "0.000215329386178853\n",
      "0.00021500053307074718\n",
      "0.0002146721836181198\n",
      "0.00021434433704978217\n",
      "0.00021401699258194462\n",
      "0.0002136901494376453\n",
      "0.00021336380684225387\n",
      "0.00021303796402014075\n",
      "0.00021271262020236548\n",
      "0.0002123877746115499\n",
      "0.00021206342648016907\n",
      "0.00021173957504064256\n",
      "0.0002114162195200886\n",
      "0.00021109335915481253\n",
      "0.00021077099317606818\n",
      "0.00021044912082296419\n",
      "0.00021012774133019607\n",
      "0.00020980685393465204\n",
      "0.00020948645787904896\n",
      "0.0002091665524010522\n",
      "0.0002088471367420741\n",
      "0.00020852821014741285\n",
      "0.00020820977185487255\n",
      "0.0002078918211177172\n",
      "0.00020757435717580486\n",
      "0.00020725737928162236\n",
      "0.00020694088668146704\n",
      "0.00020662487862468937\n",
      "0.00020630935436546927\n",
      "0.0002059943131527131\n",
      "0.00020567975423946283\n",
      "0.00020536567688742013\n",
      "0.00020505208034238276\n",
      "0.00020473896387351864\n",
      "0.00020442632672743044\n",
      "0.0002041141681676517\n",
      "0.00020380248745555107\n",
      "0.00020349128385543924\n",
      "0.00020318055662923995\n",
      "0.00020287030503940429\n",
      "0.00020256052835102012\n",
      "0.00020225122582825938\n",
      "0.00020194239674733994\n",
      "0.00020163404037176758\n",
      "0.00020132615596932246\n",
      "0.00020101874281627796\n",
      "0.00020071180017902646\n",
      "0.00020040532733636707\n",
      "0.00020009932356382376\n",
      "0.0001997937881319245\n",
      "0.00019948872031888554\n",
      "0.00019918411940766934\n",
      "0.0001988799846698308\n",
      "0.00019857631539213494\n",
      "0.00019827311085243715\n",
      "0.00019797037033852938\n",
      "0.00019766809313007117\n",
      "0.00019736627851207889\n",
      "0.00019706492577067913\n",
      "0.00019676403419460753\n",
      "0.00019646360307301602\n",
      "0.00019616363169219775\n",
      "0.00019586411934618964\n",
      "0.00019556506532400486\n",
      "0.00019526646891818156\n",
      "0.00019496832942736408\n",
      "0.00019467064614014928\n",
      "0.00019437341835945587\n",
      "0.00019407664537610114\n",
      "0.00019378032649436383\n",
      "0.000193484461012694\n",
      "0.00019318904822573923\n",
      "0.00019289408744188608\n",
      "0.00019259957796635696\n",
      "0.00019230551909449334\n",
      "0.00019201191013673569\n",
      "0.00019171875040102648\n",
      "0.00019142603918873013\n",
      "0.000191133775814728\n",
      "0.000190841959583965\n",
      "0.0001905505898082971\n",
      "0.0001902596657995248\n",
      "0.00018996918687133602\n",
      "0.00018967915233825128\n",
      "0.00018938956151279274\n",
      "0.00018910041371236752\n",
      "0.0001888117082577967\n",
      "0.00018852344445768887\n",
      "0.00018823562163913787\n",
      "0.0001879482391213272\n",
      "0.00018766129622621586\n",
      "0.0001873747922719604\n",
      "0.00018708872658929065\n",
      "0.00018680309849458676\n",
      "0.0001865179073191059\n",
      "0.00018623315238719407\n",
      "0.00018594883303241216\n",
      "0.0001856649485739159\n",
      "0.00018538149835009565\n",
      "0.00018509848168571374\n",
      "0.00018481589792002096\n",
      "0.00018453374637619757\n",
      "0.00018425202639726912\n",
      "0.00018397073731599156\n",
      "0.00018368987846831275\n",
      "0.00018340944919317814\n",
      "0.00018312944882392657\n",
      "0.00018284987670383335\n",
      "0.00018257073217523012\n",
      "0.00018229201457317656\n",
      "0.00018201372324697096\n",
      "0.00018173585753669674\n",
      "0.00018145841679093055\n",
      "0.00018118140034792396\n",
      "0.0001809048075595565\n",
      "0.00018062863777140725\n",
      "0.00018035289033679902\n",
      "0.00018007756459975655\n",
      "0.00017980265991843214\n",
      "0.00017952817563565704\n",
      "0.0001792541111075019\n",
      "0.00017898046568914916\n",
      "0.00017870723873528171\n",
      "0.0001784344296027751\n",
      "0.00017816203764484118\n",
      "0.00017789006222485026\n",
      "0.00017761850269723545\n",
      "0.00017734735842361848\n",
      "0.00017707662876403907\n",
      "0.00017680631308239492\n",
      "0.0001765364107381151\n",
      "0.0001762669210994272\n",
      "0.00017599784353183878\n",
      "0.00017572917739569482\n",
      "0.00017546092206108255\n",
      "0.00017519307689473074\n",
      "0.00017492564126880827\n",
      "0.00017465861455254195\n",
      "0.00017439199611382628\n",
      "0.0001741257853276612\n",
      "0.0001738599815635511\n",
      "0.0001735945841973563\n",
      "0.00017332959260715763\n",
      "0.00017306500616445786\n",
      "0.00017280082424481202\n",
      "0.0001725370462313247\n",
      "0.00017227367150229878\n",
      "0.00017201069943201253\n",
      "0.00017174812940262685\n",
      "0.00017148596080046596\n",
      "0.00017122419300474867\n",
      "0.00017096282539924568\n",
      "0.00017070185736983712\n",
      "0.00017044128830168148\n",
      "0.00017018111758079768\n",
      "0.00016992134459556385\n",
      "0.0001696619687339418\n",
      "0.0001694029893870297\n",
      "0.00016914440594129054\n",
      "0.00016888621778893276\n",
      "0.00016862842432421865\n",
      "0.00016837102494179912\n",
      "0.000168114019032245\n",
      "0.00016785740599525867\n",
      "0.00016760118522554657\n",
      "0.0001673453561106264\n",
      "0.00016708991806116402\n",
      "0.00016683487047355894\n",
      "0.00016658021274365553\n",
      "0.00016632594427293257\n",
      "0.0001660720644666991\n",
      "0.00016581857272168765\n",
      "0.00016556546844848086\n",
      "0.00016531275104905707\n",
      "0.0001650604199275041\n",
      "0.00016480847449110159\n",
      "0.00016455691414579698\n",
      "0.00016430573830236717\n",
      "0.00016405494636911877\n",
      "0.00016380453775655113\n",
      "0.00016355451187646808\n",
      "0.000163304868137093\n",
      "0.00016305560595508695\n",
      "0.00016280672474081048\n",
      "0.00016255822391247898\n",
      "0.000162310102887947\n",
      "0.000162062361073273\n",
      "0.0001618149978983574\n",
      "0.0001615680127754482\n",
      "0.0001613214051257028\n",
      "0.0001610751743658656\n",
      "0.00016082931991803773\n",
      "0.00016058384120987146\n",
      "0.0001603387376572507\n",
      "0.00016009400868732815\n",
      "0.00015984965372631277\n",
      "0.0001596056721973882\n",
      "0.00015936206352309967\n",
      "0.00015911882713906533\n",
      "0.0001588759624684133\n",
      "0.0001586334689418767\n",
      "0.0001583913459907993\n",
      "0.0001581495930466914\n",
      "0.00015790820953628937\n",
      "0.00015766719489998526\n",
      "0.00015742654856387706\n",
      "0.0001571862699624449\n",
      "0.00015694635854215933\n",
      "0.0001567068137260097\n",
      "0.00015646763495721916\n",
      "0.00015622882167387608\n",
      "0.00015599037331598398\n",
      "0.00015575228932368512\n",
      "0.00015551456913323602\n",
      "0.00015527721218580592\n",
      "0.00015504021792595024\n",
      "0.00015480358580183262\n",
      "0.0001545673152582583\n",
      "0.00015433140572654325\n",
      "0.00015409585666864567\n",
      "0.000153860667520489\n",
      "0.00015362583773426142\n",
      "0.0001533913667554343\n",
      "0.0001531572540424686\n",
      "0.0001529234990320094\n",
      "0.00015269010118570958\n",
      "0.00015245705994948455\n",
      "0.0001522243747796026\n",
      "0.00015199204512511555\n",
      "0.00015176007044728768\n",
      "0.00015152845020038885\n",
      "0.00015129718383152801\n",
      "0.00015106627080768709\n",
      "0.00015083571058432943\n",
      "0.0001506055026205544\n",
      "0.00015037564636805056\n",
      "0.00015014614130032244\n",
      "0.00014991698686991906\n",
      "0.00014968818254232352\n",
      "0.00014945972777566374\n",
      "0.0001492316220409462\n",
      "0.00014900386479621552\n",
      "0.00014877645551270025\n",
      "0.0001485493936519977\n",
      "0.00014832267868514215\n",
      "0.00014809631007559054\n",
      "0.00014787028729404406\n",
      "0.00014764460981148142\n",
      "0.0001474192770945515\n",
      "0.00014719428861700856\n",
      "0.00014696964385702005\n",
      "0.00014674534227479552\n",
      "0.00014652138335385922\n",
      "0.00014629776656538418\n",
      "0.00014607449138109851\n",
      "0.00014585155728902288\n",
      "0.00014562896374986645\n",
      "0.0001454067102511225\n",
      "0.00014518479627068093\n",
      "0.00014496322128740302\n",
      "0.00014474198477981703\n",
      "0.00014452108623067006\n",
      "0.0001443005251242635\n",
      "0.00014408030093451818\n",
      "0.00014386041315406217\n",
      "0.00014364086126214537\n",
      "0.0001434216447451786\n",
      "0.00014320276308743551\n",
      "0.00014298421578098908\n",
      "0.00014276600230561654\n",
      "0.00014254812215724888\n",
      "0.000142330574818883\n",
      "0.0001421133597830082\n",
      "0.00014189647653720106\n",
      "0.00014167992457889134\n",
      "0.00014146370339324088\n",
      "0.00014124781247593088\n",
      "0.00014103225132189312\n",
      "0.00014081701942694758\n",
      "0.00014060211628724728\n",
      "0.00014038754139264475\n",
      "0.0001401732942421241\n",
      "0.0001399593743375005\n",
      "0.00013974578117431635\n",
      "0.00013953251425249946\n",
      "0.00013931957307183884\n",
      "0.00013910695713029164\n",
      "0.000138894665933198\n",
      "0.00013868269898442698\n",
      "0.00013847105577988184\n",
      "0.00013825973583003748\n",
      "0.00013804873863754175\n",
      "0.00013783806371073237\n",
      "0.00013762771054637302\n",
      "0.00013741767866332077\n",
      "0.00013720796756000464\n",
      "0.00013699857675142368\n",
      "0.00013678950574108617\n",
      "0.00013658075404521242\n",
      "0.00013637232116980869\n",
      "0.00013616420662876383\n",
      "0.00013595640993191438\n",
      "0.0001357489305962023\n",
      "0.0001355417681292992\n",
      "0.0001353349220505895\n",
      "0.00013512839187518333\n",
      "0.00013492217711974508\n",
      "0.00013471627729627622\n",
      "0.0001345106919290462\n",
      "0.00013430542053255445\n",
      "0.00013410046262407604\n",
      "0.0001338958177219962\n",
      "0.00013369148535591346\n",
      "0.00013348746504177056\n",
      "0.00013328375629556577\n",
      "0.00013308035865150503\n",
      "0.0001328772716236437\n",
      "0.00013267449474174686\n",
      "0.00013247202753158271\n",
      "0.00013226986951020425\n",
      "0.00013206802021098474\n",
      "0.00013186647916207939\n",
      "0.0001316652458915879\n",
      "0.00013146431992333563\n",
      "0.00013126370078736516\n",
      "0.00013106338801555095\n",
      "0.0001308633811438753\n",
      "0.0001306636796963856\n",
      "0.0001304642832065106\n",
      "0.00013026519121106528\n",
      "0.00013006640324025875\n",
      "0.00012986791882790838\n",
      "0.0001296697375127165\n",
      "0.00012947185882766776\n",
      "0.00012927428230791183\n",
      "0.0001290770074950931\n",
      "0.00012888003392363956\n",
      "0.00012868336113741607\n",
      "0.0001284869886697404\n",
      "0.0001282909160644774\n",
      "0.0001280951428612176\n",
      "0.00012789966860093926\n",
      "0.00012770449282967222\n",
      "0.00012750961508189995\n",
      "0.00012731503491147933\n",
      "0.00012712075185827842\n",
      "0.00012692676546322001\n",
      "0.00012673307527988342\n",
      "0.0001265396808500796\n",
      "0.00012634658172072655\n",
      "0.00012615377744568113\n",
      "0.00012596126756386772\n",
      "0.00012576905163202978\n",
      "0.00012557712920019393\n",
      "0.00012538549981638836\n",
      "0.00012519416302653186\n",
      "0.00012500311839402922\n",
      "0.00012481236546424412\n",
      "0.0001246219037948082\n",
      "0.00012443173293219534\n",
      "0.0001242418524435851\n",
      "0.00012405226187239826\n",
      "0.0001238629607824282\n",
      "0.00012367394873413762\n",
      "0.00012348522526967054\n",
      "0.0001232967899615911\n",
      "0.00012310864236414476\n",
      "0.00012292078203679502\n",
      "0.00012273320854344627\n",
      "0.0001225459214390101\n",
      "0.0001223589202872799\n",
      "0.00012217220465116085\n",
      "0.00012198577409716638\n",
      "0.0001217996281833722\n",
      "0.00012161376647717992\n",
      "0.00012142818854543602\n",
      "0.00012124289394638277\n",
      "0.00012105788225441616\n",
      "0.00012087315303638269\n",
      "0.00012068870585080216\n",
      "0.00012050454027806579\n",
      "0.00012032065588069019\n",
      "0.00012013705223151705\n",
      "0.00011995372889450628\n",
      "0.00011977068544699598\n",
      "0.00011958792145955188\n",
      "0.00011940543650423852\n",
      "0.00011922323015212122\n",
      "0.00011904130198370222\n",
      "0.00011885965156294143\n",
      "0.00011867827846789858\n",
      "0.00011849718228196249\n",
      "0.0001183163625722572\n",
      "0.00011813581892378133\n",
      "0.0001179555509098762\n",
      "0.00011777555810577045\n",
      "0.00011759584009662927\n",
      "0.00011741639645601598\n",
      "0.00011723722676865167\n",
      "0.00011705833061514959\n",
      "0.00011687970757395805\n",
      "0.00011670135722707808\n",
      "0.000116523279160341\n",
      "0.00011634547295880093\n",
      "0.00011616793820312665\n",
      "0.00011599067447765066\n",
      "0.0001158136813704802\n",
      "0.00011563695846439348\n",
      "0.00011546050534821939\n",
      "0.00011528432160984314\n",
      "0.00011510840683520707\n",
      "0.00011493276061719238\n",
      "0.00011475738253852175\n",
      "0.00011458227219240946\n",
      "0.0001144074291695718\n",
      "0.00011423285306155773\n",
      "0.00011405854345719613\n",
      "0.00011388449995242134\n",
      "0.00011371072213667288\n",
      "0.0001135372096084386\n",
      "0.00011336396195782417\n",
      "0.00011319097878409456\n",
      "0.00011301825967702239\n",
      "0.00011284580423520651\n",
      "0.00011267361205297144\n",
      "0.00011250168273435612\n",
      "0.00011233001587385161\n",
      "0.00011215861106456115\n",
      "0.00011198746791557523\n",
      "0.00011181658601905342\n",
      "0.00011164596498131063\n",
      "0.00011147560439639381\n",
      "0.00011130550387411509\n",
      "0.00011113566300696709\n",
      "0.00011096608140470643\n",
      "0.00011079675867436967\n",
      "0.00011062769441128051\n",
      "0.00011045888822575067\n",
      "0.0001102903397192656\n",
      "0.0001101220485025256\n",
      "0.0001099540141794586\n",
      "0.00010978623635621299\n",
      "0.00010961871464071349\n",
      "0.00010945144864499268\n",
      "0.00010928443797636467\n",
      "0.00010911768224147744\n",
      "0.00010895118105336277\n",
      "0.00010878493402222134\n",
      "0.00010861894075619993\n",
      "0.00010845320087182753\n",
      "0.0001082877139787497\n",
      "0.00010812247969255173\n",
      "0.00010795749762854134\n",
      "0.00010779276739719679\n",
      "0.00010762828861582419\n",
      "0.00010746406089834348\n",
      "0.00010730008385773093\n",
      "0.00010713635711689928\n",
      "0.00010697288029054564\n",
      "0.00010680965300158274\n",
      "0.00010664667485943413\n",
      "0.00010648394548362639\n",
      "0.00010632146450217927\n",
      "0.00010615923153123319\n",
      "0.00010599724618925999\n",
      "0.00010583550810300268\n",
      "0.00010567401688815758\n",
      "0.00010551277217163424\n",
      "0.00010535177357445802\n",
      "0.0001051910207202078\n",
      "0.00010503051323529355\n",
      "0.0001048702507440713\n",
      "0.00010471023286873216\n",
      "0.000104550459240349\n",
      "0.00010439092948244522\n",
      "0.00010423164322498346\n",
      "0.00010407260009220876\n",
      "0.00010391379971519399\n",
      "0.00010375524172090422\n",
      "0.00010359692573691515\n",
      "0.000103438851398574\n",
      "0.00010328101833279035\n",
      "0.00010312342617357917\n",
      "0.00010296607455212436\n",
      "0.00010280896309594612\n",
      "0.00010265209144766363\n",
      "0.00010249545923052272\n",
      "0.0001023390660831458\n",
      "0.00010218291164010296\n",
      "0.00010202699553379935\n",
      "0.00010187131740563293\n",
      "0.00010171587688628803\n",
      "0.00010156067361705157\n",
      "0.00010140570723449205\n",
      "0.00010125097737095912\n",
      "0.00010109648367206958\n",
      "0.00010094222577156087\n",
      "0.00010078820331371752\n",
      "0.00010063441593316513\n",
      "0.00010048086327979489\n",
      "0.00010032754498667806\n",
      "0.0001001744606980437\n",
      "0.0001000216100560114\n",
      "9.98689927003138e-05\n"
     ]
    },
    {
     "name": "stderr",
     "output_type": "stream",
     "text": [
      "D:\\Dropbox\\London2022_EnhancedSamplingWorkshop\\enhanced-sampling-workshop-2022\\Day1\\1.Umbrella_Sampling_NaCl\\src\\wham.py:144: RuntimeWarning: divide by zero encountered in log\n",
      "  self.rUepPerSim = -self.KbT * np.log(PpS) - valu\n"
     ]
    },
    {
     "data": {
      "text/plain": [
       "-2.7056019430363913"
      ]
     },
     "execution_count": 46,
     "metadata": {},
     "output_type": "execute_result"
    }
   ],
   "source": [
    "from src.wham import WHAM\n",
    "#dist = np.load(\"all_dists.npy\")\n",
    "dist = np.array(dists)\n",
    "w = WHAM(\".\")\n",
    "w.skip = 10\n",
    "w.KbT = 0.001987204259 * T\n",
    "w.data = dist.reshape((dist.shape[0], dist.shape[1], 1))\n",
    "w.k_val = np.ones((dist.shape[0], 1)) * K / 418.4\n",
    "w.constr_val = umbrella_centers.reshape(10,1)*10  # We convert them to Angstroms\n",
    "w.converge(0.0001)\n",
    "w.project_1d([1], 50)  # create a nice one, this also plots the contribution from each simulation"
   ]
  },
  {
   "cell_type": "code",
   "execution_count": 47,
   "id": "242d6943-59db-4223-bd48-6027d6099bb0",
   "metadata": {},
   "outputs": [
    {
     "data": {
      "text/plain": [
       "[<matplotlib.lines.Line2D at 0x224b02451c8>]"
      ]
     },
     "execution_count": 47,
     "metadata": {},
     "output_type": "execute_result"
    },
    {
     "data": {
      "image/png": "[encoded data removed]",
      "text/plain": [
       "<Figure size 640x480 with 1 Axes>"
      ]
     },
     "metadata": {},
     "output_type": "display_data"
    }
   ],
   "source": [
    "plt.plot(w.qspace12, w.rUep)"
   ]
  },
  {
   "cell_type": "code",
   "execution_count": null,
   "id": "ad58956a-99a3-4d25-8e0e-c18833be5cb8",
   "metadata": {},
   "outputs": [],
   "source": []
  },
  {
   "cell_type": "code",
   "execution_count": null,
   "id": "0f96d007-e346-4cf2-b3b9-45f3621f0233",
   "metadata": {},
   "outputs": [],
   "source": []
  },
  {
   "cell_type": "code",
   "execution_count": null,
   "id": "754956f5-ada4-42c8-8ade-a5dce2f57eaf",
   "metadata": {},
   "outputs": [],
   "source": []
  },
  {
   "cell_type": "markdown",
   "id": "3b0fa80b-662c-4a55-bc1d-8d71302dd41c",
   "metadata": {},
   "source": [
    "### Imports"
   ]
  },
  {
   "cell_type": "code",
   "execution_count": 9,
   "id": "fc9cf56b-6815-46d0-a142-eefd4f21086d",
   "metadata": {},
   "outputs": [],
   "source": [
    "## import required packages\n",
    "import os, math, sys\n",
    "import numpy as np\n",
    "import matplotlib.pyplot as plt\n",
    "import simtk.openmm.app  as omm_app\n",
    "import simtk.openmm as omm\n",
    "import simtk.unit as unit\n",
    "from tqdm import tqdm\n",
    "import mdtraj\n",
    "from FastMBAR import *\n",
    "from tqdm.notebook import tqdm_notebook"
   ]
  },
  {
   "cell_type": "markdown",
   "id": "4cd1067c-cf62-4810-8a94-a34852a69309",
   "metadata": {},
   "source": [
    "### Aims of this Notebook"
   ]
  },
  {
   "cell_type": "markdown",
   "id": "f243b964-dcd0-49c5-926d-f8608f033b5d",
   "metadata": {},
   "source": [
    "The aim of this notebook is to show how to easily fetch your RC from your resulting trajectories. We will be using mdtraj for this. \n",
    "\n",
    "You will learn: \n",
    "1. Calculate interatomic distances on mdtraj for your trajectories\n",
    "2. Visualize the distances from the trajectories\n",
    "3. Assess the overlapping of the different windows. \n",
    "4. Plot a simple histogram of the sampled biased data. "
   ]
  },
  {
   "cell_type": "markdown",
   "id": "f7d09a65-34b7-4a7d-b2ff-d94acf335ab2",
   "metadata": {},
   "source": [
    "## Introduction"
   ]
  },
  {
   "cell_type": "markdown",
   "id": "be7ac3fc-7a69-44b5-8d28-cc4f360e1667",
   "metadata": {},
   "source": [
    "After running the umbrella sampling on the NaCl complex we will have to calculate their distance at each of the windows/trajectories generated in order to reconstruct the free energy profile of the dissociation in water. In our case the reaction coordinate (RC) of the process is the interatomic distance between Na and Cl. For this we will use the mdtraj module which quickly loads the trajectory and calculates the distances for the atoms we specify."
   ]
  },
  {
   "cell_type": "markdown",
   "id": "cc1b3826-0248-4f87-9b80-abe86bdb3979",
   "metadata": {},
   "source": [
    "<center>\n",
    "<img src=\"images/dissociation.png\" alt=\"NaCl\" width=\"500\"/>\n",
    "</center>"
   ]
  },
  {
   "cell_type": "markdown",
   "id": "4882459f-9aa4-44c6-a891-264e6ad3402c",
   "metadata": {},
   "source": [
    "-------"
   ]
  },
  {
   "cell_type": "markdown",
   "id": "0a7c7943-6b5f-4608-88a8-941aba04de43",
   "metadata": {},
   "source": [
    "## Hands-on Code"
   ]
  },
  {
   "cell_type": "markdown",
   "id": "fa884495-401d-481b-9787-08aa6420c84e",
   "metadata": {},
   "source": [
    "### Loading trajectory and calculating distances"
   ]
  },
  {
   "cell_type": "markdown",
   "id": "a715e1e1-6708-46f3-a082-353c629bd909",
   "metadata": {},
   "source": [
    "In order for mdtraj to calculate the distances we need to specify the topology for the .dcd file we saved. Additionally we will have to provide the atom index for the atoms we want to calculate the distance of. In our case 0 and 1 (python indexing based) are the relevant atoms. Then we will save the data in a .csv file for later analysis with the unbiasing tools to recover the profiles. "
   ]
  },
  {
   "cell_type": "code",
   "execution_count": 10,
   "id": "dd21e921-74dd-4eb2-aaf9-25b5da403940",
   "metadata": {},
   "outputs": [],
   "source": [
    "#We need to load the topology so mdtraj knows what is what\n",
    "topology = mdtraj.load_psf('toppar/step3_input.psf')\n",
    "\n",
    "#Depending on the number of umbrellas we used we will have the same trajectories\n",
    "M = 10\n",
    "\n",
    "all_dists = []\n",
    "for window in range(M):\n",
    "    #traj = mdtraj.load_dcd(f\"trajectories/traj_{window+1}_US_test.dcd\", topology)\n",
    "    traj = mdtraj.load_dcd(f\"trajectories/long_traj/traj_win{window+1}_US.dcd\", topology) #WARNING! Uncomment in case you could not run the umbrellas\n",
    "    dist = mdtraj.compute_distances(traj, [[0, 1]]) #Calculate distance\n",
    "    np.savetxt(f\"output_files/dist_win_{window+1}.csv\", dist, fmt = \"%.5f\", delimiter = \",\") # Save them for later analysis\n",
    "    all_dists.append(dist.T[0]) #Append to the list \n",
    "    \n",
    "all_dists = np.array(all_dists)*10 #We multiply by 10 so it's in Angstroms when we plot them"
   ]
  },
  {
   "cell_type": "markdown",
   "id": "6a9928f1-38ab-4a4a-9359-2054a42ef123",
   "metadata": {},
   "source": [
    "After calculating the distances, we'll make a few checks to see if the sampled datapoints are correct and if they sample the space."
   ]
  },
  {
   "cell_type": "code",
   "execution_count": 11,
   "id": "9fa9ebc0-01c7-434f-9d51-e7bcd20c65fe",
   "metadata": {},
   "outputs": [
    {
     "data": {
      "text/plain": [
       "Text(0.5, 0, 'Steps')"
      ]
     },
     "execution_count": 11,
     "metadata": {},
     "output_type": "execute_result"
    },
    {
     "data": {
      "image/png": "[encoded data removed]",
      "text/plain": [
       "<Figure size 640x480 with 1 Axes>"
      ]
     },
     "metadata": {},
     "output_type": "display_data"
    }
   ],
   "source": [
    "plt.title(\"Sampled Values\")\n",
    "for window in range(M):\n",
    "    plt.plot(all_dists[window], label=f\"Win {window+1}\")\n",
    "plt.legend()\n",
    "plt.ylabel(\"Angstroms\")\n",
    "plt.xlabel(\"Steps\")"
   ]
  },
  {
   "cell_type": "markdown",
   "id": "8cdea954-2be9-41e2-a712-67f600702759",
   "metadata": {},
   "source": [
    "As seen previously the windows sample throughout the RC space, from 2Å up to 7Å the endpoint of our umbrella centers. We see some overlapping, but we want to see how well the windows overlap, otherwise the space in between could not be sampled properly. "
   ]
  },
  {
   "cell_type": "code",
   "execution_count": 12,
   "id": "e1b55568-f72b-42e5-96b0-f8e348310c73",
   "metadata": {},
   "outputs": [
    {
     "data": {
      "text/plain": [
       "Text(0.5, 0, 'Distance in Angstroms')"
      ]
     },
     "execution_count": 12,
     "metadata": {},
     "output_type": "execute_result"
    },
    {
     "data": {
      "image/png": "[encoded data removed]",
      "text/plain": [
       "<Figure size 640x480 with 1 Axes>"
      ]
     },
     "metadata": {},
     "output_type": "display_data"
    }
   ],
   "source": [
    "plt.title(\"Sampled Distance\")\n",
    "for n, dist in enumerate(all_dists):\n",
    "    counts, bins, _ = plt.hist(dist, bins=50, density=True, alpha=0.5, color=f\"C{n}\")\n",
    "    plt.plot(bins[:-1], counts, c=f\"C{n}\")\n",
    "plt.ylabel(\"PDF\")\n",
    "plt.xlabel(\"Distance in Angstroms\")"
   ]
  },
  {
   "cell_type": "markdown",
   "id": "1ff71ffb-cbd7-4b73-8a16-7722d932194c",
   "metadata": {},
   "source": [
    "You can nicely see how each umbrella window has sampled a region of the RC and you see more centers have been placed between 2Å and 4Å, which is the region where the energy barrier of the dissociation can be found. We can plot the resulting sampled histogram for all trajectories to see how its profile looks like"
   ]
  },
  {
   "cell_type": "code",
   "execution_count": 8,
   "id": "c5670c55-1fb1-46ae-9bc4-81a6cc1ee75d",
   "metadata": {},
   "outputs": [
    {
     "data": {
      "text/plain": [
       "Text(0.5, 0, 'Distance in Angstroms')"
      ]
     },
     "execution_count": 8,
     "metadata": {},
     "output_type": "execute_result"
    },
    {
     "data": {
      "image/png": "[encoded data removed]",
      "text/plain": [
       "<Figure size 640x480 with 1 Axes>"
      ]
     },
     "metadata": {},
     "output_type": "display_data"
    }
   ],
   "source": [
    "plt.title(\"Sampled Distance\")\n",
    "counts, bins, _ = plt.hist(np.concatenate(all_dists), bins=50, density=True, alpha=0.5)\n",
    "plt.plot(bins[:-1], counts)\n",
    "plt.ylabel(\"PDF\")\n",
    "plt.xlabel(\"Distance in Angstroms\")"
   ]
  },
  {
   "cell_type": "markdown",
   "id": "d0aaa766-ec3e-4573-8456-20b1959ac761",
   "metadata": {},
   "source": [
    "If the data were to be unbiased, we could have tried to simply construct the profile from the resulting histogram. As you see, the profile resembles the one of a dissociation, we did sample throughout the RC, but even the umbrellas can be seen from here. "
   ]
  },
  {
   "cell_type": "markdown",
   "id": "9b717b37-ec16-40e2-92a7-55fad4e30b85",
   "metadata": {},
   "source": [
    "-----"
   ]
  },
  {
   "cell_type": "markdown",
   "id": "1e62ec56-d59e-4fc7-a73e-9e1440c81877",
   "metadata": {},
   "source": [
    "## Optional tasks"
   ]
  },
  {
   "cell_type": "markdown",
   "id": "41b05d82-1de2-4b2a-af72-dbbeeac2ab0b",
   "metadata": {},
   "source": [
    "We recommend if time allows, or at home, to try the following:\n",
    "- Try generating the histograms with less data using all_dists[start:end] i.e. all_dists[0:500] or striding the data all_dists[::10]. "
   ]
  }
 ],
 "metadata": {
  "kernelspec": {
   "display_name": "Python 3 (ipykernel)",
   "language": "python",
   "name": "python3"
  },
  "language_info": {
   "codemirror_mode": {
    "name": "ipython",
    "version": 3
   },
   "file_extension": ".py",
   "mimetype": "text/x-python",
   "name": "python",
   "nbconvert_exporter": "python",
   "pygments_lexer": "ipython3",
   "version": "3.7.12"
  }
 },
 "nbformat": 4,
 "nbformat_minor": 5
}

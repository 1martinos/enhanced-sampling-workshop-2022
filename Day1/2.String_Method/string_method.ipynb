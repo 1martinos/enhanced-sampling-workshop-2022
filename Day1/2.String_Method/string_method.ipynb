{
 "cells": [
  {
   "cell_type": "markdown",
   "source": [
    "# Finite Temperature String Method"
   ],
   "metadata": {
    "collapsed": false
   }
  },
  {
   "cell_type": "markdown",
   "source": [
    "Umbrella sampling is an effective  tehcnique for sampling a well-defined path. In most cases, this means that the reaction coordinate can be expressed in one (or very few) dimension. However, in (bio)chemical systems, the processes  we are interested in are often much more complex and it can be challenging to find the stable structures and intermediates, let alone identify the optimal path connecting them.\n",
    "\n",
    "In this section, we demonstrate the finite temperature string method, which aims to address these problems and iteratively optimises the pathway in a multidimensional space.\n",
    "\n",
    "Let us get started with the necessary imports."
   ],
   "metadata": {
    "collapsed": false
   }
  },
  {
   "cell_type": "code",
   "execution_count": 7,
   "outputs": [],
   "source": [
    "import sys\n",
    "import numpy as np\n",
    "import matplotlib.pyplot as plt\n",
    "from matplotlib.pyplot import cm\n",
    "%matplotlib inline\n",
    "sys.path.append(\"..\")\n",
    "from string_aux import *\n",
    "from src.wham import WHAM"
   ],
   "metadata": {
    "collapsed": false
   }
  },
  {
   "cell_type": "markdown",
   "source": [
    "## Initial String on a Model potential\n",
    "\n",
    "In this example, we use a two-dimensional analytical potential. There are two important things regarding the method, which you should remember:\n",
    "- The number of biased dimensions/colvars can be arbitrarily high, and the _strings_ can be defined in any $X$-dimensional space.\n",
    "- You may well be using a vast number of other degrees of freedom (for instance if the method is used with classical MD simulations). Selecting the colvars is highly contextual and an important scientific task on its own.\n",
    "\n",
    "Let us say, we want to find the optimal path connecting the states in (-3,-2) and (3,2). One _string_ will consist of _windows_, similarly to umbrella sampling, and each window will have its biased position in every colvar.\n",
    "\n",
    "We will sample every window with restraints in place. The strength of the restraints (here again harmonic, typical for distances) again has to be fit for the system, but in general it is *lower* than it would be in umbrella sampling."
   ],
   "metadata": {
    "collapsed": false
   }
  },
  {
   "cell_type": "code",
   "execution_count": 8,
   "id": "professional-tension",
   "metadata": {},
   "outputs": [],
   "source": [
    "\"\"\" Parameters \"\"\"\n",
    "n_windows = 30  # Number of windows\n",
    "n_steps = 1000  # Number of steps to run for\n",
    "T = 300\n",
    "\n",
    "restraint = np.empty((2, n_windows))    # distances in A\n",
    "restraint[0] = np.linspace(-3, 3, n_windows)\n",
    "restraint[1] = np.linspace(-1, 2, n_windows)\n",
    "force = np.ones((2, n_windows)) * 2     # in kcal/(mol*A^2)"
   ]
  },
  {
   "cell_type": "markdown",
   "source": [
    "This will simply connect the two starting states by a straight line (in 2D), setting the windows equidistantly."
   ],
   "metadata": {
    "collapsed": false
   }
  },
  {
   "cell_type": "code",
   "execution_count": 9,
   "id": "distant-hazard",
   "metadata": {},
   "outputs": [],
   "source": [
    "plt.plot(restraint[0], restraint[1], \"s-\")\n",
    "plt.xlabel(\"CV1 (Å)\")\n",
    "plt.ylabel(\"CV2 (Å)\")\n",
    "plt.show()"
   ]
  },
  {
   "cell_type": "markdown",
   "source": [
    "## Sampling in Windows\n",
    "\n",
    "We will start each window from its centre. In this case we use a Monte-Carlo sampler, which drives the system towards lower energy. Here, it is important that the restraints will let each window's sampled population to deviate from the centre. Also, we will need to keep hold of the data we generate and the restraint positions."
   ],
   "metadata": {
    "collapsed": false
   }
  },
  {
   "cell_type": "code",
   "execution_count": 10,
   "id": "rough-wagner",
   "metadata": {},
   "outputs": [],
   "source": [
    "# set the starting positions\n",
    "last_position = np.copy(restraint)\n",
    "all_data = []\n",
    "all_restraint = []\n",
    "# first iteration\n",
    "data, last_position = generate_data(n_windows, n_steps, T, force, last_position, restraint)\n",
    "all_data.append(data)\n",
    "all_restraint.append(restraint)"
   ]
  },
  {
   "cell_type": "markdown",
   "source": [
    "Take a look at the average position in the simulations. Also, we can plot the data for one of the windows to see where it's been."
   ],
   "metadata": {
    "collapsed": false
   }
  },
  {
   "cell_type": "code",
   "execution_count": 11,
   "outputs": [],
   "source": [
    "average_position = np.mean(data, axis=1)\n",
    "plt.plot(restraint[0], restraint[1], \"s-\", label=\"Restraint position\")\n",
    "plt.plot(average_position[:, 0], average_position[:, 1], 'o', label=\"Average position\")\n",
    "window = np.random.randint(0, 29)\n",
    "plt.plot(data[window, :, 0], data[window, :, 1], label=\"Window {:d} trajectory\".format(window + 1),\n",
    "        linewidth=0.2)\n",
    "plt.legend()\n",
    "plt.show()"
   ],
   "metadata": {
    "collapsed": false
   }
  },
  {
   "cell_type": "markdown",
   "source": [
    "## String optimisation\n",
    "\n",
    "We see the simulations are grouping in different regions and tilt away from out ad-hoc initial string. For the next iteration, we create a new string, by fitting a polynomial to the averages and splitting it again equidistantly. (Other fits are also possible, sometimes beneficial)"
   ],
   "metadata": {
    "collapsed": false
   }
  },
  {
   "cell_type": "code",
   "execution_count": 12,
   "outputs": [],
   "source": [
    "restraint = optimize_string(average_position)\n",
    "\n",
    "plt.plot(all_restraint[0][0], all_restraint[0][1], \"s-\", label=\"String 1\")\n",
    "plt.plot(average_position[:, 0], average_position[:, 1], 'o', label=\"Average position\")\n",
    "plt.plot(restraint[0], restraint[1], \"s-\", label=\"String 2\")\n",
    "plt.legend()\n",
    "plt.show()"
   ],
   "metadata": {
    "collapsed": false
   }
  },
  {
   "cell_type": "markdown",
   "source": [
    "Fast forward some iterations..."
   ],
   "metadata": {
    "collapsed": false
   }
  },
  {
   "cell_type": "code",
   "execution_count": 13,
   "outputs": [],
   "source": [
    "niter = 15\n",
    "for itr in range(niter):\n",
    "    # Generate stochastic data\n",
    "    data, last_position = generate_data(n_windows, n_steps, T, force, last_position, restraint)\n",
    "    all_data.append(data)\n",
    "    all_restraint.append(restraint)\n",
    "    average_position = np.mean(data, axis=1)\n",
    "    # Optimize the string for the next iteration\n",
    "    restraint = optimize_string(average_position)"
   ],
   "metadata": {
    "collapsed": false
   }
  },
  {
   "cell_type": "markdown",
   "source": [
    "Now plot the strings we have so far."
   ],
   "metadata": {
    "collapsed": false
   }
  },
  {
   "cell_type": "code",
   "execution_count": 14,
   "outputs": [],
   "source": [
    "f, ax = plt.subplots()\n",
    "color = cm.rainbow(np.linspace(0, 1, len(all_restraint)))\n",
    "for i in range(len(all_restraint)):\n",
    "    ax.plot(all_restraint[i][0], all_restraint[i][1], \"-s\", markersize=3, linewidth=1, color=color[i])\n",
    "plt.show()"
   ],
   "metadata": {
    "collapsed": false
   }
  },
  {
   "cell_type": "markdown",
   "source": [
    "## Sampling for the Free Energy Profile\n",
    "\n",
    "We can see the string starting to converge. On its own, knowing how the colvars change can lead us to some mechanistic insight of the process, but we can aspire for more. With enough sampling along the path, we can reconstruct the underlying potential using WHAM."
   ],
   "metadata": {
    "collapsed": false
   }
  },
  {
   "cell_type": "code",
   "execution_count": 15,
   "outputs": [],
   "source": [
    "niter = 15\n",
    "for itr in range(niter):\n",
    "    # Generate stochastic data\n",
    "    data, last_position = generate_data(n_windows, n_steps, T, force, last_position, restraint)\n",
    "    all_data.append(data)\n",
    "    all_restraint.append(restraint)\n",
    "    average_position = np.mean(data, axis=1)\n",
    "    # Optimize the string for the next iteration\n",
    "    restraint = optimize_string(average_position)"
   ],
   "metadata": {
    "collapsed": false
   }
  },
  {
   "cell_type": "markdown",
   "source": [
    "## Unbiasing\n",
    "\n",
    "WHAM will be used similarly to the previous section, which needs some conversion the format."
   ],
   "metadata": {
    "collapsed": false
   }
  },
  {
   "cell_type": "code",
   "execution_count": 16,
   "outputs": [],
   "source": [
    "stride = 3      # may stride the data for saving, to save memory\n",
    "all_data = np.concatenate(all_data, axis=0)[:, ::stride, :]\n",
    "all_restraint = np.transpose(np.concatenate(all_restraint, axis=1))"
   ],
   "metadata": {
    "collapsed": false
   }
  },
  {
   "cell_type": "markdown",
   "source": [
    "We can skip some of the early strings, which will not contribute much to the profile, but will help us speed up."
   ],
   "metadata": {
    "collapsed": false
   }
  },
  {
   "cell_type": "code",
   "execution_count": 17,
   "id": "middle-visitor",
   "metadata": {},
   "outputs": [],
   "source": [
    "skip = 1\n",
    "w = WHAM()\n",
    "w.setup(all_data[int(skip * n_windows):], 300,\n",
    "        np.transpose(np.concatenate([force for _ in range(int(len(all_data) / n_windows) - skip)], axis=1)),\n",
    "        all_restraint[int(skip * n_windows):])\n",
    "w.converge(0.01)\n"
   ]
  },
  {
   "cell_type": "markdown",
   "source": [
    "Now that we have a converged WHAM, we need to project into a discrete mesh. `[0, 1]` and `[1, 0]` selects the first and second colvars. In a case of a many-dimensional string, we may choose to define linear combinations. 30 is the number of bins."
   ],
   "metadata": {
    "collapsed": false
   }
  },
  {
   "cell_type": "code",
   "execution_count": 18,
   "outputs": [
    {
     "name": "stderr",
     "output_type": "stream",
     "text": [
      "/home/berta/PycharmProjects/enhanced-sampling-workshop-2022/Day1/2.String_Method/../src/wham.py:159: RuntimeWarning: divide by zero encountered in log\n",
      "  self.profilePerSim = -self.KbT * np.log(PepPersim) - valu\n",
      "/home/berta/PycharmProjects/enhanced-sampling-workshop-2022/Day1/2.String_Method/../src/wham.py:160: RuntimeWarning: divide by zero encountered in log\n",
      "  self.profile2d = -self.KbT * np.log(Pq2d) - valu\n"
     ]
    }
   ],
   "source": [
    "w.project_2d([[0, 1], [1, 0]], 30)"
   ],
   "metadata": {
    "collapsed": false
   }
  },
  {
   "cell_type": "markdown",
   "source": [
    "## Free Energy Profile\n",
    "\n",
    "Finally, we can compare the profile with the true potential, access by the Epot function. We jump out to the Qt backend, so the figure can be viewed interactively. We also spice it up with the final string."
   ],
   "metadata": {
    "collapsed": false
   }
  },
  {
   "cell_type": "code",
   "execution_count": 19,
   "id": "aquatic-twist",
   "metadata": {},
   "outputs": [],
   "source": [
    "%matplotlib qt\n",
    "# prepare the last string\n",
    "sx = all_restraint[-n_windows:, 0]\n",
    "sy = all_restraint[-n_windows:, 1]\n",
    "sz = Epot(sx, sy)\n",
    "# we use the internal binning of WHAM\n",
    "[x, y] = np.meshgrid(w.colvar1_bins, w.colvar2_bins)\n",
    "fig = plt.figure(figsize=(20, 10))\n",
    "# start with the true potential\n",
    "ax_true = fig.add_subplot(121, projection='3d')\n",
    "surf_true = ax_true.plot_surface(x, y, Epot(x, y), cmap=cm.viridis, vmin=0, vmax=8, zorder=1)\n",
    "ax_true.plot(sx, sy, sz, \"s-\", markersize=4, linewidth=2, color=\"lime\", zorder=3)\n",
    "ax_true.set_zlim(0, 8)\n",
    "ax_true.view_init(azim=0, elev=90)\n",
    "# now the reconstruction\n",
    "ax = fig.add_subplot(122, projection='3d')\n",
    "surf = ax.plot_surface(x, y, w.profile2d, cmap=cm.viridis, vmin=0, vmax=8, zorder=1)\n",
    "ax.plot(sx, sy, sz, \"s-\", markersize=4, linewidth=2, color=\"lime\", zorder=3)\n",
    "ax.set_zlim(0, 8)\n",
    "ax.view_init(azim=0, elev=90)\n",
    "plt.tight_layout()\n",
    "plt.show()"
   ]
  },
  {
   "cell_type": "markdown",
   "source": [
    "## Optional Tasks\n",
    "\n",
    "There are many parameters you can play with to observe different behaviour:\n",
    "- Try different force constants: with higher, you will lose the overlap and cannot recover the profile.\n",
    "- Number of windows: more windows are more expensive, less will again diminish the overlap of neighbours.\n",
    "- Number of iterations, number of bins for projection, WHAM threshold etc."
   ],
   "metadata": {
    "collapsed": false
   }
  },
  {
   "cell_type": "code",
   "execution_count": 19,
   "outputs": [],
   "source": [],
   "metadata": {
    "collapsed": false
   }
  }
 ],
 "metadata": {
  "kernelspec": {
   "display_name": "Python 3 (ipykernel)",
   "language": "python",
   "name": "python3"
  },
  "language_info": {
   "codemirror_mode": {
    "name": "ipython",
    "version": 3
   },
   "file_extension": ".py",
   "mimetype": "text/x-python",
   "name": "python",
   "nbconvert_exporter": "python",
   "pygments_lexer": "ipython3",
   "version": "3.7.12"
  }
 },
 "nbformat": 4,
 "nbformat_minor": 5
}

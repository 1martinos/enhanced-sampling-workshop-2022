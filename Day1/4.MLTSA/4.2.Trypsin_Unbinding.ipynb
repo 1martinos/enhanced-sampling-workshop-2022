{
 "cells": [
  {
   "cell_type": "code",
   "execution_count": 182,
   "id": "f36c5b74-c694-4b8b-bd41-1b066388ac97",
   "metadata": {},
   "outputs": [],
   "source": [
    "import pickle\n",
    "import numpy as np\n",
    "import matplotlib.pyplot as plt\n",
    "from tqdm import tqdm"
   ]
  },
  {
   "cell_type": "code",
   "execution_count": 174,
   "id": "c06e8707-f4ea-46e1-a93f-1ecf677a3330",
   "metadata": {},
   "outputs": [],
   "source": [
    "def read_bin(filename):\n",
    "    data = []\n",
    "    with open(filename,\"rb\") as fr:\n",
    "        try:\n",
    "            while True:\n",
    "                data.append(pickle.load(fr))\n",
    "        except EOFError:\n",
    "            pass\n",
    "    return data\n",
    "\n",
    "def create_bin(filename, data):\n",
    "    file = open(filename, \"wb+\")\n",
    "    pickle.dump(data, file)\n",
    "    return file\n",
    "\n",
    "def append_bin(file, data):\n",
    "    pickle.dump(data, file)\n",
    "    return\n"
   ]
  },
  {
   "cell_type": "code",
   "execution_count": 175,
   "id": "311a5b98-33ce-4522-9beb-7c31659e25dd",
   "metadata": {},
   "outputs": [],
   "source": [
    "def ADROP(data, ans, model, drop_mode=\"Average\", data_mode=\"Normal\"):\n",
    "    \"\"\"\n",
    "\n",
    "    Function to apply the Machine Learning Transition State Analysis to a given training dataset/answers and trained\n",
    "    model. It calculates the Gloabl Means and re-calculates accuracy for predicting each outcome.\n",
    "\n",
    "    :param data: Training data used for training the ML model. Must have shape (samples, features)\n",
    "    :type data: list\n",
    "    :param ans: Outcomes for each sample on \"data\". Shape must be (samples)\n",
    "    :type ans: list\n",
    "    :param model:\n",
    "    :param drop_mode:\n",
    "    :param data_mode:\n",
    "    :return:\n",
    "\n",
    "    \"\"\"\n",
    "\n",
    "    if data_mode == \"Rigged\":\n",
    "        data = data[:, :-1, :]\n",
    "\n",
    "    # Calculating the global means\n",
    "    means_per_sim = np.mean(data.T, axis=1)\n",
    "    gmeans = np.mean(means_per_sim, axis=1)\n",
    "    temp_sim_data = np.copy(data)\n",
    "\n",
    "    # Swapping the values and predicting for the FR\n",
    "    FR = []\n",
    "    for y, data in tqdm(enumerate(temp_sim_data)):\n",
    "        mean_sim = []\n",
    "        for n, mean in enumerate(gmeans):\n",
    "            tmp_dat = np.copy(data)\n",
    "            tmp_dat.T[n, :] = mean\n",
    "            yy = np.zeros(len(tmp_dat)).astype(str)\n",
    "            yy[:] = ans[y]\n",
    "            res = model.score(tmp_dat, yy)\n",
    "            mean_sim.append(res)\n",
    "        FR.append(mean_sim)\n",
    "\n",
    "    if drop_mode == \"Median\":\n",
    "        median = np.median(np.array(FR).T, axis=0)\n",
    "        median = np.median(median, axis=0)\n",
    "        dv_from_median = []\n",
    "        for n, M in enumerate(median):\n",
    "            dv_from_median.append(abs(M - np.array(FR)[n].T))\n",
    "        fr = np.mean(np.array(dv_from_median), axis=1)\n",
    "        fr = np.mean(fr, axis=0)\n",
    "    return FR"
   ]
  },
  {
   "cell_type": "code",
   "execution_count": 124,
   "id": "76b3cacf-977f-4edf-b034-e14b55d941b0",
   "metadata": {},
   "outputs": [],
   "source": [
    "labelled_sims = np.loadtxt(\"data/labels.txt\", dtype=str)"
   ]
  },
  {
   "cell_type": "code",
   "execution_count": 125,
   "id": "34092269-8feb-42f6-a57f-7564042c63f5",
   "metadata": {},
   "outputs": [],
   "source": [
    "ranges = np.arange(0, 400, 100)\n",
    "\n",
    "data = []\n",
    "for R in ranges:\n",
    "    for entry in read_bin(f\"data/CV_{R}_{R+100}.bin\"):\n",
    "        # if len(d) < 1000:\n",
    "        #     continue\n",
    "        # else:\n",
    "        data.append(entry[0])"
   ]
  },
  {
   "cell_type": "code",
   "execution_count": 136,
   "id": "56929b20-075e-4ff2-a5c7-fa47b007862e",
   "metadata": {},
   "outputs": [
    {
     "ename": "IndexError",
     "evalue": "index 105 is out of bounds for axis 0 with size 105",
     "output_type": "error",
     "traceback": [
      "\u001b[1;31m---------------------------------------------------------------------------\u001b[0m",
      "\u001b[1;31mIndexError\u001b[0m                                Traceback (most recent call last)",
      "\u001b[1;32m~\\AppData\\Local\\Temp\\ipykernel_40436\\1493741922.py\u001b[0m in \u001b[0;36m<module>\u001b[1;34m\u001b[0m\n\u001b[0;32m      3\u001b[0m     \u001b[1;32mif\u001b[0m \u001b[0mlen\u001b[0m\u001b[1;33m(\u001b[0m\u001b[0md\u001b[0m\u001b[1;33m)\u001b[0m \u001b[1;33m<\u001b[0m \u001b[1;36m1000\u001b[0m\u001b[1;33m:\u001b[0m\u001b[1;33m\u001b[0m\u001b[1;33m\u001b[0m\u001b[0m\n\u001b[0;32m      4\u001b[0m         \u001b[1;31m#print(len(d), n)\u001b[0m\u001b[1;33m\u001b[0m\u001b[1;33m\u001b[0m\u001b[1;33m\u001b[0m\u001b[0m\n\u001b[1;32m----> 5\u001b[1;33m         \u001b[0mex_idx\u001b[0m\u001b[1;33m.\u001b[0m\u001b[0mappend\u001b[0m\u001b[1;33m(\u001b[0m\u001b[0mlabelled_sims\u001b[0m\u001b[1;33m.\u001b[0m\u001b[0mT\u001b[0m\u001b[1;33m[\u001b[0m\u001b[1;36m0\u001b[0m\u001b[1;33m]\u001b[0m\u001b[1;33m[\u001b[0m\u001b[0mn\u001b[0m\u001b[1;33m]\u001b[0m\u001b[1;33m)\u001b[0m\u001b[1;33m\u001b[0m\u001b[1;33m\u001b[0m\u001b[0m\n\u001b[0m",
      "\u001b[1;31mIndexError\u001b[0m: index 105 is out of bounds for axis 0 with size 105"
     ]
    }
   ],
   "source": [
    "ex_idx = []\n",
    "for n, d in enumerate(data):\n",
    "    if len(d) < 1000:\n",
    "        #print(len(d), n)\n",
    "        ex_idx.append(labelled_sims.T[0][n])"
   ]
  },
  {
   "cell_type": "code",
   "execution_count": 139,
   "id": "847b03ce-8104-482a-843e-a9013db16270",
   "metadata": {},
   "outputs": [
    {
     "data": {
      "text/plain": [
       "['31', '61', '112', '161', '211', '261', '311']"
      ]
     },
     "execution_count": 139,
     "metadata": {},
     "output_type": "execute_result"
    }
   ],
   "source": [
    "ex_idx"
   ]
  },
  {
   "cell_type": "code",
   "execution_count": 170,
   "id": "9190e1e7-7f6c-4064-bad3-0958514dbb5b",
   "metadata": {},
   "outputs": [],
   "source": [
    "ranges = np.arange(0, 400, 100)\n",
    "\n",
    "data = []\n",
    "for R in ranges:\n",
    "    for entry in read_bin(f\"data/CV_{R}_{R+100}.bin\"):\n",
    "        if len(entry[0]) < 1000:\n",
    "            continue\n",
    "        else:\n",
    "            data.append(entry[0])\n",
    "            \n",
    "data = np.array(data)"
   ]
  },
  {
   "cell_type": "code",
   "execution_count": 171,
   "id": "b34aaab0-2284-4171-9759-14da72587c4b",
   "metadata": {},
   "outputs": [],
   "source": [
    "labelled_sims = np.loadtxt(\"data/labels_fix.txt\", dtype=str)\n",
    "answers = labelled_sims.T[1]"
   ]
  },
  {
   "cell_type": "code",
   "execution_count": 145,
   "id": "373aa311-5bf6-43ae-88eb-552fdf826a47",
   "metadata": {},
   "outputs": [
    {
     "data": {
      "text/plain": [
       "True"
      ]
     },
     "execution_count": 145,
     "metadata": {},
     "output_type": "execute_result"
    }
   ],
   "source": [
    "len(labelled_sims) == len(data)"
   ]
  },
  {
   "cell_type": "code",
   "execution_count": 267,
   "id": "ef6ec36d-dbfe-40a6-bdfd-cb8f2179307e",
   "metadata": {},
   "outputs": [],
   "source": [
    "INS = np.where(answers == \"IN\")[0]\n",
    "OUTS = np.where(answers == \"OUT\")[0]\n",
    "minimum = np.min([len(data[INS]), len(data[OUTS])])\n",
    "#in_sims = INS[:minimum]\n",
    "in_sims = INS[:40]\n",
    "out_sims = OUTS[:minimum]\n",
    "balanced = np.concatenate((in_sims, out_sims))\n",
    "\n",
    "balanced_data = data[balanced]\n",
    "balanced_answers = answers[balanced]"
   ]
  },
  {
   "cell_type": "markdown",
   "id": "bef23e1b-e107-401d-a9be-65a3912125f6",
   "metadata": {},
   "source": [
    "### MLTSA with a Multi-Layer Perceptron (MLP) "
   ]
  },
  {
   "cell_type": "code",
   "execution_count": 268,
   "id": "b9c9eb8c-3ed8-4a83-a16f-990579af021e",
   "metadata": {},
   "outputs": [],
   "source": [
    "from MLTSA_sklearn.models import SKL_Train\n",
    "from sklearn.neural_network import MLPClassifier"
   ]
  },
  {
   "cell_type": "code",
   "execution_count": 269,
   "id": "8c265b6b-4be8-4f0d-b974-142d34bca245",
   "metadata": {},
   "outputs": [
    {
     "name": "stdout",
     "output_type": "stream",
     "text": [
      "Accuracy on Train is 94.96296296296296\n",
      "Accuracy on Test set is 95.14920634920635\n",
      "Trained in  26.387988090515137 seconds\n"
     ]
    }
   ],
   "source": [
    "X = np.concatenate(balanced_data)\n",
    "template = []\n",
    "for ans in balanced_answers:\n",
    "    tmp = np.zeros(len(data[0])).astype(str)\n",
    "    tmp[:] = ans\n",
    "    template.append(tmp)\n",
    "Y = np.concatenate(template)\n",
    "NN = MLPClassifier(random_state=1, verbose=0, max_iter=500) # You can set the verbose to false for less prints.\n",
    "trained_NN, train_acc, test_acc = SKL_Train(NN, X, Y)"
   ]
  },
  {
   "cell_type": "code",
   "execution_count": 270,
   "id": "3c480e41-a3cb-4d14-9875-cd7bdb8f029f",
   "metadata": {},
   "outputs": [
    {
     "data": {
      "text/plain": [
       "[<matplotlib.lines.Line2D at 0x1ca15551fc8>]"
      ]
     },
     "execution_count": 270,
     "metadata": {},
     "output_type": "execute_result"
    },
    {
     "data": {
      "image/png": "[encoded data removed]",
      "text/plain": [
       "<Figure size 640x480 with 1 Axes>"
      ]
     },
     "metadata": {},
     "output_type": "display_data"
    }
   ],
   "source": [
    "plt.plot(NN.loss_curve_)"
   ]
  },
  {
   "cell_type": "markdown",
   "id": "2229c840-7636-4590-9f12-58056245c371",
   "metadata": {},
   "source": [
    "## Training through time! \n"
   ]
  },
  {
   "cell_type": "code",
   "execution_count": 266,
   "id": "29a36a81-1013-4275-9692-29d473773038",
   "metadata": {},
   "outputs": [
    {
     "name": "stdout",
     "output_type": "stream",
     "text": [
      "Accuracy on Train is 98.08717948717948\n",
      "Accuracy on Test set is 98.32307692307693\n",
      "Trained in  9.835941314697266 seconds\n",
      "Calculating ADROP\n"
     ]
    },
    {
     "name": "stderr",
     "output_type": "stream",
     "text": [
      "46it [00:03, 14.93it/s]\n"
     ]
    },
    {
     "ename": "ValueError",
     "evalue": "need at least one array to concatenate",
     "output_type": "error",
     "traceback": [
      "\u001b[1;31m---------------------------------------------------------------------------\u001b[0m",
      "\u001b[1;31mValueError\u001b[0m                                Traceback (most recent call last)",
      "\u001b[1;32m~\\AppData\\Local\\Temp\\ipykernel_40436\\4247585720.py\u001b[0m in \u001b[0;36m<module>\u001b[1;34m\u001b[0m\n\u001b[0;32m      6\u001b[0m \u001b[1;32mfor\u001b[0m \u001b[0mn\u001b[0m\u001b[1;33m,\u001b[0m \u001b[0mtime\u001b[0m \u001b[1;32min\u001b[0m \u001b[0menumerate\u001b[0m\u001b[1;33m(\u001b[0m\u001b[0mtime_frames\u001b[0m\u001b[1;33m.\u001b[0m\u001b[0mastype\u001b[0m\u001b[1;33m(\u001b[0m\u001b[0mint\u001b[0m\u001b[1;33m)\u001b[0m\u001b[1;33m)\u001b[0m\u001b[1;33m:\u001b[0m\u001b[1;33m\u001b[0m\u001b[1;33m\u001b[0m\u001b[0m\n\u001b[0;32m      7\u001b[0m     \u001b[0mresults\u001b[0m\u001b[1;33m[\u001b[0m\u001b[0mtime\u001b[0m\u001b[1;33m]\u001b[0m \u001b[1;33m=\u001b[0m \u001b[1;33m{\u001b[0m\u001b[1;33m}\u001b[0m\u001b[1;33m\u001b[0m\u001b[1;33m\u001b[0m\u001b[0m\n\u001b[1;32m----> 8\u001b[1;33m     \u001b[0mXX\u001b[0m \u001b[1;33m=\u001b[0m \u001b[0mnp\u001b[0m\u001b[1;33m.\u001b[0m\u001b[0mconcatenate\u001b[0m\u001b[1;33m(\u001b[0m\u001b[0mbalanced_data\u001b[0m\u001b[1;33m[\u001b[0m\u001b[0mtime\u001b[0m\u001b[1;33m:\u001b[0m\u001b[0mtime\u001b[0m\u001b[1;33m+\u001b[0m\u001b[0mstep\u001b[0m\u001b[1;33m]\u001b[0m\u001b[1;33m)\u001b[0m\u001b[1;33m\u001b[0m\u001b[1;33m\u001b[0m\u001b[0m\n\u001b[0m\u001b[0;32m      9\u001b[0m     \u001b[0mYY\u001b[0m \u001b[1;33m=\u001b[0m \u001b[0mnp\u001b[0m\u001b[1;33m.\u001b[0m\u001b[0mconcatenate\u001b[0m\u001b[1;33m(\u001b[0m\u001b[0mtemplate\u001b[0m\u001b[1;33m[\u001b[0m\u001b[0mtime\u001b[0m\u001b[1;33m:\u001b[0m\u001b[0mtime\u001b[0m\u001b[1;33m+\u001b[0m\u001b[0mstep\u001b[0m\u001b[1;33m]\u001b[0m\u001b[1;33m)\u001b[0m\u001b[1;33m\u001b[0m\u001b[1;33m\u001b[0m\u001b[0m\n\u001b[0;32m     10\u001b[0m     \u001b[0mNN\u001b[0m \u001b[1;33m=\u001b[0m \u001b[0mMLPClassifier\u001b[0m\u001b[1;33m(\u001b[0m\u001b[0mrandom_state\u001b[0m\u001b[1;33m=\u001b[0m\u001b[1;36m1\u001b[0m\u001b[1;33m,\u001b[0m \u001b[0mverbose\u001b[0m\u001b[1;33m=\u001b[0m\u001b[1;36m0\u001b[0m\u001b[1;33m,\u001b[0m \u001b[0mmax_iter\u001b[0m\u001b[1;33m=\u001b[0m\u001b[1;36m500\u001b[0m\u001b[1;33m)\u001b[0m \u001b[1;31m# You can set the verbose to false for less prints.\u001b[0m\u001b[1;33m\u001b[0m\u001b[1;33m\u001b[0m\u001b[0m\n",
      "\u001b[1;32m<__array_function__ internals>\u001b[0m in \u001b[0;36mconcatenate\u001b[1;34m(*args, **kwargs)\u001b[0m\n",
      "\u001b[1;31mValueError\u001b[0m: need at least one array to concatenate"
     ]
    }
   ],
   "source": [
    "#time_frames = np.geomspace(1, 500, 20).astype(int)\n",
    "time_frames, step = np.linspace(20, 1000, 10, retstep=True)\n",
    "step = int(step)\n",
    "\n",
    "results = {}\n",
    "for n, time in enumerate(time_frames.astype(int)): \n",
    "    results[time] = {}\n",
    "    XX = np.concatenate(balanced_data[time:time+step])\n",
    "    YY = np.concatenate(template[time:time+step])\n",
    "    NN = MLPClassifier(random_state=1, verbose=0, max_iter=500) # You can set the verbose to false for less prints.\n",
    "    trained_NN, train_acc, test_acc = SKL_Train(NN, XX, YY)\n",
    "    results[time][\"acc\"] = [train_acc, test_acc]\n",
    "    results[time][\"model\"] = NN\n",
    "    print(\"Calculating ADROP\")\n",
    "    results[time][\"adrop\"] = ADROP(balanced_data[:,:time, :], answers, NN)\n"
   ]
  },
  {
   "cell_type": "code",
   "execution_count": 265,
   "id": "262b28b6-6cd5-444e-a737-e92c82f3913b",
   "metadata": {},
   "outputs": [
    {
     "data": {
      "text/plain": [
       "265"
      ]
     },
     "execution_count": 265,
     "metadata": {},
     "output_type": "execute_result"
    }
   ],
   "source": [
    "time"
   ]
  },
  {
   "cell_type": "code",
   "execution_count": null,
   "id": "45541179-995b-4e3a-8634-c3d9238f7d6a",
   "metadata": {},
   "outputs": [],
   "source": [
    "t_acc = []\n",
    "tr_acc = []\n",
    "for time in time_frames: \n",
    "    train, test = results[time][\"acc\"]\n",
    "    t_acc.append(test)\n",
    "    tr_acc.append(train)\n",
    "plt.plot(time_frames, t_acc, label=\"test\")\n",
    "plt.plot(time_frames, tr_acc, label=\"train\")\n",
    "plt.legend()"
   ]
  },
  {
   "cell_type": "code",
   "execution_count": 228,
   "id": "c21c4649-630a-4d26-9a82-96532332ccfb",
   "metadata": {},
   "outputs": [
    {
     "data": {
      "text/plain": [
       "0.9384347826086956"
      ]
     },
     "execution_count": 228,
     "metadata": {},
     "output_type": "execute_result"
    }
   ],
   "source": [
    "test"
   ]
  },
  {
   "cell_type": "markdown",
   "id": "e1b639a5-7ac3-477c-9c93-943fa3a84267",
   "metadata": {},
   "source": [
    "## MLTSA with a Gradient Boosting Decision Tree (GBDT)"
   ]
  },
  {
   "cell_type": "code",
   "execution_count": null,
   "id": "1793fc69-25f0-4a7f-9fdf-9f0b3426c664",
   "metadata": {},
   "outputs": [],
   "source": []
  },
  {
   "cell_type": "code",
   "execution_count": null,
   "id": "72d40493-8bed-4f31-8879-69efb2aadf3d",
   "metadata": {},
   "outputs": [],
   "source": []
  },
  {
   "cell_type": "code",
   "execution_count": null,
   "id": "f1777d57-d06a-4424-8ca5-9943431538ac",
   "metadata": {},
   "outputs": [],
   "source": []
  },
  {
   "cell_type": "code",
   "execution_count": null,
   "id": "73ab4a21-a030-4fa1-b8be-7875dd7ac296",
   "metadata": {},
   "outputs": [],
   "source": []
  },
  {
   "cell_type": "code",
   "execution_count": null,
   "id": "1233da97-9634-49de-82a0-b6117de67c88",
   "metadata": {},
   "outputs": [],
   "source": []
  },
  {
   "cell_type": "code",
   "execution_count": null,
   "id": "f3899aaf-750d-43f5-91c5-903f465642e2",
   "metadata": {},
   "outputs": [],
   "source": []
  },
  {
   "cell_type": "code",
   "execution_count": null,
   "id": "12c65527-0cb7-4bab-9af1-f26db7447d59",
   "metadata": {},
   "outputs": [],
   "source": []
  }
 ],
 "metadata": {
  "kernelspec": {
   "display_name": "Python 3 (ipykernel)",
   "language": "python",
   "name": "python3"
  },
  "language_info": {
   "codemirror_mode": {
    "name": "ipython",
    "version": 3
   },
   "file_extension": ".py",
   "mimetype": "text/x-python",
   "name": "python",
   "nbconvert_exporter": "python",
   "pygments_lexer": "ipython3",
   "version": "3.7.12"
  }
 },
 "nbformat": 4,
 "nbformat_minor": 5
}

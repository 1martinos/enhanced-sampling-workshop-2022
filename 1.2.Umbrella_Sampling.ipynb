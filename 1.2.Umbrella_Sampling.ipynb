{
 "cells": [
  {
   "cell_type": "markdown",
   "id": "542da13e-ac9e-4378-afd2-74548ea101e3",
   "metadata": {},
   "source": [
    "# 1.2 Running Umbrella Sampling on NaCl"
   ]
  },
  {
   "cell_type": "code",
   "execution_count": 71,
   "id": "defcc4c3-b05b-4a85-af78-3e3bd2d0c9d7",
   "metadata": {},
   "outputs": [],
   "source": [
    "## import required packages\n",
    "import os, math, sys\n",
    "import numpy as np\n",
    "import matplotlib.pyplot as plt\n",
    "import simtk.openmm.app  as omm_app\n",
    "import simtk.openmm as omm\n",
    "import simtk.unit as unit\n",
    "from tqdm import tqdm\n",
    "import mdtraj\n",
    "from FastMBAR import *\n",
    "from tqdm.notebook import tqdm_notebook"
   ]
  },
  {
   "cell_type": "code",
   "execution_count": 72,
   "id": "c7fa9bf3-47ed-415a-b37e-0e956d7a2198",
   "metadata": {},
   "outputs": [],
   "source": [
    "psf_file = 'toppar/step3_input.psf'\n",
    "pdb_file = 'toppar/step3_input.pdb'"
   ]
  },
  {
   "cell_type": "code",
   "execution_count": 73,
   "id": "e101f814-8306-4885-8a00-7f927ab16cef",
   "metadata": {},
   "outputs": [],
   "source": [
    "## read the OpenMM system \n",
    "with open(\"output_files/NaCl_solvated_system\", 'r') as file_handle:\n",
    "    xml = file_handle.read()\n",
    "system = omm.XmlSerializer.deserialize(xml)\n",
    "\n",
    "## read psf and pdb file of butane\n",
    "psf = omm_app.CharmmPsfFile(psf_file)\n",
    "pdb = omm_app.PDBFile(pdb_file)"
   ]
  },
  {
   "cell_type": "code",
   "execution_count": 74,
   "id": "28909c76-76e7-4542-90ce-018a28b4e247",
   "metadata": {},
   "outputs": [],
   "source": [
    "#### setup an OpenMM context\n",
    "\n",
    "## platform\n",
    "#platform = omm.Platform.getPlatformByName('CUDA') # If you have GPU try this \n",
    "platform = omm.Platform.getPlatformByName('OpenCL') # Or this one, if the preivous does not work\n",
    "#platform = omm.Platform.getPlatformByName('CPU') # Try first using CUDA or OpenCL it is way faster\n",
    "\n",
    "## intergrator\n",
    "T = 298.15 * unit.kelvin  ## temperature\n",
    "fricCoef = 10/unit.picoseconds ## friction coefficient \n",
    "stepsize = 2 * unit.femtoseconds ## integration step size\n",
    "integrator = omm.LangevinIntegrator(T, fricCoef, stepsize)\n",
    "\n",
    "## construct an OpenMM context\n",
    "context = omm.Context(system, integrator, platform)"
   ]
  },
  {
   "cell_type": "code",
   "execution_count": 75,
   "id": "98059c7f-957f-47ed-b340-0fed0931fa27",
   "metadata": {},
   "outputs": [],
   "source": [
    "## set force constant K for the biasing potential. \n",
    "## the unit here is kJ*mol^{-1}*nm^{-2}, which is the default unit used in OpenMM\n",
    "K = 12500\n",
    "context.setParameter(\"k\", K)\n",
    "\n",
    "## M centers of harmonic biasing potentials\n",
    "M = 15\n",
    "umbrella_centers = np.linspace(0.2, 0.7, M, endpoint=False)\n",
    "np.savetxt(\"output_files/bias.csv\", umbrella_centers, delimiter = \",\")"
   ]
  },
  {
   "cell_type": "code",
   "execution_count": 76,
   "id": "31fc2190-1ab7-4a01-8377-47a0a92d0d30",
   "metadata": {},
   "outputs": [
    {
     "data": {
      "text/plain": [
       "array([2.        , 2.33333333, 2.66666667, 3.        , 3.33333333,\n",
       "       3.66666667, 4.        , 4.33333333, 4.66666667, 5.        ,\n",
       "       5.33333333, 5.66666667, 6.        , 6.33333333, 6.66666667])"
      ]
     },
     "execution_count": 76,
     "metadata": {},
     "output_type": "execute_result"
    }
   ],
   "source": [
    "(umbrella_centers*10)"
   ]
  },
  {
   "cell_type": "code",
   "execution_count": 78,
   "id": "87c1f047-1baf-44ce-a8ac-27ae445db736",
   "metadata": {},
   "outputs": [
    {
     "name": "stdout",
     "output_type": "stream",
     "text": [
      "Sampling at window: 1 out of 15\n"
     ]
    },
    {
     "data": {
      "application/vnd.jupyter.widget-view+json": {
       "model_id": "0a00279812274236b54fa8a534543dfe",
       "version_major": 2,
       "version_minor": 0
      },
      "text/plain": [
       "Minimization Win 1:   0%|          | 0/50 [00:00<?, ?it/s]"
      ]
     },
     "metadata": {},
     "output_type": "display_data"
    },
    {
     "name": "stdout",
     "output_type": "stream",
     "text": [
      "Minimization in: 3.0257511138916016 seconds\n",
      "Equilibration in: 0.01801609992980957 seconds\n"
     ]
    },
    {
     "data": {
      "application/vnd.jupyter.widget-view+json": {
       "model_id": "a3473d0c2c0f4b40ac4337cf78baa214",
       "version_major": 2,
       "version_minor": 0
      },
      "text/plain": [
       "Production:   0%|          | 0/5000 [00:00<?, ?it/s]"
      ]
     },
     "metadata": {},
     "output_type": "display_data"
    },
    {
     "name": "stdout",
     "output_type": "stream",
     "text": [
      "Production Run in: 176.67200207710266 seconds\n",
      "Sampling at window: 2 out of 15\n"
     ]
    },
    {
     "data": {
      "application/vnd.jupyter.widget-view+json": {
       "model_id": "f1b6f965ec8a49d9ac341c65fcdb540c",
       "version_major": 2,
       "version_minor": 0
      },
      "text/plain": [
       "Minimization Win 2:   0%|          | 0/50 [00:00<?, ?it/s]"
      ]
     },
     "metadata": {},
     "output_type": "display_data"
    },
    {
     "name": "stdout",
     "output_type": "stream",
     "text": [
      "Minimization in: 3.0968148708343506 seconds\n",
      "Equilibration in: 0.019016504287719727 seconds\n"
     ]
    },
    {
     "data": {
      "application/vnd.jupyter.widget-view+json": {
       "model_id": "61590a139a42431c967623b12ae47d1f",
       "version_major": 2,
       "version_minor": 0
      },
      "text/plain": [
       "Production:   0%|          | 0/5000 [00:00<?, ?it/s]"
      ]
     },
     "metadata": {},
     "output_type": "display_data"
    },
    {
     "name": "stdout",
     "output_type": "stream",
     "text": [
      "Production Run in: 176.50243616104126 seconds\n",
      "Sampling at window: 3 out of 15\n"
     ]
    },
    {
     "data": {
      "application/vnd.jupyter.widget-view+json": {
       "model_id": "67614ddfae924f64a971fb881c0d47e7",
       "version_major": 2,
       "version_minor": 0
      },
      "text/plain": [
       "Minimization Win 3:   0%|          | 0/50 [00:00<?, ?it/s]"
      ]
     },
     "metadata": {},
     "output_type": "display_data"
    },
    {
     "name": "stdout",
     "output_type": "stream",
     "text": [
      "Minimization in: 3.3490467071533203 seconds\n",
      "Equilibration in: 0.01901555061340332 seconds\n"
     ]
    },
    {
     "data": {
      "application/vnd.jupyter.widget-view+json": {
       "model_id": "bf222ecec8ad46f9aef83a62035cc4a9",
       "version_major": 2,
       "version_minor": 0
      },
      "text/plain": [
       "Production:   0%|          | 0/5000 [00:00<?, ?it/s]"
      ]
     },
     "metadata": {},
     "output_type": "display_data"
    },
    {
     "name": "stdout",
     "output_type": "stream",
     "text": [
      "Production Run in: 178.5923569202423 seconds\n",
      "Sampling at window: 4 out of 15\n"
     ]
    },
    {
     "data": {
      "application/vnd.jupyter.widget-view+json": {
       "model_id": "63e5716a97474acbb8154919813d0268",
       "version_major": 2,
       "version_minor": 0
      },
      "text/plain": [
       "Minimization Win 4:   0%|          | 0/50 [00:00<?, ?it/s]"
      ]
     },
     "metadata": {},
     "output_type": "display_data"
    },
    {
     "name": "stdout",
     "output_type": "stream",
     "text": [
      "Minimization in: 3.3230228424072266 seconds\n",
      "Equilibration in: 0.019016265869140625 seconds\n"
     ]
    },
    {
     "data": {
      "application/vnd.jupyter.widget-view+json": {
       "model_id": "d89b230aee1b4aa3ab7c79ab1b2b3442",
       "version_major": 2,
       "version_minor": 0
      },
      "text/plain": [
       "Production:   0%|          | 0/5000 [00:00<?, ?it/s]"
      ]
     },
     "metadata": {},
     "output_type": "display_data"
    },
    {
     "name": "stdout",
     "output_type": "stream",
     "text": [
      "Production Run in: 179.10382199287415 seconds\n",
      "Sampling at window: 5 out of 15\n"
     ]
    },
    {
     "data": {
      "application/vnd.jupyter.widget-view+json": {
       "model_id": "c501543372d64db181b946c824c82c9a",
       "version_major": 2,
       "version_minor": 0
      },
      "text/plain": [
       "Minimization Win 5:   0%|          | 0/50 [00:00<?, ?it/s]"
      ]
     },
     "metadata": {},
     "output_type": "display_data"
    },
    {
     "name": "stdout",
     "output_type": "stream",
     "text": [
      "Minimization in: 3.0998191833496094 seconds\n",
      "Equilibration in: 0.01801609992980957 seconds\n"
     ]
    },
    {
     "data": {
      "application/vnd.jupyter.widget-view+json": {
       "model_id": "e3d22f5a1f304f58a1b00d1e1acae46f",
       "version_major": 2,
       "version_minor": 0
      },
      "text/plain": [
       "Production:   0%|          | 0/5000 [00:00<?, ?it/s]"
      ]
     },
     "metadata": {},
     "output_type": "display_data"
    },
    {
     "name": "stdout",
     "output_type": "stream",
     "text": [
      "Production Run in: 175.46977925300598 seconds\n",
      "Sampling at window: 6 out of 15\n"
     ]
    },
    {
     "data": {
      "application/vnd.jupyter.widget-view+json": {
       "model_id": "e27822eac4ed4ee8bcf0b70aca65edda",
       "version_major": 2,
       "version_minor": 0
      },
      "text/plain": [
       "Minimization Win 6:   0%|          | 0/50 [00:00<?, ?it/s]"
      ]
     },
     "metadata": {},
     "output_type": "display_data"
    },
    {
     "name": "stdout",
     "output_type": "stream",
     "text": [
      "Minimization in: 3.2519569396972656 seconds\n",
      "Equilibration in: 0.019016742706298828 seconds\n"
     ]
    },
    {
     "data": {
      "application/vnd.jupyter.widget-view+json": {
       "model_id": "c1ed6c01a2204a9487b64e3a7d8566f7",
       "version_major": 2,
       "version_minor": 0
      },
      "text/plain": [
       "Production:   0%|          | 0/5000 [00:00<?, ?it/s]"
      ]
     },
     "metadata": {},
     "output_type": "display_data"
    },
    {
     "name": "stdout",
     "output_type": "stream",
     "text": [
      "Production Run in: 178.7466905117035 seconds\n",
      "Sampling at window: 7 out of 15\n"
     ]
    },
    {
     "data": {
      "application/vnd.jupyter.widget-view+json": {
       "model_id": "7b95c76fe3b742549f78e04dee8b97b5",
       "version_major": 2,
       "version_minor": 0
      },
      "text/plain": [
       "Minimization Win 7:   0%|          | 0/50 [00:00<?, ?it/s]"
      ]
     },
     "metadata": {},
     "output_type": "display_data"
    },
    {
     "name": "stdout",
     "output_type": "stream",
     "text": [
      "Minimization in: 3.2549588680267334 seconds\n",
      "Equilibration in: 0.020019054412841797 seconds\n"
     ]
    },
    {
     "data": {
      "application/vnd.jupyter.widget-view+json": {
       "model_id": "e458ad45e82642a597fbeacb56128b6c",
       "version_major": 2,
       "version_minor": 0
      },
      "text/plain": [
       "Production:   0%|          | 0/5000 [00:00<?, ?it/s]"
      ]
     },
     "metadata": {},
     "output_type": "display_data"
    },
    {
     "name": "stdout",
     "output_type": "stream",
     "text": [
      "Production Run in: 177.28917241096497 seconds\n",
      "Sampling at window: 8 out of 15\n"
     ]
    },
    {
     "data": {
      "application/vnd.jupyter.widget-view+json": {
       "model_id": "0f682eab11df4fc3aa9ee1f07a864445",
       "version_major": 2,
       "version_minor": 0
      },
      "text/plain": [
       "Minimization Win 8:   0%|          | 0/50 [00:00<?, ?it/s]"
      ]
     },
     "metadata": {},
     "output_type": "display_data"
    },
    {
     "name": "stdout",
     "output_type": "stream",
     "text": [
      "Minimization in: 3.0517735481262207 seconds\n",
      "Equilibration in: 0.02101922035217285 seconds\n"
     ]
    },
    {
     "data": {
      "application/vnd.jupyter.widget-view+json": {
       "model_id": "95c0b521900e4315a67671fd7ecbe511",
       "version_major": 2,
       "version_minor": 0
      },
      "text/plain": [
       "Production:   0%|          | 0/5000 [00:00<?, ?it/s]"
      ]
     },
     "metadata": {},
     "output_type": "display_data"
    },
    {
     "name": "stdout",
     "output_type": "stream",
     "text": [
      "Production Run in: 175.56186723709106 seconds\n",
      "Sampling at window: 9 out of 15\n"
     ]
    },
    {
     "data": {
      "application/vnd.jupyter.widget-view+json": {
       "model_id": "18d0af9c2b04475daa08ab9a5f38aaea",
       "version_major": 2,
       "version_minor": 0
      },
      "text/plain": [
       "Minimization Win 9:   0%|          | 0/50 [00:00<?, ?it/s]"
      ]
     },
     "metadata": {},
     "output_type": "display_data"
    },
    {
     "name": "stdout",
     "output_type": "stream",
     "text": [
      "Minimization in: 3.207918167114258 seconds\n",
      "Equilibration in: 0.021018266677856445 seconds\n"
     ]
    },
    {
     "data": {
      "application/vnd.jupyter.widget-view+json": {
       "model_id": "283a225303164bcfabb9edce76c45702",
       "version_major": 2,
       "version_minor": 0
      },
      "text/plain": [
       "Production:   0%|          | 0/5000 [00:00<?, ?it/s]"
      ]
     },
     "metadata": {},
     "output_type": "display_data"
    },
    {
     "name": "stdout",
     "output_type": "stream",
     "text": [
      "Production Run in: 176.11042666435242 seconds\n",
      "Sampling at window: 10 out of 15\n"
     ]
    },
    {
     "data": {
      "application/vnd.jupyter.widget-view+json": {
       "model_id": "cf6a87bad22e47d296930faa2eda4300",
       "version_major": 2,
       "version_minor": 0
      },
      "text/plain": [
       "Minimization Win 10:   0%|          | 0/50 [00:00<?, ?it/s]"
      ]
     },
     "metadata": {},
     "output_type": "display_data"
    },
    {
     "name": "stdout",
     "output_type": "stream",
     "text": [
      "Minimization in: 3.0878071784973145 seconds\n",
      "Equilibration in: 0.020018339157104492 seconds\n"
     ]
    },
    {
     "data": {
      "application/vnd.jupyter.widget-view+json": {
       "model_id": "0bfffd6fcfcf4b739e30204b308080a7",
       "version_major": 2,
       "version_minor": 0
      },
      "text/plain": [
       "Production:   0%|          | 0/5000 [00:00<?, ?it/s]"
      ]
     },
     "metadata": {},
     "output_type": "display_data"
    },
    {
     "name": "stdout",
     "output_type": "stream",
     "text": [
      "Production Run in: 175.90662455558777 seconds\n",
      "Sampling at window: 11 out of 15\n"
     ]
    },
    {
     "data": {
      "application/vnd.jupyter.widget-view+json": {
       "model_id": "42021b4ba58a4f0fa1b43a4e34742e75",
       "version_major": 2,
       "version_minor": 0
      },
      "text/plain": [
       "Minimization Win 11:   0%|          | 0/50 [00:00<?, ?it/s]"
      ]
     },
     "metadata": {},
     "output_type": "display_data"
    },
    {
     "name": "stdout",
     "output_type": "stream",
     "text": [
      "Minimization in: 2.962693214416504 seconds\n",
      "Equilibration in: 0.020018339157104492 seconds\n"
     ]
    },
    {
     "data": {
      "application/vnd.jupyter.widget-view+json": {
       "model_id": "218f8922cb4b48d9953928e529520b12",
       "version_major": 2,
       "version_minor": 0
      },
      "text/plain": [
       "Production:   0%|          | 0/5000 [00:00<?, ?it/s]"
      ]
     },
     "metadata": {},
     "output_type": "display_data"
    },
    {
     "name": "stdout",
     "output_type": "stream",
     "text": [
      "Production Run in: 178.66642451286316 seconds\n",
      "Sampling at window: 12 out of 15\n"
     ]
    },
    {
     "data": {
      "application/vnd.jupyter.widget-view+json": {
       "model_id": "549438a047fc4cc290bc7003c07f84a9",
       "version_major": 2,
       "version_minor": 0
      },
      "text/plain": [
       "Minimization Win 12:   0%|          | 0/50 [00:00<?, ?it/s]"
      ]
     },
     "metadata": {},
     "output_type": "display_data"
    },
    {
     "name": "stdout",
     "output_type": "stream",
     "text": [
      "Minimization in: 3.169881582260132 seconds\n",
      "Equilibration in: 0.02001953125 seconds\n"
     ]
    },
    {
     "data": {
      "application/vnd.jupyter.widget-view+json": {
       "model_id": "71e28236313444fb8d8c706c263970dc",
       "version_major": 2,
       "version_minor": 0
      },
      "text/plain": [
       "Production:   0%|          | 0/5000 [00:00<?, ?it/s]"
      ]
     },
     "metadata": {},
     "output_type": "display_data"
    },
    {
     "name": "stdout",
     "output_type": "stream",
     "text": [
      "Production Run in: 179.61680603027344 seconds\n",
      "Sampling at window: 13 out of 15\n"
     ]
    },
    {
     "data": {
      "application/vnd.jupyter.widget-view+json": {
       "model_id": "7356f33e851a4844ab511a0e1717a879",
       "version_major": 2,
       "version_minor": 0
      },
      "text/plain": [
       "Minimization Win 13:   0%|          | 0/50 [00:00<?, ?it/s]"
      ]
     },
     "metadata": {},
     "output_type": "display_data"
    },
    {
     "name": "stdout",
     "output_type": "stream",
     "text": [
      "Minimization in: 3.291992425918579 seconds\n",
      "Equilibration in: 0.020018577575683594 seconds\n"
     ]
    },
    {
     "data": {
      "application/vnd.jupyter.widget-view+json": {
       "model_id": "b6237540d0b940fbabc4951db1c4b176",
       "version_major": 2,
       "version_minor": 0
      },
      "text/plain": [
       "Production:   0%|          | 0/5000 [00:00<?, ?it/s]"
      ]
     },
     "metadata": {},
     "output_type": "display_data"
    },
    {
     "name": "stdout",
     "output_type": "stream",
     "text": [
      "Production Run in: 177.01259303092957 seconds\n",
      "Sampling at window: 14 out of 15\n"
     ]
    },
    {
     "data": {
      "application/vnd.jupyter.widget-view+json": {
       "model_id": "aec956abe16d47a28e790b85783f08d0",
       "version_major": 2,
       "version_minor": 0
      },
      "text/plain": [
       "Minimization Win 14:   0%|          | 0/50 [00:00<?, ?it/s]"
      ]
     },
     "metadata": {},
     "output_type": "display_data"
    },
    {
     "name": "stdout",
     "output_type": "stream",
     "text": [
      "Minimization in: 1.8136489391326904 seconds\n",
      "Equilibration in: 0.021018505096435547 seconds\n"
     ]
    },
    {
     "data": {
      "application/vnd.jupyter.widget-view+json": {
       "model_id": "1e011616b46d4df98d789a7047a80132",
       "version_major": 2,
       "version_minor": 0
      },
      "text/plain": [
       "Production:   0%|          | 0/5000 [00:00<?, ?it/s]"
      ]
     },
     "metadata": {},
     "output_type": "display_data"
    },
    {
     "name": "stdout",
     "output_type": "stream",
     "text": [
      "Production Run in: 177.6975429058075 seconds\n",
      "Sampling at window: 15 out of 15\n"
     ]
    },
    {
     "data": {
      "application/vnd.jupyter.widget-view+json": {
       "model_id": "fd5e36b1fe3b40c69351ef189a594ea1",
       "version_major": 2,
       "version_minor": 0
      },
      "text/plain": [
       "Minimization Win 15:   0%|          | 0/50 [00:00<?, ?it/s]"
      ]
     },
     "metadata": {},
     "output_type": "display_data"
    },
    {
     "name": "stdout",
     "output_type": "stream",
     "text": [
      "Minimization in: 2.870609998703003 seconds\n",
      "Equilibration in: 0.020018339157104492 seconds\n"
     ]
    },
    {
     "data": {
      "application/vnd.jupyter.widget-view+json": {
       "model_id": "61382d7a44384bf0937d179fb9acbcc8",
       "version_major": 2,
       "version_minor": 0
      },
      "text/plain": [
       "Production:   0%|          | 0/5000 [00:00<?, ?it/s]"
      ]
     },
     "metadata": {},
     "output_type": "display_data"
    },
    {
     "name": "stdout",
     "output_type": "stream",
     "text": [
      "Production Run in: 173.38160920143127 seconds\n"
     ]
    }
   ],
   "source": [
    "import time\n",
    "## the main loop to run umbrella sampling window by window\n",
    "st = time.time()\n",
    "\n",
    "for window in range(M):\n",
    "    s = time.time()\n",
    "    print(f\"Sampling at window: {window+1} out of {M}\")\n",
    "    \n",
    "    ## set the center of the biasing potential\n",
    "    context.setParameter(\"r0\", umbrella_centers[window])\n",
    "\n",
    "    ## minimize\n",
    "    context.setPositions(pdb.positions)\n",
    "    state = context.getState(getEnergy = True)\n",
    "    energy = state.getPotentialEnergy()\n",
    "    for i in tqdm_notebook(range(50), desc=\"Minimization Win {}\".format(window+1)):\n",
    "        omm.LocalEnergyMinimizer_minimize(context, 1, 20)\n",
    "        state = context.getState(getEnergy = True)\n",
    "        energy = state.getPotentialEnergy()\n",
    "        \n",
    "    print(\"Minimization in:\", str(time.time() - s), \"seconds\")\n",
    "    s = time.time()\n",
    "    \n",
    "    ## initial equilibrium\n",
    "    integrator.step(500)\n",
    "    \n",
    "    print(\"Equilibration in:\", str(time.time() - s), \"seconds\")\n",
    "    s = time.time()\n",
    "\n",
    "    ## sampling production. trajectories are saved in dcd files\n",
    "    #file_handle = open(f\"trajectories/traj_{window+1}_US_test.dcd\", 'bw')\n",
    "    file_handle = open(f\"trajectories/long_traj/traj_win{window+1}_US.dcd\", 'bw')\n",
    "    dcd_file = omm_app.dcdfile.DCDFile(file_handle, psf.topology, dt = stepsize)\n",
    "    for i in tqdm_notebook(range(5000), desc=\"Production\"):\n",
    "        integrator.step(100)\n",
    "        state = context.getState(getPositions = True)\n",
    "        positions = state.getPositions()\n",
    "        dcd_file.writeModel(positions)\n",
    "    file_handle.close()\n",
    "    print(\"Production Run in:\", str(time.time() - s), \"seconds\")"
   ]
  },
  {
   "cell_type": "code",
   "execution_count": null,
   "id": "bf83fcb1-3ee9-4809-8a5c-71200d9f1c86",
   "metadata": {},
   "outputs": [],
   "source": []
  },
  {
   "cell_type": "code",
   "execution_count": null,
   "id": "f2cacd03-0f82-4f30-a360-2bff9648ae64",
   "metadata": {},
   "outputs": [],
   "source": []
  },
  {
   "cell_type": "code",
   "execution_count": null,
   "id": "7e0014db-b4f4-4b51-b7d6-6a0d059564f3",
   "metadata": {},
   "outputs": [],
   "source": []
  },
  {
   "cell_type": "code",
   "execution_count": null,
   "id": "d68b6713-3329-4fa1-8bdf-0ad57de801a3",
   "metadata": {},
   "outputs": [],
   "source": []
  }
 ],
 "metadata": {
  "kernelspec": {
   "display_name": "Python 3 (ipykernel)",
   "language": "python",
   "name": "python3"
  },
  "language_info": {
   "codemirror_mode": {
    "name": "ipython",
    "version": 3
   },
   "file_extension": ".py",
   "mimetype": "text/x-python",
   "name": "python",
   "nbconvert_exporter": "python",
   "pygments_lexer": "ipython3",
   "version": "3.7.12"
  }
 },
 "nbformat": 4,
 "nbformat_minor": 5
}
